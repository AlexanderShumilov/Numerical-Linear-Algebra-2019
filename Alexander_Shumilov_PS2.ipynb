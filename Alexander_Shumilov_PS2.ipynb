{
 "cells": [
  {
   "cell_type": "markdown",
   "metadata": {},
   "source": [
    "## Alexander Shumilov, IST, 2019"
   ]
  },
  {
   "cell_type": "markdown",
   "metadata": {},
   "source": [
    "# Problem set 2 (145 pts)"
   ]
  },
  {
   "cell_type": "markdown",
   "metadata": {},
   "source": [
    "## Problem 1 (LU decomposition) 25 pts"
   ]
  },
  {
   "cell_type": "markdown",
   "metadata": {},
   "source": [
    "### 1. LU for band matrices (7 pts)\n",
    "\n",
    "The complexity to find an LU decomposition of a dense $n\\times n$ matrix is $\\mathcal{O}(n^3)$.\n",
    "Significant reduction in complexity can be achieved if the matrix has a certain structure, e.g. it is sparse. \n",
    "In the following task we consider an important example of $LU$ for a special type of sparse matrices –– band matrices with the bandwidth $m$ equal to 3 or 5 which called tridiagonal and pentadiagonal respectively.\n",
    "\n",
    "- (5 pts) Write a function ```band_lu(diag_broadcast, n)``` which computes LU decomposition for tridiagonal or pentadiagonal matrix with given diagonal values. \n",
    "For example, input parametres ```(diag_broadcast = [4,-2,1], n = 4)``` mean that we need to find LU decomposition for the triangular matrix of the form:\n",
    "\n",
    "$$A = \\begin{pmatrix}\n",
    "-2 & 1 & 0 & 0\\\\\n",
    "4 & -2 & 1 & 0 \\\\\n",
    "0 & 4 & -2 & 1 \\\\\n",
    "0 & 0 & 4 & -2 \\\\\n",
    "\\end{pmatrix}.$$\n",
    "\n",
    "As an output it is considered to make ```L``` and ```U``` - 2D arrays representing diagonals in factors $L$ (```L[0]``` keeps first lower diagonal, ```L[1]``` keeps second lower, ...), and $U$ (```U[:,0]``` keeps main diagonal, ```U[:,1]``` keeps first upper, ...).\n",
    "- (2 pts) Compare execution time of the band LU decomposition using standard function from ```scipy```, i.e. which takes the whole matrix and does not know about its special structure, and band decomposition of yours implementation. Comment on the results."
   ]
  },
  {
   "cell_type": "markdown",
   "metadata": {},
   "source": [
    "#### Ideas and comments\n",
    "As I understand, we shoul work only with 3-diagonal and 5-diagonal matrices, so the programm will consist of 2 parts - for 3 and 5 diagonal case respectively. Convenience - we can store less elements since matrix is sparse. \n",
    "General overview and algorithm for 3-diagonal is nicely written here: https://www.webpages.uidaho.edu/~barannyk/Teaching/LU_factorization_tridiagonal.pdf (misprint in L matrix at the very beginning), so I think I don't need to explain in details (using a lot of LaTex) how exactly I got formulas I am using.\n",
    "<br>\n",
    "Let's look at the 3-diagonal matrix as a toy example to understand the structure (I use indexing of $l, u$ corresponding to the task):\n",
    "<br>\n",
    "\n",
    "$\n",
    "\\begin{bmatrix}\n",
    "a_{11} & a_{12} & 0\\\\\n",
    "a_{21} & a_{11} & a_{12} \\\\\n",
    "0 & a_{21} & a_{11}\n",
    "\\end{bmatrix} = \n",
    "\\begin{bmatrix}\n",
    "1 & 0 & 0\\\\\n",
    "l_{1} & 1 & 0 \\\\\n",
    "0 & l_{2} & 1\n",
    "\\end{bmatrix} \\cdot\n",
    "\\begin{bmatrix}\n",
    "u_{11} & u_{12} & 0 \\\\\n",
    "0 & u_{21} & u_{13} \\\\\n",
    "0 & 0 & u_{31}\n",
    "\\end{bmatrix} =\n",
    "\\begin{bmatrix}\n",
    "u_{11} & u_{12} & 0\\\\\n",
    "l_{1}u_{11} & l_{1}u_{12}+u_{21} & u_{13} \\\\\n",
    "0 & l_{2}u_{21} & l_{2}u_{13}+u_{31}\n",
    "\\end{bmatrix} \\\\\n",
    "$\n",
    "\n",
    "<br>\n",
    "\n",
    "For 5-diagonal it is a bit more compicated, here I found all information we need to solve the task (maybe even more):\n",
    "https://arxiv.org/pdf/1409.4802.pdf"
   ]
  },
  {
   "cell_type": "code",
   "execution_count": 261,
   "metadata": {},
   "outputs": [],
   "source": [
    "from scipy.sparse import diags # can be used with broadcasting of scalars if desired dimensions are large\n",
    "import numpy as np\n",
    "from math import isinf\n",
    "from scipy.linalg import lu\n",
    "\n",
    "# INPUT : diag_broadcast - list of diagonals value to broadcast,length equal to 3 or 5; n - integer, band matrix shape.\n",
    "# OUTPUT : L - 2D np.ndarray, L.shape[0] depends on bandwidth, L.shape[1] = n-1, do not store main diagonal, where all ones;                  add zeros to the right side of rows to handle with changing length of diagonals.\n",
    "#          U - 2D np.ndarray, U.shape[0] = n, U.shape[1] depends on bandwidth;\n",
    "#              add zeros to the bottom of columns to handle with changing length of diagonals.\n",
    "def band_lu(diag_broadcast, n):\n",
    "    flag = 1 # To raise proper exception\n",
    "    if (len(diag_broadcast) == 3):\n",
    "        flag = 0\n",
    "        L = np.zeros(n-1)\n",
    "        U = np.zeros((n, 2))\n",
    "        a_11 = diag_broadcast[1] # Main diagonal\n",
    "        a_21 = diag_broadcast[0] # Lower\n",
    "        a_12 = diag_broadcast[2] # Upper\n",
    "        \n",
    "        U[0][0] = a_11 # What we are know from the start, kind of initial conditions for cycle below\n",
    "        U[0: n-1,1] = a_12\n",
    "        \n",
    "        for i in range(1, n): \n",
    "            if isinf(1/U[i-1][0]) : raise Exception(\"Division by 0\") # Exception for division by 0\n",
    "            L[i-1] = a_21/U[i-1][0]\n",
    "            U[i][0] = a_11 - a_12*L[i-1]  \n",
    "        L = L.reshape(1, n-1)\n",
    "        \n",
    "    if (len(diag_broadcast) == 5):\n",
    "        flag = 0\n",
    "        #L = np.zeros((n-1, 2))\n",
    "        L = np.zeros((2, n-1))\n",
    "        U = np.zeros((n, 3))\n",
    "        a_11 = diag_broadcast[2] # Main diagonal\n",
    "        a_12 = diag_broadcast[3] # Upper\n",
    "        a_13 = diag_broadcast[4] # Upper-Right\n",
    "        a_21 = diag_broadcast[1] # Lower\n",
    "        a_32 = diag_broadcast[0] # Lower-Left\n",
    "        \n",
    "        U[0][0] = a_11\n",
    "        U[0][1] = a_12\n",
    "        U[0: n-2,2] = a_13\n",
    "        \n",
    "        for i in range(1, n):\n",
    "            if isinf(1/U[i-1][0]) : raise Exception(\"Division by 0 during elimination process, LU does not exist\") # Exception for division by 0\n",
    "            L[0][i-1] = (a_21 - U[i-2][1]*L[1][i-2] )/U[i-1][0]\n",
    "            L[1][i-1] = a_32/U[i-1][0]\n",
    "            U[i][0] = a_11 - U[i-1][1]*L[0][i-1] - U[i-2][2]*L[1][i-2] \n",
    "            U[i][1] = a_12 - U[i-1][2]*L[0][i-1] \n",
    "            if i >= n - 1:\n",
    "                U[i][1] = 0 # Filling extra entries with zeros\n",
    "                L[1][i-1] = 0\n",
    "       \n",
    "    if flag: raise Exception(\"Division by 0 during elimination process, LU does not exist\")\n",
    "    return L, U\n",
    "    raise NotImplementedError() "
   ]
  },
  {
   "cell_type": "markdown",
   "metadata": {},
   "source": [
    "To reconstruct the matrix from diag_broadcast I will use \"diags\" function:"
   ]
  },
  {
   "cell_type": "code",
   "execution_count": 262,
   "metadata": {},
   "outputs": [],
   "source": [
    "#d = [4, -2, 1, 9, 7]\n",
    "d = [5, 6, 7]\n",
    "n = 10000\n",
    "\n",
    "if (len(d) == 3):\n",
    "    diagonals = [[d[2] for i in range(n-1)], [d[1] for i in range(n)], [d[0] for i in range(n-1)]]\n",
    "    A = diags(diagonals, [1, 0, -1]).toarray()\n",
    "if (len(d) == 5):\n",
    "    diagonals = [[d[4] for i in range(n-2)], [d[3] for i in range(n-1)], [d[2] for i in range(n)], [d[1] for i in range(n-1)], [d[0] for i in range(n-2)]]\n",
    "    A = diags(diagonals, [2, 1, 0, -1, -2]).toarray()"
   ]
  },
  {
   "cell_type": "markdown",
   "metadata": {},
   "source": [
    "Self-check"
   ]
  },
  {
   "cell_type": "code",
   "execution_count": 263,
   "metadata": {},
   "outputs": [
    {
     "name": "stdout",
     "output_type": "stream",
     "text": [
      "Oroginal martix\n",
      "[[3. 1. 0.]\n",
      " [1. 3. 1.]\n",
      " [0. 1. 3.]] \n",
      "\n",
      "Scipy L:\n",
      " [[1.         0.         0.        ]\n",
      " [0.33333333 1.         0.        ]\n",
      " [0.         0.375      1.        ]] \n",
      " Scipy U:\n",
      " [[3.         1.         0.        ]\n",
      " [0.         2.66666667 1.        ]\n",
      " [0.         0.         2.625     ]] \n",
      "\n",
      "Our L-array:\n",
      " [[0.33333333 0.375     ]] \n",
      " Our U-band:\n",
      " [[3.         1.        ]\n",
      " [2.66666667 1.        ]\n",
      " [2.625      0.        ]]\n"
     ]
    }
   ],
   "source": [
    "# Let's check whether we are doing it right - everything works!\n",
    "n = 3\n",
    "d = [1, 3, 1] # for this diagonal everything will work fine (lu from scipy will have exactly \"band\" form)\n",
    "#d = [1, 3, 5, 3, 1]\n",
    "\n",
    "if (len(d) == 3):\n",
    "    diagonals = [[d[2] for i in range(n-1)], [d[1] for i in range(n)], [d[0] for i in range(n-1)]]\n",
    "    A = diags(diagonals, [1, 0, -1]).toarray()\n",
    "if (len(d) == 5):\n",
    "    diagonals = [[d[4] for i in range(n-2)], [d[3] for i in range(n-1)], [d[2] for i in range(n)], [d[1] for i in range(n-1)], [d[0] for i in range(n-2)]]\n",
    "    A = diags(diagonals, [2, 1, 0, -1, -2]).toarray()\n",
    "\n",
    "print('Oroginal martix')\n",
    "print(A,'\\n')\n",
    "_, l, u = lu(A)\n",
    "print('Scipy L:\\n', l, '\\n', 'Scipy U:\\n', u, '\\n')\n",
    "L, U = band_lu(d, n)\n",
    "print('Our L-array:\\n', L, '\\n', 'Our U-band:\\n', U)"
   ]
  },
  {
   "cell_type": "markdown",
   "metadata": {},
   "source": [
    "Profiling using timeit:"
   ]
  },
  {
   "cell_type": "code",
   "execution_count": 267,
   "metadata": {},
   "outputs": [
    {
     "name": "stdout",
     "output_type": "stream",
     "text": [
      "Time for band_lu for 100 iterations =  0.007822799998393748 s\n",
      "Time for lu for 100 iterations =  0.010640699998475611 s\n"
     ]
    }
   ],
   "source": [
    "import timeit # Based on example from timeit manual from docs.python.org\n",
    "print(\"Time for band_lu for 1000 iterations = \", timeit.timeit(\"band_lu(d,n)\", setup=\"from __main__ import band_lu, d, n\", number=1000), \"s\")\n",
    "print(\"Time for lu for 1000 iterations = \", timeit.timeit(\"lu(A)\", setup=\"from __main__ import lu, A\", number=1000), \"s\")\n"
   ]
  },
  {
   "cell_type": "markdown",
   "metadata": {},
   "source": [
    "As it was expected scipy is significantly slower, because it does not treat initial matrix as sparse and has to store more information and perform more operations. Our band method is much more usefull in this case for exactly same reasons (because, as we have also discussed on lectures, computational cost is more determined by the total number of non-zero elements of initial matrix)."
   ]
  },
  {
   "cell_type": "markdown",
   "metadata": {},
   "source": [
    "### 2. Stability of LU (8 pts)\n",
    "\n",
    "Let\n",
    "$A = \\begin{pmatrix}\n",
    "\\varepsilon & 1 & 0\\\\\n",
    "1 & 1 & 1 \\\\\n",
    "0 & 1 & 1\n",
    "\\end{pmatrix}.$ \n",
    "* (5 pts) Find analytically LU decomposition with and without pivoting for the matrix $A$.\n",
    "* (3 pts) Explain, why can the LU decomposition fail to approximate factors $L$ and $U$ for $|\\varepsilon|\\ll 1$ in computer arithmetic?"
   ]
  },
  {
   "cell_type": "markdown",
   "metadata": {},
   "source": [
    "### Solution\n",
    "#### 1.\n",
    "<br>\n",
    "a) We can do pivoting, i.e. permute rows (as we discussed on lectures) in order to maximize $A_{ii}$ that we divide over. So we should get decomposition in form $PLA$, were $P$ - permutation matrix. So the first step - to switch $1^{st}$ and $2^{nd}$ row.\n",
    "<br>\n",
    "$\n",
    "\\begin{bmatrix}\n",
    "\\varepsilon & 1 & 0 \\\\\n",
    "1 & 1 & 1 \\\\\n",
    "0 & 1 & 1\n",
    "\\end{bmatrix} \\rightarrow\n",
    "\\begin{bmatrix}\n",
    "1 & 1 & 1 \\\\\n",
    "\\varepsilon & 1 & 0 \\\\\n",
    "0 & 1 & 1\n",
    "\\end{bmatrix} \\Rightarrow\n",
    "P = \n",
    "\\begin{bmatrix}\n",
    "0 & 1 & 0 \\\\\n",
    "1 & 0 & 0 \\\\\n",
    "0 & 0 & 1\n",
    "\\end{bmatrix} - \\text{Our permutation matrix} \\rightarrow\n",
    "A = PLU \\Rightarrow P^{-1}A = LU \\\\\n",
    "P^{-1} = \\frac{1}{\\det P} P^T_{adj} = P \\Rightarrow\n",
    "\\begin{bmatrix}\n",
    "1 & 1 & 1 \\\\\n",
    "\\varepsilon & 1 & 0 \\\\\n",
    "0 & 1 & 1\n",
    "\\end{bmatrix} =\n",
    "\\bigg\\\\\n",
    "\\text{we will substract second row multiplied by } \\varepsilon \\text{ from third row: }  \n",
    "\\bigg\\\\ =\n",
    "\\begin{bmatrix}\n",
    "1 & 1 & 1\\\\\n",
    "0 & 1-\\varepsilon & -\\varepsilon \\\\\n",
    "0 & 1 & 1\n",
    "\\end{bmatrix} = \n",
    "\\bigg\\\\\n",
    "\\text{we will substract third row multiplied by } \\cfrac{1}{1-\\varepsilon} \\text{ from second row: }  \n",
    "\\bigg\\\\ =\n",
    "\\begin{bmatrix}\n",
    "1 & 1 & 1\\\\\n",
    "0 & 1-\\varepsilon & -\\varepsilon \\\\\n",
    "0 & 0 & 1+\\frac{\\varepsilon}{1-\\varepsilon}\n",
    "\\end{bmatrix} =\n",
    "\\begin{bmatrix}\n",
    "1 & 1 & 1\\\\\n",
    "0 & 1-\\varepsilon & -\\varepsilon \\\\\n",
    "0 & 0 & \\frac{1}{1-\\varepsilon}\n",
    "\\end{bmatrix} \\Rightarrow \\\\ \n",
    "$\n",
    "Now we can obtain such $L$ that $A = PLU$:\n",
    "$\n",
    "A =\n",
    "P\n",
    "\\begin{bmatrix}\n",
    "1 & 0 & 0\\\\\n",
    "\\varepsilon & 1 & 0 \\\\\n",
    "0 & \\frac{1}{1-\\varepsilon} & 1\n",
    "\\end{bmatrix} \\cdot\n",
    "\\begin{bmatrix}\n",
    "1 & 1 & 1\\\\\n",
    "0 & 1-\\varepsilon& -\\varepsilon  \\\\\n",
    "0 & 0 &  \\frac{1}{1-\\varepsilon}\n",
    "\\end{bmatrix}\n",
    "$\n",
    "<br>\n",
    "b) Without pivoting we will find exact elements of $L$ and $U$ matrices using simple elimination (considering $L$ with $1$ on the diagonal as we did on lectures):\n",
    "<br>\n",
    "$\n",
    "\\begin{bmatrix}\n",
    "\\varepsilon & 1 & 0 \\\\\n",
    "1 & 1 & 1 \\\\\n",
    "0 & 1 & 1\n",
    "\\end{bmatrix} =\n",
    "\\begin{bmatrix}\n",
    "1 & 0 & 0\\\\\n",
    "l_{21} & 1 & 0 \\\\\n",
    "l_{31} & l_{32} & 1\n",
    "\\end{bmatrix} \\cdot\n",
    "\\begin{bmatrix}\n",
    "u_{11} & u_{12} & u_{13} \\\\\n",
    "0 & u_{22} & u_{23} \\\\\n",
    "0 & 0 & u_{33}\n",
    "\\end{bmatrix} =\n",
    "\\begin{bmatrix}\n",
    "u_{11} & u_{12} & u_{13}\\\\\n",
    "l_{21}u_{11} & l_{21}u_{12}+u_{22} & l_{21}u_{13}+u_{23} \\\\\n",
    "l_{31}u_{11} & l_{31}u_{12}+l_{32}u_{22} & l_{31}u_{13}+l_{32}u_{23}+u_{33}\n",
    "\\end{bmatrix} \\Rightarrow\n",
    "\\begin{cases}\n",
    "  u_{11} = \\varepsilon \\rightarrow l_{21} = \\frac{1}{u_{11}} = \\frac{1}{\\varepsilon} \\\\\n",
    "  u_{12} = 1 \\rightarrow u_{22} = 1 - 1 \\cdot \\frac{1}{\\varepsilon} = \\frac{\\varepsilon - 1}{\\varepsilon} \\\\\n",
    "  u_{13} = 0 \\rightarrow u_{23} = 1 - 0 \\cdot \\frac{1}{\\varepsilon} = 1 \\\\\n",
    "\\end{cases} \\Rightarrow\n",
    "\\begin{cases}\n",
    "  l_{31} = \\frac{0}{\\varepsilon} = 0 \\\\\n",
    "  l_{32} = (1 - 0) : \\frac{\\varepsilon - 1}{\\varepsilon} = \\frac{\\varepsilon}{\\varepsilon - 1} \\\\\n",
    "  u_{33} = 1- 0 - \\frac{\\varepsilon - 1}{\\varepsilon} \\cdot 1 = \\frac{1}{1 - \\varepsilon} \\\\\n",
    "\\end{cases} \\Rightarrow\n",
    "\\begin{bmatrix}\n",
    "\\varepsilon & 1 & 0 \\\\\n",
    "1 & 1 & 1 \\\\\n",
    "0 & 1 & 1\n",
    "\\end{bmatrix} =\n",
    "\\begin{bmatrix}\n",
    "1 & 0 & 0\\\\\n",
    "\\frac{1}{\\varepsilon} & 1 & 0 \\\\\n",
    "0 & \\frac{\\varepsilon}{\\varepsilon - 1} & 1\n",
    "\\end{bmatrix} \\cdot\n",
    "\\begin{bmatrix}\n",
    "\\varepsilon & 1 & 0 \\\\\n",
    "0 & \\frac{\\varepsilon - 1}{\\varepsilon} & 1 \\\\\n",
    "0 & 0 & \\frac{1}{1 - \\varepsilon} \n",
    "\\end{bmatrix}\n",
    "$\n",
    "<br>\n",
    "\n",
    "#### 2.\n",
    "As we discussed on lectures, it happens because of the details of division operation. Let's take a closer look at the problem without pivoting: here we perform such operations as $\\frac{1}{\\varepsilon},\\frac{\\varepsilon}{{\\varepsilon}^2},\\frac{\\varepsilon-1}{\\varepsilon}, \\ldots$ to compute $u_{ij}, l_{ij}$ (assuming $\\varepsilon$, for example $10^{-12}$). Computing such numbers, we multiply by a large value and getting large error. That is why $LU$ decomposition fails. "
   ]
  },
  {
   "cell_type": "markdown",
   "metadata": {},
   "source": [
    "### 3. Block LU (10 pts)\n",
    "\n",
    "Let $A = \\begin{bmatrix} A_{11} & A_{12} \\\\ A_{21} & A_{22} \\end{bmatrix}$ be a block matrix. The goal is to solve the linear system\n",
    "\n",
    "$$\n",
    "     \\begin{bmatrix} A_{11} & A_{12} \\\\ A_{21} & A_{22} \\end{bmatrix} \\begin{bmatrix} u_1 \\\\ u_2 \\end{bmatrix} = \\begin{bmatrix} f_1 \\\\ f_2 \\end{bmatrix}.\n",
    "$$\n",
    "\n",
    "* (2 pts) Using block elimination find matrix $S$ and right-hand side $\\hat{f_2}$ so that $u_2$ can be found from $S u_2 = \\hat{f_2}$. Note that the matrix $S$ is called <font color='red'> Schur complement </font> of the block $A_{11}$.\n",
    "* (4 pts) Using Schur complement properties prove that \n",
    "\n",
    "$$\\det(X+AB) = \\det(X)\\det(I+BX^{-1}A), $$\n",
    "\n",
    "\n",
    "where $X$ - nonsingular square matrix.\n",
    "* (4 pts) Let matrix $F \\in \\mathbb{R}^{m \\times n}$ and $G \\in \\mathbb{R}^{n \\times m}$. Prove that \n",
    "\n",
    "$$\\det(I_m - FG) = \\det(I_n - GF).$$"
   ]
  },
  {
   "cell_type": "markdown",
   "metadata": {},
   "source": [
    "### Solutions\n",
    "#### 1. \n",
    "$\n",
    "\\begin{bmatrix} \n",
    "A_{11} & A_{12} \\\\ \n",
    "A_{21} & A_{22} \n",
    "\\end{bmatrix} =\n",
    "\\begin{bmatrix} \n",
    "L_{11} & 0 \\\\ \n",
    "L_{21} & L_{22} \n",
    "\\end{bmatrix} \\cdot\n",
    "\\begin{bmatrix} \n",
    "U_{11} & U_{12} \\\\ \n",
    "0 & U_{22} \n",
    "\\end{bmatrix} = \n",
    "\\begin{bmatrix} \n",
    "L_{11}U_{11} & L_{11}U_{12} \\\\ \n",
    "L_{21}U_{11} & L_{21}U_{12} + L_{22}U_{22} \n",
    "\\end{bmatrix} \\Rightarrow\n",
    "\\begin{cases}\n",
    "  A_{11} = L_{11}U_{11} \\Rightarrow U_{11} = L_{11}^{-1}A_{11} \\\\\n",
    "  A_{12} = L_{11}U_{12} \\Rightarrow U_{12} = L_{11}^{-1}A_{12} \\\\\n",
    "\\end{cases} \\Rightarrow\n",
    "\\begin{cases}\n",
    "  A_{21} = L_{21}U_{11} \\Rightarrow L_{21} = A_{21}U_{11}^{-1} = A_{21}A_{11}^{-1}L_{11} \\\\\n",
    "  L_{22}U_{22}  = A_{22} - L_{21}U_{12} = A_{22} - A_{21}{A_{11}}^{-1}L_{11}L_{11}^{-1}A_{12} = \n",
    "  A_{22} - A_{21}A_{11}^{-1}A_{12}\\\\\n",
    "\\end{cases} \\\\ \n",
    "\\text{Let } S = L_{22}U_{22} = A_{22} - A_{21}A_{11}^{-1}A_{12} \\rightarrow\n",
    "\\hat{f_2} = Su_2 = (A_{22} - A_{21}A_{11}^{-1}A_{12})u_2 = \n",
    "A_{22}u_2 - A_{21}A_{11}^{-1}A_{12}u_2 = \n",
    "\\bigg\\\\ \n",
    "\\begin{bmatrix} \n",
    "A_{11} & A_{12} \\\\ \n",
    "A_{21} & A_{22} \n",
    "\\end{bmatrix}\n",
    "\\begin{bmatrix} \n",
    "u_1 \\\\ \n",
    "u_2 \n",
    "\\end{bmatrix} = \n",
    "\\begin{bmatrix}\n",
    "f_1 \\\\ \n",
    "f_2 \n",
    "\\end{bmatrix}\n",
    "\\bigg\\\\ =\n",
    "f_2 - A_{21}u_1 - A_{21}A_{11}^{-1}(f_1 - A_{11}u_1) =\n",
    "f_1 - A_{11}u_1 - A_{21}A_{11}^{-1}f_2 - A_{21}A_{11}^{-1}A_{11}u_1 = \n",
    "f_2 - A_{21}A_{11}^{-1}f_1 \\Rightarrow \\\\\n",
    "\\text{Answer:  }\n",
    "\\begin{cases}\n",
    "  S = A_{22} - A_{21}A_{11}^{-1}A_{12} \\\\\n",
    "  \\hat{f_2} = f_2 - A_{21}A_{11}^{-1}f_1\n",
    "\\end{cases} \\\\ \n",
    "$\n",
    "<br>\n",
    "#### 2. \n",
    "Here we should construct such matrix $C$ that will fullfill given condition. So be it. From $S = A_{22} - A_{21}A_{11}^{-1}A_{12} = I+BX^{-1}A$ (also because we know what determinant we should get) we will obtain our matrix $C$:\n",
    "<br>\n",
    "\n",
    "$\n",
    "C = \n",
    "\\begin{bmatrix} \n",
    "X & A \\\\ \n",
    "-B & I \n",
    "\\end{bmatrix} =\n",
    "\\begin{bmatrix} \n",
    "X & 0 \\\\ \n",
    "0 & I \n",
    "\\end{bmatrix} \n",
    "\\begin{bmatrix} \n",
    "I & X^{-1}A \\\\ \n",
    "-B & I \n",
    "\\end{bmatrix} = \n",
    "\\begin{bmatrix} \n",
    "X & 0 \\\\ \n",
    "0 & I \n",
    "\\end{bmatrix} \n",
    "\\begin{bmatrix} \n",
    "I & 0 \\\\ \n",
    "-B & I \n",
    "\\end{bmatrix} \n",
    "\\begin{bmatrix} \n",
    "I & X^{-1}A \\\\ \n",
    "0 & I-(-B)X^{-1}A\n",
    "\\end{bmatrix} \\Rightarrow \\\\\n",
    "\\det C = \\det (X + AB) = \\det X \\cdot \\det I \\cdot \\det (I + BX^{-1}A) = \\det X \\cdot \\det (I + BX^{-1}A)\n",
    "$\n",
    "<br>\n",
    "\n",
    "#### 3. \n",
    "Standard proof:\n",
    "\n",
    "Let $FGx=\\lambda x$, where $\\lambda$ - eigenvalue of matrix $FG$, $x$ - corresponding eigenvector. Thus: <br>\n",
    "$G(FG)x = \\lambda Gx = (GF)Vx \\Rightarrow \\lambda$ - eigenvalue and $Gx$ - eigenvector $\\lambda$ of $GF$. \n",
    "\n",
    "Moreover if $Gx = 0$ then from  $FGx = λx$ we get $\\lambda = 0 \\Rightarrow$ We assume $Gx \\neq 0 \\Rightarrow$  $\\lambda$ is either same eigenvalue of both $FG, GF$ or is $0$ (because $\\lambda$ in the RHS will be the same whether we multiplying by $F$ or $G$, which also leads to the conservation of the multiplicity of eigenvalues). \n",
    "\n",
    "So the spectrum of $FG$ and $GF$ is the same - one set of eigenvalues and $0 \\Rightarrow \\det(I_m - FG) = \\det(I_n - GF)$, since roots of characteristic polynomials will be exactly the same.\n",
    "\n",
    "Usefull source: http://www.cari-info.org/cari-2012/session%203/3A2.pdf\n",
    "\n",
    "But since in this particular set of problems we work with Schur, this statement can be proved in the similar way:\n",
    "<br>\n",
    "$\n",
    "C = \n",
    "\\begin{bmatrix} \n",
    "I_m & F \\\\ \n",
    "G & I_n \n",
    "\\end{bmatrix} =\n",
    "\\begin{bmatrix} \n",
    "I_m & 0 \\\\ \n",
    "0 & I_n \n",
    "\\end{bmatrix} \n",
    "\\begin{bmatrix} \n",
    "I_m & I^{-1}_m F \\\\ \n",
    "G & I_n \n",
    "\\end{bmatrix} = \n",
    "\\begin{bmatrix} \n",
    "I_m & 0 \\\\ \n",
    "0 & I_n \n",
    "\\end{bmatrix} \n",
    "\\begin{bmatrix} \n",
    "I_m & 0 \\\\ \n",
    "G & I_n \n",
    "\\end{bmatrix} \n",
    "\\begin{bmatrix} \n",
    "I_m & I^{-1}_m F \\\\ \n",
    "0 & I_n - G I^{-1}_m F\n",
    "\\end{bmatrix} \\Rightarrow \\\\\n",
    "\\det C = \\det (I_m - FG) = \\det I_m \\cdot \\det I_n \\cdot \\det (I_n - GI^{-1}_m F) = \\det (I_n - GF)\n",
    "$"
   ]
  },
  {
   "cell_type": "markdown",
   "metadata": {
    "slideshow": {
     "slide_type": "fragment"
    }
   },
   "source": [
    "## Problem 2 (QR decomposition) 30 pts\n",
    "\n",
    "### 1. Standard Gram-Schmidt algorithm (18 pts)\n",
    "Our goal is to orthogonalize a system of linearly independent vectors $v_1,\\dots,v_n$.\n",
    "The standard algorithm for this task is the Gram-Schmidt process:\n",
    "\n",
    "$$\n",
    "\\begin{split}\n",
    "u_1 &= v_1, \\\\\n",
    "u_2 &= v_2 - \\frac{(v_2, u_1)}{(u_1, u_1)} u_1, \\\\\n",
    "\\dots \\\\\n",
    "u_n &= v_n - \\frac{(v_n, u_1)}{(u_1, u_1)} u_1 - \\frac{(v_n, u_2)}{(u_2, u_2)} u_2 - \\dots - \\frac{(v_n, u_{n-1})}{(u_{n-1}, u_{n-1})} u_{n-1}.\n",
    "\\end{split}\n",
    "$$\n",
    "\n",
    "Obtained $u_1, \\dots, u_n$ are orthogonal vectors in exact arithmetics. Then to make the system orthonormal you should divide each of the vectors by its norm: $u_i := u_i/\\|u_i\\|$.\n",
    "The Gram-Schmidt process can be considered as a QR decomposition. Let us show that."
   ]
  },
  {
   "cell_type": "markdown",
   "metadata": {},
   "source": [
    "* (2 pts) Write out what is matrices $Q$ and $R$ obtained in the process above. \n",
    "\n",
    "* (5 pts) Implement the described Gram-Schmidt algorithm as a function ```gram_schmidt_qr(A)``` that takes a rectangular matrix ```A``` and outputs ```Q,R```.\n",
    "\n",
    "* (3 pts) Create a rectangular matrix $K = [x, Ax, A^2x, \\ldots, A^kx]$ where $A \\in \\mathbb{R}^{100 \\times 100}$ is a random matrix and $x$ is a random vector of the appropriate dimension, $k = 20$.  \n",
    "The loss of orthogonality can be described by the following error: $\\|Q^{\\top}Q-I\\|_2$, where $Q^{\\top}Q$ is called a Gram matrix. Compute QR decomposition of the created matrix $K$ with function that you have implemented and calculate error $\\|Q^{\\top}Q-I\\|_2$. Comment on the result.\n",
    "\n",
    "* (5 pts) The observed loss of orthogonality is a problem of this particular algorithm. Luckily, there is [a simple improvement to the algorithm above](https://en.wikipedia.org/wiki/Gram–Schmidt_process#Numerical_stability) that reduces the loss of orthogonality. Implement this modification as a function ```modified_gram_schmidt_qr(A)``` such that input and output are similar to ```gram_schmidt_qr(A)```. \n",
    "* (3 pts) Compute QR decomposition of the matrix $K$ from the previous task with the function ```modified_gram_schmidt_qr(A)```.\n",
    "Compute error $\\|Q^{\\top}Q-I\\|_2$. Compare this error to the error obtained with a \"pure\" Gram-Schmidt and comment on the result."
   ]
  },
  {
   "cell_type": "markdown",
   "metadata": {},
   "source": [
    "Let $ e_i = \\cfrac{u_i}{\\|u_i\\|_2} =  \\cfrac{u_i}{\\sqrt{(u_i, u_i)}}\\Rightarrow \\\\\n",
    "u_n = v_n - \\cfrac{(v_n, u_1)}{(u_1, u_1)} u_1 - \\cfrac{(v_n, u_2)}{(u_2, u_2)} u_2 - \\ldots - \\cfrac{(v_n, u_{n-1})}{(u_{n-1}, u_{n-1})} u_{n-1} =\n",
    "v_n - \\cfrac{(v_n, u_1)}{\\|u_1\\|^2} u_1 - \\cfrac{(v_n, u_2)}{\\|u_2\\|^2} u_2 - \\ldots - \\cfrac{(v_n, u_{n-1})}{\\|u_{n-1}\\|^2} u_{n-1} =\n",
    "v_n - \\bigg(v_n, \\cfrac{u_1}{\\|u_1\\|}\\bigg)\\cfrac{u_1}{\\|u_1\\|} - \\bigg(v_n, \\cfrac{u_2}{\\|u_2\\|}\\bigg)\\cfrac{u_2}{\\|u_2\\|} - \\ldots - \\bigg(v_n, \\cfrac{u_{n-1}}{\\|u_{n-1}\\|}\\bigg)\\cfrac{u_{n-1}}{\\|u_{n-1}\\|} =\n",
    "v_n - (v_n, e_1) e_1 - (v_n, e_2) e_2 - \\ldots - (v_n, e_{n-1})e_{n-1} \\Rightarrow \\\\\n",
    "A = QR = \n",
    "\\begin{bmatrix} \n",
    "e_1 & e_2 & \\ldots & e_n \\\\  \n",
    "\\end{bmatrix} \n",
    "\\begin{bmatrix}\n",
    "(v_1, e_1) & (v_2, e_1) & (v_3, e_1) & \\dots  & (v_n, e_1) \\\\\n",
    "0 & (v_2, e_2) & (v_3, e_2) & \\dots  & (v_n, e_2) \\\\\n",
    "\\vdots & \\vdots & \\vdots & \\ddots & \\vdots \\\\\n",
    "0 & 0 & 0 & \\dots & (v_n, e_n)\n",
    "\\end{bmatrix}\n",
    "\\text{ , where $Q$ - unitary, $R$ - upper-triangular. }\n",
    "$ "
   ]
  },
  {
   "cell_type": "code",
   "execution_count": 5,
   "metadata": {},
   "outputs": [],
   "source": [
    "# INPUT : rectangular matrix A\n",
    "# OUTPUT: matrices Q - orthogonal and R - upper triangular such that A = QR\n",
    "def gram_schmidt_qr(A): # 5 pts\n",
    "    \n",
    "    Q = np.zeros((A.shape[0], A.shape[1]))\n",
    "    R = np.zeros((A.shape[1], A.shape[1]))\n",
    "    \n",
    "    for i in range(A.shape[1]): # I assume we can vectorize GS process, but using loops is not prohibited by this particular task\n",
    "        v_i = A[:, i] # Extracting i-column of a into variable v\n",
    "        u_n = v_i # Starting point - first term of u_n\n",
    "        for j in range(i):   \n",
    "            # Calculating u_n (u_n is introduced in the algorithm => calculation is straightforward) \n",
    "            u_n = u_n - np.dot(np.dot(R[i, j], Q[:, j])/np.linalg.norm((Q[:, j], Q[:, j]), ord = 2),Q[:, j])\n",
    "        Q[:, i] = u_n / np.linalg.norm(u_n) # Normalize and iterate further \n",
    "        for k in range(i+1):\n",
    "            R[k, i] = np.dot(Q[:, k], A[:, i]) # Filling elements of R above the main diagonal\n",
    "        \n",
    "    return Q, R\n",
    "\n",
    "# INPUT : rectangular matrix A\n",
    "# OUTPUT: matrices Q - orthogonal and R - upper triangular such that A = QR\n",
    "def modified_gram_schmidt_qr(A): # 5 pts\n",
    "    \n",
    "    Q = A.copy()\n",
    "    R = np.zeros((A.shape[1], A.shape[1]))\n",
    "    \n",
    "    for i in range(A.shape[1]): # I assume we can vectorize GS process, but using loops is not prohibited by this particular task\n",
    "        R[i, i] = np.linalg.norm(Q[:, i]) # Diagonal elements of upper-triangular matrix R \n",
    "        Q[:, i] = Q[:, i] / R[i, i] # Normalize\n",
    "        for j in range(i + 1, A.shape[1]):\n",
    "            R[i, j] = np.dot(Q[:, j], Q[:, i]) # Filling elements of R above the main diagonal              \n",
    "            Q[:, j] = Q[:, j] - np.dot(R[i, j], Q[:, i]) # Calculating projections and new u_n \n",
    "\n",
    "    return Q, R\n"
   ]
  },
  {
   "cell_type": "code",
   "execution_count": 6,
   "metadata": {},
   "outputs": [],
   "source": [
    "# Building matrix K using various numpy functions (to compute power of A, transpose\n",
    "# and reorganize the matrix from shape [1, dim, k + 1] to [dim, k + 1])\n",
    "def build_K(dim = 100, k = 20, seed = 1):\n",
    "    \n",
    "    np.random.seed(seed)\n",
    "    A = np.random.rand(dim, dim)\n",
    "    x = np.random.rand(dim, 1)\n",
    "    \n",
    "    return np.transpose(np.array([np.dot(np.linalg.matrix_power(A, i), x) for i in range(k + 1)])).reshape(dim, k + 1)"
   ]
  },
  {
   "cell_type": "code",
   "execution_count": 7,
   "metadata": {},
   "outputs": [
    {
     "name": "stdout",
     "output_type": "stream",
     "text": [
      "Error of naive QR:  19.791176702001238\n"
     ]
    }
   ],
   "source": [
    "# Computing QR and the error of naive QR\n",
    "\n",
    "Q, R = gram_schmidt_qr(build_K())\n",
    "\n",
    "Error_naive_qr =np.linalg.norm(np.dot(np.transpose(Q),Q) - np.eye(Q.shape[1]), ord = 2)\n",
    "print('Error of naive QR: ', Error_naive_qr)"
   ]
  },
  {
   "cell_type": "markdown",
   "metadata": {},
   "source": [
    "As it was expected, the error is far from 0, as it should (QR from scipy gives error ~$10^{-15}$). So here we clearly observe that matrix Q is actually not ortogonal (I assume the sourse of error is common thing in such computations - inaccurate rounding during computations). "
   ]
  },
  {
   "cell_type": "code",
   "execution_count": 8,
   "metadata": {},
   "outputs": [
    {
     "name": "stdout",
     "output_type": "stream",
     "text": [
      "Error of modified QR:  0.8944596616047884\n"
     ]
    }
   ],
   "source": [
    "# Computing QR and the error of modified QR\n",
    "\n",
    "Q, R = modified_gram_schmidt_qr(build_K())\n",
    "\n",
    "Error_modified_qr =np.linalg.norm(np.dot(np.transpose(Q),Q) - np.eye(Q.shape[1]), ord = 2)\n",
    "print('Error of modified QR: ', Error_modified_qr)"
   ]
  },
  {
   "cell_type": "markdown",
   "metadata": {},
   "source": [
    "Error is much smaller (and closer to 0), thus ortogonality was improved by using slightly different technique. Error in QR via classical G-S error is adding up (so numerically it is unstable). Modified version ariphmetics basically is the same, but the error does not accumulate in iteration process: on each step of the modified algorithm we find vector $u$ ortogonal to the previous one, so the error will be ortogonal to the error of previous iteration.\n",
    "\n",
    "\n",
    "Useful sourses - Strand, Untroduction to linear algebra (~240 p): https://vk.com/doc44301783_500651223?hash=1e16e8fcc2d17062eb&dl=39be4a789e272ffae2, \n",
    "\n",
    "http://webhome.auburn.edu/~hzv0008/teaching/MATH5640/mgs.pdf"
   ]
  },
  {
   "cell_type": "markdown",
   "metadata": {},
   "source": [
    "### 2. Updating QR decompositions (12 pts)\n",
    "\n",
    "Suppose we are dealing with overdetermined system:\n",
    "\n",
    "$$ Ax = y, \\;\\; A \\in \\mathbb{R}^{m \\times n}, \\;\\;  m \\geq n. $$\n",
    "\n",
    "If you were attentive during the course, you should be aware of \n",
    "the canonical way to solve this system. \n",
    "\n",
    "- No, implementing **Householder $QR$** will not be your task :)\n",
    "\n",
    "- We assume that $QR$ decomposition of $A$ **is given**:\n",
    "\n",
    "$$ QR = A = \\begin{bmatrix}a_1 & a_2 & \\ldots & a_n \\end{bmatrix}, \\;\\; a_i \\in \\mathbb{R}^m,$$\n",
    "\n",
    "where $Q \\in \\mathbb{R}^{m \\times m}$ is unitary matrix and $R \\in \\mathbb{R}^{m \\times n}$ is upper triangular.\n",
    "\n",
    "- Let $k$ be an arbitrary column index, $1 \\leq k \\leq n$, and $z \\in \\mathbb{R}^{m}$ be an arbitrary vector.\n",
    "\n",
    "We are interested in matrices:\n",
    "\n",
    "$$ \\tilde{A} = \\begin{bmatrix}a_1 & \\ldots & a_{k-1} & a_{k+1} & \\ldots a_n \\end{bmatrix} \\in \\mathbb{R}^{m \\times (n-1)},$$\n",
    "\n",
    "and:\n",
    "\n",
    "$$ \\hat{A} = \\begin{bmatrix}a_1 & \\ldots & a_{k} & z & a_{k+1} & \\ldots a_n \\end{bmatrix} \\in \\mathbb{R}^{m \\times (n+1)},$$\n",
    "\n",
    "which are obtained by deleting / inserting one column from / to the matrix $A$.\n",
    "\n",
    "For example, if $A$ comes from a least-squares problem, such matrices appear if one wants to examine the significance of the $k^{th}$ parameter in the underlying model (e.g. think in terms of linear regression).\n",
    "\n",
    "- We want to compute decompostions of these updated matrices:\n",
    "\n",
    "$$ \\tilde{A} = \\tilde{Q}\\tilde{R}, \\;\\; \\hat{A} = \\hat{Q}\\hat{R}. $$\n",
    "\n",
    "Performing full orthogonalization process will be redundant. Instead, the known $QR$ factors of $A$ should be **updated** in a proper way.\n",
    "\n",
    "- Different methods for performing $QR$ decomposition were studied during the course. We expect the factors of updated matrices can be recovered with a small number of selective updates, hence the **Givens rotations** seem to be the most appropriate.\n",
    "\n",
    "- Recall the Givens rotation matrix :\n",
    "\n",
    "$$G_{ij}(\\theta) = \\begin{bmatrix} \n",
    "1      & \\ldots & 0      & \\ldots & 0      & \\ldots & 0      \\\\\n",
    "\\vdots & \\ddots & \\vdots &        & \\vdots &        & \\vdots \\\\\n",
    "0      & \\ldots & c      & \\ldots & s      & \\ldots & 0      \\\\\n",
    "\\vdots &        & \\vdots & \\ddots & \\vdots &        & \\vdots \\\\\n",
    "0      & \\ldots & -s     & \\ldots & c      & \\ldots & 0      \\\\\n",
    "\\vdots &        & \\vdots &        & \\vdots & \\ddots & \\vdots \\\\\n",
    "0      & \\ldots & 0      & \\ldots & 0      & \\ldots & 1      \n",
    "\\end{bmatrix}  \\;\\; \\in \\mathbb{R}^{m \\times m}, \\;\\; c = \\cos \\theta, \\;\\; s = \\sin \\theta,$$ \n",
    "\n",
    "which differs from the identity $\\mathrm{I}^{m \\times m}$ by a $2 \\times 2$ sub-matrix:\n",
    "\n",
    "$$\n",
    "{G}(\\theta) = \\begin{bmatrix} c & s \\\\ -s & c \\end{bmatrix} \\in \\mathbb{R}^{2 \\times 2},\n",
    "$$\n",
    "placed on the rows and columns with indices $i$ and $j$. \n",
    "\n",
    "1. (1 pts)\n",
    "Matrix ${G}$ has clear geometric interpretation in 2 dimensions. Let  $a = \\begin{pmatrix} a_1 \\\\ a_2 \\end{pmatrix} \\in \\mathbb{R}^2$ be an arbitrary non-zero vector. According to the template provided below, implement the function to construct matrix $G$, such that:\n",
    "\n",
    "$$ {G}^T \\begin{pmatrix} a_1 \\\\ a_2 \\end{pmatrix} = \\begin{pmatrix} \\alpha \\\\ 0 \\end{pmatrix}.$$\n",
    "\n",
    "What are geometrical meanings of $\\alpha$ and $\\theta$? \n"
   ]
  },
  {
   "cell_type": "markdown",
   "metadata": {},
   "source": [
    "#### Solution\n",
    "1.\n",
    "- $\\alpha$ - length of vector $(a_1, a_2)$ (from given system for example we can see that $\\alpha^2 = a_1^2c + a_2^2s - 2a_1a_2cs= \\big\\\\ a_1 = -a_2\\frac{c}{s} \\big\\\\ = a_1^2 + a_2^2$)\n",
    "\n",
    "- $\\theta$ represents the angle (in radian) of rotation (counterclockwise, to be more specific) of vector $a$ in $\\mathbb{R}^2$ plane."
   ]
  },
  {
   "cell_type": "code",
   "execution_count": 9,
   "metadata": {},
   "outputs": [
    {
     "data": {
      "text/plain": [
       "array([ 1.18317283e+00, -1.14429398e-17])"
      ]
     },
     "execution_count": 9,
     "metadata": {},
     "output_type": "execute_result"
    }
   ],
   "source": [
    "def givens(a):\n",
    "    '''\n",
    "    Input: \n",
    "        a: np.array of size (2)\n",
    "    Output: \n",
    "        G: np.array of size (2, 2)\n",
    "            Rotation matrix, G^T eliminates the second component of a\n",
    "    '''\n",
    "\n",
    "    # Your code is here\n",
    "    \n",
    "    G = np.zeros((2, 2)) # Derivation of this formulas is trivial\n",
    "    G[0, 0] = a[0]/np.sqrt(a[0]*a[0] + a[1]*a[1])\n",
    "    G[1, 1] = G[0, 0]\n",
    "    G[0, 1] = -a[1]/np.sqrt(a[0]*a[0] + a[1]*a[1])\n",
    "    G[1, 0] = - G[0, 1]\n",
    "\n",
    "    return G\n",
    "    raise NotImplementedError()\n",
    "    \n",
    "# Check yourself \n",
    "a = np.random.rand(2)\n",
    "givens(a).T.dot(a) # It works"
   ]
  },
  {
   "cell_type": "markdown",
   "metadata": {},
   "source": [
    "- Similarly, matrix $G_{ij}$ can be constructed in order to eliminate the $j^{th}$ component of an arbitrary vector of size $m$. This leads to the well-known **Givens $QR$ algorithm** (see lecture notes!).\n",
    "\n",
    "- Givens rotations typically appear in matrix form:\n",
    "\n",
    "$$ G_{ij}^T X, \\;\\; X^{'}G_{ij},$$\n",
    "\n",
    "where $X$ and $X^{'}$ are some matrices with compatible sizes, e.g. intermediate factors in the **Givens $QR$ algorithm**. \n",
    "\n",
    "How to perform these multiplications efficiently? \n",
    "Obviously, $G_{ij}$ does not need to be stored in explicit form. It affects only two rows / columns, hence only appropriate submatrices should be modified.\n",
    "\n",
    "2. (5 pts) Your second task is to propose an efficient procedure for computing $\\tilde{Q}, \\tilde{R}$ factors of $\\tilde{A}$ by a proper update of $Q, R$ factors of $A$. \n",
    "\n",
    "Hint: consider the following block partition of $R$ (assuming $k^{th}$ column deleted):\n",
    "$$ R = \n",
    "\\begin{bmatrix} \n",
    "R_{11} & v & R_{13} \\\\\n",
    "0 & r_{kk} & \\omega^T \\\\\n",
    "0 & 0 & R^{33}\n",
    "\\end{bmatrix},\n",
    "$$\n",
    "and note, that:\n",
    "$$Q^T\\tilde{A} = \n",
    "\\begin{bmatrix}\n",
    "R_{11} & R_{13} \\\\\n",
    "0 & \\omega^T \\\\\n",
    "0 & R_{33}\n",
    "\\end{bmatrix} = H.$$\n",
    "\n",
    "- (2 pts) What structure has matrix $H$ and how does it help in understanding the proper way to compute updated QR decomposition?\n",
    "\n",
    "- (3 pts) Implement the function according to the template provided below.\n",
    "Use Givens matrices $G_{ij}$ with $j = i+1$ for the convinience.\n",
    "\n",
    "- Only one loop over non-zero subdiagonal elements of $H$ is allowed. You are supposed to perform computations in a proper vectorized form. For example, the *in-place* multiplication $G_{ij}^T X$ with a random matrix $X \\in \\mathbb{R}^{m \\times n}$ can be implemented as follows: ```X[[i,j],:] = G.T.dot(X[[i,j],:])```. \n",
    "\n",
    "- Do not modify elements which are known to be zero.\n"
   ]
  },
  {
   "cell_type": "markdown",
   "metadata": {},
   "source": [
    "Matrix H has zero elements below the first subdiagonal (so it was square matrix, I'll call it Hessenberg matrix) - so called trapezoidal form (it contains only 0 elements below the sub-diagonal). So via Givens rotations we can make subdiagonal elements 0 in order to get upper-triangular form, like we did in previous task.\n",
    "\n",
    "Useful source:(http://eprints.ma.man.ac.uk/1192/1/qrupdating_12nov08.pdf) provides an algorithm for updating writed in pseudocode. However there are some little misprints (and also our task vary a bit), so I modified formulas."
   ]
  },
  {
   "cell_type": "code",
   "execution_count": 114,
   "metadata": {},
   "outputs": [
    {
     "name": "stdout",
     "output_type": "stream",
     "text": [
      "4.95740003300377e-14\n"
     ]
    }
   ],
   "source": [
    "def delete_column_QR(A, k):\n",
    "    '''\n",
    "    Input: \n",
    "        A: np.array of size (m, n) \n",
    "            \n",
    "        k: positive integer\n",
    "            Index of deleted column, 0 \\leq k \\leq n - 1\n",
    "        \n",
    "    Output: \n",
    "        Q: np.array of size (m, m)\n",
    "        \n",
    "        R: np.array of size (m, n - 1)\n",
    "\n",
    "    '''\n",
    "    Q, R = np.linalg.qr(A, mode='complete') # factors of $A$ are known\n",
    "    R = np.delete(R, k, axis = 1) # delete column\n",
    "        \n",
    "    # Your code is here\n",
    "    m = A.shape[0]\n",
    "    n = A.shape[1]\n",
    "    for j in range(k, n-1): # 1 cycle\n",
    "        G = givens([R[j, j], R[j + 1, j]])# Using already created function givens\n",
    "        #print(G[0, 0], G[0, 1])\n",
    "        R[[j, j + 1], :] = np.dot(G, R[[j, j + 1], :])\n",
    "        Q.T[[j,j + 1], :] = np.dot(G, Q.T[[j, j + 1], :]) # Using in-place multiplication like in provided template\n",
    "        #if j <= n:\n",
    "        #   R[[j,j + 1], :] = np.dot(G.T, R[[j,j + 1], :]) \n",
    "    return Q, R \n",
    "    raise NotImplementedError()\n",
    "\n",
    "# Check yourself\n",
    "m, n = (200, 100)\n",
    "A = np.random.rand(m, n)\n",
    "k = np.random.randint(0, n)\n",
    "A_tilde = np.delete(A, k, axis=1)\n",
    "Q_tilde, R_tilde = delete_column_QR(A, k)\n",
    "print(np.linalg.norm(A_tilde - Q_tilde.dot(R_tilde)))"
   ]
  },
  {
   "cell_type": "code",
   "execution_count": 121,
   "metadata": {},
   "outputs": [
    {
     "name": "stdout",
     "output_type": "stream",
     "text": [
      "R:\n",
      " [[-8.03537313 -6.18252395 -6.46588233 ... -5.95223813 -6.32276746\n",
      "  -5.8370976 ]\n",
      " [ 0.         -5.49888124 -2.51151923 ... -2.50015377 -2.29222271\n",
      "  -2.49145454]\n",
      " [ 0.          0.          5.11918926 ...  1.79605721  1.73121539\n",
      "   1.33813892]\n",
      " ...\n",
      " [ 0.          0.          0.         ...  0.          0.\n",
      "   0.        ]\n",
      " [ 0.          0.          0.         ...  0.          0.\n",
      "   0.        ]\n",
      " [ 0.          0.          0.         ...  0.          0.\n",
      "   0.        ]] \n",
      "\n",
      "Q:\n",
      " [[-0.08305446 -0.08115705 -0.11143834 ... -0.07691519 -0.07755542\n",
      "  -0.03246658]\n",
      " [-0.07557205 -0.06292273  0.06178001 ...  0.06262765 -0.00603059\n",
      "  -0.1122078 ]\n",
      " [-0.11764366  0.03465781 -0.04651257 ... -0.00425411  0.04906884\n",
      "   0.09045624]\n",
      " ...\n",
      " [-0.08650517  0.00787451 -0.01198929 ...  0.59809057 -0.01548519\n",
      "  -0.07304377]\n",
      " [-0.11353334  0.00098505 -0.1137814  ... -0.03034953  0.56037492\n",
      "   0.06355228]\n",
      " [-0.00647447 -0.12108114  0.08780243 ... -0.09043809 -0.00687677\n",
      "   0.52719875]] \n",
      "\n",
      "Error of obtained Q:  2.105234632096377e-15\n"
     ]
    }
   ],
   "source": [
    "print('R:\\n', R_tilde,'\\n') # ~Hessenberg form exactly\n",
    "print('Q:\\n', Q_tilde,'\\n') \n",
    "Error_tilde =np.linalg.norm(np.dot(np.transpose(Q_tilde),Q_tilde) - np.eye(Q_tilde.shape[1]), ord = 2)\n",
    "print('Error of obtained Q: ', Error_tilde)"
   ]
  },
  {
   "cell_type": "markdown",
   "metadata": {},
   "source": [
    "3. (3 pts) When a column is inserted, the factors $\\hat{Q}, \\hat{R}$ of $\\hat{A}$ again can be computed efficiently by a proper update of $Q, R$ factors of $A$.\n",
    "\n",
    "\n",
    "- Proceed similarly to the previous task. Implement the function according to the template provided below. \n",
    "\n",
    "- Choose optimal order of elimination to minimize the number of rotations."
   ]
  },
  {
   "cell_type": "code",
   "execution_count": 229,
   "metadata": {},
   "outputs": [
    {
     "name": "stdout",
     "output_type": "stream",
     "text": [
      "5.22826365623675e-14\n"
     ]
    }
   ],
   "source": [
    "def insert_column_QR(A, k, z):\n",
    "    '''\n",
    "    Input: \n",
    "        A: np.array of size (m, n) \n",
    "            \n",
    "        k: positive integer\n",
    "            Index of inserted column, 0 \\leq k leq n - 1\n",
    "            \n",
    "        z: np.array of size (m)\n",
    "            Inserted column\n",
    "        \n",
    "    Output: \n",
    "        Q: np.array of size (m, m)\n",
    "        \n",
    "        R: np.array of size (m, n + 1)\n",
    "    '''\n",
    "    Q, R = np.linalg.qr(A, mode='complete') # factors of $A$ are known\n",
    "\n",
    "    # Your code is here\n",
    "    \n",
    "    # Matrix form will change kind of symmetrically - instead of 'tall' form we will have 'fat': for R in previous example\n",
    "    # we should fill second column with corresponding w_12, w_kk, w_n2.\n",
    "    m = A.shape[0]\n",
    "    n = A.shape[1]\n",
    "    to_insert = np.dot(np.transpose(Q), z)\n",
    "    R = np.insert(R, k, to_insert, axis=1)\n",
    "      \n",
    "    for j in range(k, n-1): # We don't want to run throug whole elements, only non-zeros\n",
    "        G = givens([R[n + k - j, k], R[n + k - j - 1, k]])\n",
    "        R[[n + k - j, n + k - j - 1], :] = np.dot(G.T, R[[n + k - j , n + k - j - 1], :])\n",
    "        Q.T[[n + k - j , n + k - j - 1], :] = np.dot(G.T, Q.T[[n + k - j , n + k - j - 1], :])\n",
    "\n",
    "    return Q, R \n",
    "    raise NotImplementedError()\n",
    "\n",
    "\n",
    "# Check yourself\n",
    "m, n = (200, 100)\n",
    "A = np.random.rand(m, n)\n",
    "k = np.random.randint(0, n)\n",
    "z = np.random.rand(m)\n",
    "A_hat = np.insert(A, k, z, axis=1)\n",
    "Q_hat, R_hat = insert_column_QR(A, k, z)\n",
    "print(np.linalg.norm(A_hat - Q_hat.dot(R_hat)))"
   ]
  },
  {
   "cell_type": "code",
   "execution_count": 230,
   "metadata": {},
   "outputs": [
    {
     "name": "stdout",
     "output_type": "stream",
     "text": [
      "R:\n",
      " [[-8.15380267 -6.2622969  -5.82118093 ... -6.04475025 -6.36854736\n",
      "  -6.24614237]\n",
      " [ 0.          5.52007931  2.2885121  ...  2.44802111  2.28682973\n",
      "   1.83839907]\n",
      " [ 0.          0.          4.58638993 ...  1.84165339  1.75575208\n",
      "   1.54092285]\n",
      " ...\n",
      " [ 0.          0.          0.         ...  0.          0.\n",
      "   0.        ]\n",
      " [ 0.          0.          0.         ...  0.          0.\n",
      "   0.        ]\n",
      " [ 0.          0.          0.         ...  0.          0.\n",
      "   0.        ]] \n",
      "\n",
      "Q:\n",
      " [[-0.12178532 -0.11149396  0.07760665 ... -0.0534386  -0.05996917\n",
      "  -0.02253888]\n",
      " [-0.10380059 -0.0339027  -0.10849574 ...  0.03093687 -0.0530471\n",
      "   0.00347542]\n",
      " [-0.01918103  0.11142826 -0.0746463  ... -0.0297245  -0.04400368\n",
      "   0.07110664]\n",
      " ...\n",
      " [-0.08824729  0.02715927 -0.04115619 ...  0.5297452  -0.05861514\n",
      "  -0.01658661]\n",
      " [-0.04966272  0.12144577 -0.06738687 ... -0.03742824  0.47092555\n",
      "   0.02427283]\n",
      " [-0.03324515  0.05928919  0.10997892 ...  0.03058364  0.03983679\n",
      "   0.60250971]] \n",
      "\n",
      "Error of obtained Q:  2.095381974507557e-15\n"
     ]
    }
   ],
   "source": [
    "print('R:\\n', R_hat,'\\n') \n",
    "print('Q:\\n', Q_hat,'\\n') \n",
    "Error_hat = np.linalg.norm(np.dot(np.transpose(Q_hat),Q_hat) - np.eye(Q_hat.shape[1]), ord = 2)\n",
    "print('Error of obtained Q: ', Error_hat)"
   ]
  },
  {
   "cell_type": "markdown",
   "metadata": {},
   "source": [
    "4. (3 pts) In the context of least-squares problems, appending rows to a matrix is just as important as inserting columns (e.g. new samples in linear regression).\n",
    "\n",
    "Consider matrix:\n",
    "\n",
    "$$ \\overline{A} = \\begin{bmatrix} \\omega^T \\\\ A \\end{bmatrix} \\in \\mathbb{R}^{(m+1) \\times n},$$\n",
    "\n",
    "which is obtained by appending a row $\\omega^T \\in \\mathbb{R}^{n}$ to the matrix $A$.\n",
    "\n",
    "Similarly to the previous tasks, you need to compute $\\overline{Q}, \\overline{R}$ factors of $\\overline{A}$ by a proper update of $Q,R$ factors of $A$.\n",
    "\n",
    "- Implement the function according to the template provided below. Your code is still expected to be efficient!"
   ]
  },
  {
   "cell_type": "code",
   "execution_count": 225,
   "metadata": {},
   "outputs": [
    {
     "name": "stdout",
     "output_type": "stream",
     "text": [
      "6.734831212962985e-14\n"
     ]
    }
   ],
   "source": [
    "def insert_row_QR(A, w):\n",
    "    '''\n",
    "    Input: \n",
    "        A: np.array of size (m, n)\n",
    "\n",
    "        w: np.array of size (n)\n",
    "            Inserted row\n",
    "        \n",
    "    Output:\n",
    "        Q: np.array of size (m + 1, m + 1)\n",
    "        \n",
    "        R: np.array of size (m + 1, n)\n",
    "    '''\n",
    "    Q, R = np.linalg.qr(A, mode='complete')\n",
    "    # Your code is here\n",
    "    m = A.shape[0]\n",
    "    n = A.shape[1]\n",
    "    Q = np.array(np.vstack([[0]*m, Q]))\n",
    "    Q = np.array(np.vstack([[0]*(m+1), Q.T]))\n",
    "    Q[0, 0] = 1\n",
    "    Q = np.transpose(Q)\n",
    "    # Like in a paper I cited before we will create from Q(m,m) new matrix (m+1, m+1) which has additional row and column such that\n",
    "    # new matrix will have form [[1 0], [0 Q]]  (in paper we have matrix A_overline = [A w.T].T, so the form of new matrix there\n",
    "    # a bit different - [[Q 0], [0 1]]. Also we do not need permutation in this case.)\n",
    "    R = np.insert(R, 0, w, axis=0)\n",
    "    for j in range(n): # Here we will run over all n elements\n",
    "        G = givens([R[j, j], R[j + 1, j]])# Using already created function givens\n",
    "        R[[j, j + 1], :] = np.dot(G.T, R[[j, j + 1], :])\n",
    "        Q.T[[j,j + 1], :] = np.dot(G.T, Q.T[[j, j + 1], :]) # Using in-place multiplication like in provided template\n",
    "    \n",
    "    return Q, R \n",
    "    \n",
    "    raise NotImplementedError()\n",
    "\n",
    "\n",
    "# Check yourself\n",
    "m, n = (200, 100)\n",
    "A = np.random.rand(m, n)\n",
    "w = np.random.rand(n)\n",
    "A_overline = np.insert(A, 0, w, axis=0)\n",
    "Q_overline, R_overline = insert_row_QR(A, w)\n",
    "print(np.linalg.norm(A_overline - Q_overline.dot(R_overline)))"
   ]
  },
  {
   "cell_type": "code",
   "execution_count": 215,
   "metadata": {},
   "outputs": [
    {
     "name": "stdout",
     "output_type": "stream",
     "text": [
      "R:\n",
      " [[ 7.95685226e+00  6.25974931e+00  6.23351185e+00 ...  6.00420860e+00\n",
      "   6.28261305e+00  6.71884368e+00]\n",
      " [-2.31261591e-18  5.11545074e+00  2.11135887e+00 ...  1.61327282e+00\n",
      "   1.87541940e+00  1.96191808e+00]\n",
      " [-4.08340025e-18  0.00000000e+00  5.12100468e+00 ...  2.00744866e+00\n",
      "   1.62897145e+00  1.84021513e+00]\n",
      " ...\n",
      " [ 0.00000000e+00  0.00000000e+00  0.00000000e+00 ...  0.00000000e+00\n",
      "   0.00000000e+00  0.00000000e+00]\n",
      " [ 0.00000000e+00  0.00000000e+00  0.00000000e+00 ...  0.00000000e+00\n",
      "   0.00000000e+00  0.00000000e+00]\n",
      " [ 0.00000000e+00  0.00000000e+00  0.00000000e+00 ...  0.00000000e+00\n",
      "   0.00000000e+00  0.00000000e+00]] \n",
      "\n",
      "Q:\n",
      " [[ 0.06434695 -0.02078702 -0.03670378 ...  0.          0.\n",
      "   0.        ]\n",
      " [ 0.01193621  0.15381349  0.00251448 ... -0.10969026 -0.02225141\n",
      "   0.04115318]\n",
      " [ 0.01509028  0.02667702  0.0149439  ... -0.08324645  0.04633983\n",
      "  -0.02250667]\n",
      " ...\n",
      " [ 0.04580803 -0.03081837  0.04978014 ...  0.54473023  0.01583512\n",
      "   0.0441367 ]\n",
      " [ 0.02443224  0.08261001  0.08420711 ...  0.01230317  0.58446464\n",
      "   0.00127759]\n",
      " [ 0.09384237  0.03360851 -0.02830622 ...  0.06548015 -0.05439417\n",
      "   0.54604364]] \n",
      "\n",
      "Error of obtained Q:  2.1617628383456054e-15\n"
     ]
    }
   ],
   "source": [
    "print('R:\\n', R_overline,'\\n') # ~Hessenberg form exactly\n",
    "print('Q:\\n', Q_overline,'\\n') \n",
    "Error_overline =np.linalg.norm(np.dot(np.transpose(Q_overline),Q_overline) - np.eye(Q_overline.shape[1]), ord = 2)\n",
    "print('Error of obtained Q: ', Error_overline)"
   ]
  },
  {
   "cell_type": "code",
   "execution_count": 87,
   "metadata": {},
   "outputs": [
    {
     "name": "stdout",
     "output_type": "stream",
     "text": [
      "[[12.  8.  5.  0.]\n",
      " [ 6. 12. 12.  0.]\n",
      " [10.  5. 10.  0.]\n",
      " [ 0.  0.  0.  1.]] \n",
      "\n",
      "[[12.  8.  5.  0.]\n",
      " [ 0.  0.  0.  1.]\n",
      " [ 6. 12. 12.  0.]\n",
      " [10.  5. 10.  0.]] \n",
      "\n"
     ]
    }
   ],
   "source": [
    "'''\n",
    "# for experiments with shifting\n",
    "Q = np.ceil(np.random.rand(3,3)*10+1*2)\n",
    "Q = np.array(np.vstack([Q, [0]*Q.shape[1]]))\n",
    "Q = np.array(np.vstack([Q.T, [0]*Q.shape[0]]))\n",
    "Q[Q.shape[0]-1, Q.shape[1]-1] = 1\n",
    "print(Q, '\\n')\n",
    "m = Q.shape[0]\n",
    "k = 2\n",
    "Q[k-1:, :]  = np.roll(Q[k-1:, :], 1, axis=0)\n",
    "print(Q, '\\n')\n",
    "'''"
   ]
  },
  {
   "cell_type": "markdown",
   "metadata": {},
   "source": [
    "## Problem 3 (Word2Vec as Matrix Factorization) 45 pts\n",
    "\n",
    "In this assignment you are supposed to apply SVD to training your own [word embedding model](https://en.wikipedia.org/wiki/Word_embedding) which maps English words to vectors of real numbers.\n",
    "\n",
    "Skip-Gram Negative Sampling (SGNS) word embedding model, commonly known as **word2vec** ([Mikolov et al., 2013](http://papers.nips.cc/paper/5021-distributed-representations-of-words-and-phrases-and-their-compositionality.pdf)), is usually optimized by stochastic gradient descent. However, the optimization of SGNS objective can be viewed as implicit matrix factorization objective as was shown in ([Levy and Goldberg, 2015](http://papers.nips.cc/paper/5477-neural-word-embedding-as-implicit-matrix-factorization.pdf))."
   ]
  },
  {
   "cell_type": "markdown",
   "metadata": {},
   "source": [
    "###### 1. Notation\n",
    "Assume we have a text corpus given as a sequence of words $\\{w_1,w_2,\\dots,w_n\\}$ where $n$ may be larger than $10^{12}$ and $w_i \\in \\mathcal{V}$ belongs to a vocabulary of words $\\mathcal{V}$. A word $c \\in \\mathcal{V}$ is called *a context* of word $w_i$ if they are found together in the text. More formally, given some measure $L$ of closeness between two words (typical choice is $L=2$), a word $c \\in \\mathcal{V}$ is called a context if $c \\in \\{w_{i-L}, \\dots, w_{i-1}, w_{i+1}, \\dots, w_{i+L} \\}$ Let $\\mathbf{w},\\mathbf{c}\\in\\mathbb{R}^d$ be the *word embeddings* of word $w$ and context $c$, respectively. Assume they are specified by the mapping  $\\Phi:\\mathcal{V}\\rightarrow\\mathbb{R}^d$, so $\\mathbf{w}=\\Phi(w)$. The ultimate goal of SGNS word embedding model is to fit a good mapping $\\Phi$.\n",
    "\n",
    "Let $\\mathcal{D}$ be a multiset of all word-contexts pairs observed in the corpus. In the SGNS model, the probability that word-context pair $(w,c)$ is observed in the corpus is modeled as the following distribution:\n",
    "\n",
    "$$\n",
    "P(\\#(w,c)\\neq 0|w,c) = \\sigma(\\mathbf{w}^\\top \\mathbf{c}) = \\frac{1}{1 + \\exp(-\\mathbf{w}^\\top \\mathbf{c})},\n",
    "$$\n",
    "\n",
    "where $\\#(w,c)$ is the number of times the pair $(w,c)$ appears in $\\mathcal{D}$ and $\\mathbf{w}^\\top\\mathbf{c}$ is the scalar product of vectors $\\mathbf{w}$ and $\\mathbf{c}$. Two important quantities which we will also use further are the number of times the word $w$ and the context $c$ appear in $\\mathcal{D}$, which can be computed as\n",
    "\n",
    "$$\n",
    "\\#(w) = \\sum_{c\\in\\mathcal{V}} \\#(w,c), \\quad \\#(c) = \\sum_{w\\in\\mathcal{V}} \\#(w,c).\n",
    "$$\n"
   ]
  },
  {
   "cell_type": "markdown",
   "metadata": {},
   "source": [
    "###### 2. Optimization objective"
   ]
  },
  {
   "cell_type": "markdown",
   "metadata": {},
   "source": [
    "Vanilla word embedding models are trained by maximizing log-likelihood of observed word-context pairs, namely\n",
    "\n",
    "$$\n",
    "\\mathcal{L} = \\sum_{w \\in \\mathcal{V}} \\sum_{c \\in \\mathcal{V}} \\#(w,c) \\log \\sigma(\\mathbf{w}^\\top\\mathbf{c}) \\rightarrow \\max_{\\mathbf{w},\\mathbf{c} \\in \\mathbb{R}^d}.\n",
    "$$"
   ]
  },
  {
   "cell_type": "markdown",
   "metadata": {},
   "source": [
    "Skip-Gram Negative Sampling approach modifies the objective by additionally minimizing the log-likelihood of random word-context pairs, so called *negative samples*. This idea incorporates some useful linguistic information that some number ($k$, usually $k=5$) of word-context pairs *are not* found together in the corpus which usually results in word embeddings of higher quality. The resulting optimization problem is\n",
    "\n",
    "$$\n",
    "\\mathcal{L} = \\sum_{w \\in \\mathcal{V}} \\sum_{c \\in \\mathcal{V}} \\left( \\#(w,c) \\log \\sigma(\\mathbf{w}^\\top\\mathbf{c}) + k \\cdot \\mathbb{E}_{c'\\sim P_\\mathcal{D}} \\log \\sigma (-\\mathbf{w}^\\top\\mathbf{c}) \\right) \\rightarrow \\max_{\\mathbf{w},\\mathbf{c} \\in \\mathbb{R}^d},\n",
    "$$\n",
    "\n",
    "where $P_\\mathcal{D}(c)=\\frac{\\#(c)}{|\\mathcal{D}|}$ is a probability distribution over word contexts from which negative samples are drawn."
   ]
  },
  {
   "cell_type": "markdown",
   "metadata": {},
   "source": [
    "[Levy and Goldberg, 2015](http://papers.nips.cc/paper/5477-neural-word-embedding-as-implicit-matrix-factorization.pdf) showed that this objective can be equivalently written as\n",
    "\n",
    "$$\n",
    "\\mathcal{L} = \\sum_{w \\in \\mathcal{V}} \\sum_{c \\in \\mathcal{V}} f(w,c) = \\sum_{w \\in \\mathcal{V}} \\sum_{c \\in \\mathcal{V}} \\left( \\#(w,c) \\log \\sigma(\\mathbf{w}^\\top\\mathbf{c}) + \\frac{k\\cdot\\#(w)\\cdot\\#(c)}{|\\mathcal{D}|} \\log \\sigma (-\\mathbf{w}^\\top\\mathbf{c}) \\right) \\rightarrow \\max_{\\mathbf{w},\\mathbf{c} \\in \\mathbb{R}^d},\n",
    "$$\n",
    "\n",
    "A crucial observation is that this loss function depends only on the scalar product $\\mathbf{w}^\\top\\mathbf{c}$ but not on embedding $\\mathbf{w}$ and $\\mathbf{c}$ separately."
   ]
  },
  {
   "cell_type": "markdown",
   "metadata": {},
   "source": [
    "###### 3. Matrix factorization problem statement"
   ]
  },
  {
   "cell_type": "markdown",
   "metadata": {},
   "source": [
    "Let $|\\mathcal{V}|=m$, $W \\in \\mathbb{R}^{m\\times d}$ and $C \\in \\mathbb{R}^{m\\times d}$ be matrices, where each row $\\mathbf{w}\\in\\mathbb{R}^d$ of matrix $W$ is the word embedding of the corresponding word $w$ and each row $\\mathbf{c}\\in\\mathbb{R}^d$ of matrix $C$ is the context embedding of the corresponding context $c$. SGNS embeds both words and their contexts into a low-dimensional space $\\mathbb{R}^d$, resulting in the word and context matrices $W$ and $C$. The rows of matrix $W$ are typically used in NLP tasks (such as computing word similarities) while $C$ is ignored. It is nonetheless instructive to consider the product $W^\\top C = M$. Viewed this way, SGNS can be described as factorizing an implicit matrix $M$ of dimensions $m \\times m$ into two smaller matrices.\n",
    "\n",
    "Which matrix is being factorized? A matrix entry $M_{wc}$ corresponds to the dot product $\\mathbf{w}^\\top\\mathbf{c}$ . Thus, SGNS is factorizing a matrix in which each row corresponds to a word $w \\in \\mathcal{V}$ , each column corresponds to a context $c \\in \\mathcal{V}$, and each cell contains a quantity $f(w,c)$ reflecting the strength of association between that particular word-context pair. Such word-context association matrices are very common in the NLP and word-similarity literature. That said, the objective of SGNS does not explicitly state what this association metric is. What can we say about the association function $f(w,c)$? In other words, which matrix is SGNS factorizing? Below you will find the answers."
   ]
  },
  {
   "cell_type": "markdown",
   "metadata": {},
   "source": [
    "### Task 1 (theoretical) 9 pts"
   ]
  },
  {
   "cell_type": "markdown",
   "metadata": {},
   "source": [
    "Solve SGNS optimization problem with respect to the $\\mathbf{w}^\\top\\mathbf{c}$ and show that the matrix being factorized is\n",
    "\n",
    "$$\n",
    "M_{wc} = \\mathbf{w}^\\top\\mathbf{c} = \\log \\left( \\frac{\\#(w,c) \\cdot |\\mathcal{D}|}{k\\cdot\\#(w)\\cdot\\#(c)} \\right)\n",
    "$$\n",
    "\n",
    "**Hint:** Denote $x=\\mathbf{w}^\\top\\mathbf{c}$, rewrite SGNG optimization problem in terms of $x$ and solve it."
   ]
  },
  {
   "cell_type": "markdown",
   "metadata": {},
   "source": [
    "**Note:** This matrix is called Shifted Pointwise Mutual Information (SPMI) matrix, as its elements can be written as\n",
    "\n",
    "$$\n",
    "\\text{SPMI}(w,c) = M_{wc} = \\mathbf{w}^\\top\\mathbf{c} = \\text{PMI}(w,c) - \\log k\n",
    "$$\n",
    "\n",
    "and $\\text{PMI}(w,c) = \\log \\left( \\frac{\\#(w,c) \\cdot |\\mathcal{D}|}{\\#(w)\\cdot\\#(c)} \\right)$ is the well-known [pointwise mutual information](https://en.wikipedia.org/wiki/Pointwise_mutual_information) of $(w,c)$."
   ]
  },
  {
   "cell_type": "markdown",
   "metadata": {},
   "source": [
    "### Proof\n",
    "Let's denote $A = A(w,c) = \\#(w,c),\\ B = B(w,c) = \\cfrac{k\\cdot\\#(w)\\cdot\\#(c)}{|\\mathcal{D}|} $ and rewrite SGNG optimization problem in terms of $x(\\mathbf{w},\\mathbf{c}) = \\mathbf{w}^\\top\\mathbf{c}$: \n",
    "$\n",
    "\\mathcal{L}  = \\sum_{w \\in \\mathcal{V}} \\sum_{c \\in \\mathcal{V}} \\left( A \\log \\sigma(x) + \n",
    "B \\log \\sigma (-x) \\right) \\rightarrow \\max_{\\mathbf{w},\\mathbf{c} \\in \\mathbb{R}^d} \\Rightarrow \\\\\n",
    "\\big\\\\ \\log \\sigma(\\pm x) = \\log \\frac{1}{1 + \\exp(\\mp x)} = - \\log (1 + \\exp(\\mp x)) \\big\\\\ = \\\\\n",
    "\\mathcal{L} = \\sum_{w \\in \\mathcal{V}} \\sum_{c \\in \\mathcal{V}} \\big( -A \\log (1 + \\exp(-x)) - \n",
    "B \\log (1 + \\exp(x)) \\big) \\Rightarrow \\text{let's compute } \\frac{d\\mathcal{L}}{dx}: \\\\\n",
    "\\frac{d\\mathcal{L}}{dx} = \n",
    "\\sum_{w \\in \\mathcal{V}} \\sum_{c \\in \\mathcal{V}} \\big( -A \\frac{1}{1 + \\exp(-x)}(-\\exp(-x)) - \n",
    "B \\frac{1}{1 + \\exp(x)}(\\exp(x)) \\big) = 0 \\text{ (we have specific x in each term)} \\Rightarrow \\\\\n",
    "A \\cfrac{\\exp(-x)}{1 + \\exp(-x)} - B \\cfrac{\\exp(x)}{1 + \\exp(x)} = 0 \\Rightarrow \n",
    "\\cfrac{A}{B} = \\cfrac{(1 + \\exp(-x))\\exp(x)}{(1 + \\exp(x))\\exp(-x)} = \n",
    "\\cfrac{(1 + \\exp(-x))\\exp(x)}{(1 + \\exp(-x))} = \\exp(x) \\Rightarrow \\\\\n",
    "x = \\mathbf{w}^\\top\\mathbf{c} = \\log \\cfrac{A}{B} = \\log \\cfrac{\\#(w,c)}{\\frac{k\\cdot\\#(w)\\cdot\\#(c)}{|\\mathcal{D}|}} = \n",
    "\\log \\cfrac{\\#(w,c) |\\mathcal{D}|}{k\\cdot\\#(w)\\cdot\\#(c)}\n",
    "$"
   ]
  },
  {
   "cell_type": "markdown",
   "metadata": {},
   "source": [
    "### Task 2 (practical) 36 pts"
   ]
  },
  {
   "cell_type": "code",
   "execution_count": null,
   "metadata": {},
   "outputs": [],
   "source": [
    "import os\n",
    "import numpy as np\n",
    "from sklearn.metrics.pairwise import cosine_similarity\n",
    "from scipy.sparse.linalg import svds"
   ]
  },
  {
   "cell_type": "markdown",
   "metadata": {},
   "source": [
    "1. Download dataset [enwik8](http://mattmahoney.net/dc/enwik8.zip) of compressed Wikipedia articles and preprocess raw data with Perl script **main_.pl**. This script will clean all unnecessary symbols, make all words to lowercase, and produce only sentences with words. If you are Windows user, you can install [linux subsystem in windows](https://www.microsoft.com/en-us/p/ubuntu-1804-lts/9n9tngvndl3q?activetab=pivot:overviewtab) and run all these bash commands from ubuntu console (it was checked on the Windows and it works). Also, you can just download file from this [link](https://nla.skoltech.ru/homeworks/files/enwik8.txt).\n",
    "```\n",
    "wget http://mattmahoney.net/dc/enwik8.zip\n",
    "unzip enwik8.zip\n",
    "mkdir data\n",
    "perl main_.pl enwik8 > data/enwik8.txt\n",
    "```"
   ]
  },
  {
   "cell_type": "code",
   "execution_count": 57,
   "metadata": {},
   "outputs": [],
   "source": [
    "# Load enwik 8\n",
    "\n",
    "import re\n",
    "file = open(\"data/enwik8.txt\", \"r\")\n",
    "doclist = [line for line in file]\n",
    "docstr = ''.join(doclist)\n",
    "sentences = re.split(r'[.!?]', docstr)\n",
    "sentences = [sentence.split() for sentence in sentences if len(sentence) > 1]"
   ]
  },
  {
   "cell_type": "code",
   "execution_count": 58,
   "metadata": {
    "scrolled": true
   },
   "outputs": [
    {
     "name": "stdout",
     "output_type": "stream",
     "text": [
      "['achilles', 'wrath', 'is', 'terrible', 'and', 'he', 'slays', 'many', 'trojan', 'warriors', 'and', 'allies', 'including', 'priam', 's', 'son', 'lycaon', 'whom', 'achilles', 'had', 'previously', 'captured', 'and', 'sold', 'into', 'slavery', 'but', 'who', 'had', 'been', 'returned', 'to', 'troy']\n"
     ]
    }
   ],
   "source": [
    "print (sentences[1249])"
   ]
  },
  {
   "cell_type": "markdown",
   "metadata": {},
   "source": [
    "2. Construct the word vocabulary from the obtained sentences which enumerates words which occur more than $r=200$ times in the corpus."
   ]
  },
  {
   "cell_type": "code",
   "execution_count": 59,
   "metadata": {},
   "outputs": [],
   "source": [
    "from collections import Counter\n",
    " \n",
    "# Outdated version:\n",
    "'''\n",
    "def create_vocabulary(sentences, r=200):\n",
    "    vocabulary = {}\n",
    "    # Your code is here\n",
    "   \n",
    "\n",
    "    \n",
    "    for words in sentences: \n",
    "        for word in words:\n",
    "            if word in vocabulary:\n",
    "                vocabulary[word] += 1\n",
    "            else:\n",
    "                vocabulary.update({word:1})\n",
    "                \n",
    "    for i in list(vocabulary.keys()):\n",
    "        if vocabulary.get(i) <= r:\n",
    "            del vocabulary[i] \n",
    "'''\n",
    "def create_vocabulary(sentences, r=200):\n",
    "    vocabulary = {}\n",
    "    # Your code is here\n",
    "    \n",
    "    for words in sentences: \n",
    "        for word in words:\n",
    "            if word in vocabulary: # Adding word into vocabulary if it is not already there, else update the 'count'\n",
    "                vocabulary[word] += 1 \n",
    "            else:\n",
    "                vocabulary.update({word:1})\n",
    "    count = 0\n",
    "    \n",
    "    for _, i in enumerate(list(vocabulary.keys())):\n",
    "        if vocabulary.get(i) >= r:\n",
    "            vocabulary[i] = count\n",
    "            count = count + 1\n",
    "        else:\n",
    "            del vocabulary[i]\n",
    "    return vocabulary\n",
    "\n",
    "\n",
    "# Were useful: \n",
    "# https://www.freecodecamp.org/news/an-introduction-to-bag-of-words-and-how-to-code-it-in-python-for-nlp-282e87a9da04/\n",
    "# https://stackabuse.com/python-for-nlp-creating-bag-of-words-model-from-scratch/ (second part)\n",
    "# https://datascience.stackexchange.com/questions/9918/optimizing-co-occurrence-matrix-computation"
   ]
  },
  {
   "cell_type": "code",
   "execution_count": 62,
   "metadata": {},
   "outputs": [],
   "source": [
    "vocab = create_vocabulary(sentences)"
   ]
  },
  {
   "cell_type": "code",
   "execution_count": 63,
   "metadata": {},
   "outputs": [
    {
     "name": "stdout",
     "output_type": "stream",
     "text": [
      "{'anarchism': 0, 'originated': 1, 'as': 2, 'a': 3, 'term': 4, 'of': 5, 'abuse': 6, 'first': 7, 'used': 8, 'against': 9, 'early': 10, 'working': 11, 'class': 12, 'including': 13, 'the': 14, 'english': 15, 'revolution': 16, 'and': 17, 'french': 18, 'whilst': 19, 'is': 20, 'still': 21, 'in': 22, 'way': 23, 'to': 24, 'describe': 25, 'any': 26, 'act': 27, 'that': 28, 'violent': 29, 'means': 30, 'destroy': 31, 'organization': 32, 'society': 33, 'it': 34, 'has': 35, 'also': 36, 'been': 37, 'taken': 38, 'up': 39, 'positive': 40, 'label': 41, 'by': 42, 'self': 43, 'defined': 44, 'word': 45, 'derived': 46, 'from': 47, 'greek': 48, 'without': 49, 'ruler': 50, 'chief': 51, 'king': 52, 'political': 53, 'philosophy': 54, 'belief': 55, 'rulers': 56, 'are': 57, 'should': 58, 'be': 59, 'abolished': 60, 'although': 61, 'there': 62, 'interpretations': 63, 'what': 64, 'this': 65, 'refers': 66, 'related': 67, 'social': 68, 'movements': 69, 'advocate': 70, 'institutions': 71, 'particularly': 72, 'state': 73, 'most': 74, 'use': 75, 'does': 76, 'not': 77, 'imply': 78, 'chaos': 79, 'or': 80, 'but': 81, 'rather': 82, 'anti': 83, 'place': 84, 'regarded': 85, 'structures': 86, 'economic': 87, 'relations': 88, 'based': 89, 'upon': 90, 'voluntary': 91, 'association': 92, 'autonomous': 93, 'individuals': 94, 'mutual': 95, 'aid': 96, 'while': 97, 'easily': 98, 'offer': 99, 'they': 100, 'believe': 101, 'truly': 102, 'free': 103, 'however': 104, 'ideas': 105, 'about': 106, 'how': 107, 'an': 108, 'anarchist': 109, 'might': 110, 'work': 111, 'vary': 112, 'considerably': 113, 'especially': 114, 'with': 115, 'respect': 116, 'economics': 117, 'brought': 118, 'origins': 119, 'others': 120, 'argue': 121, 'before': 122, 'recorded': 123, 'history': 124, 'human': 125, 'was': 126, 'organized': 127, 'on': 128, 'principles': 129, 'follow': 130, 'hunter': 131, 'bands': 132, 'were': 133, 'division': 134, 'labour': 135, 'wealth': 136, 'law': 137, 'had': 138, 'equal': 139, 'access': 140, 'resources': 141, 'william': 142, 'organisation': 143, 'find': 144, 'ancient': 145, 'china': 146, 'found': 147, 'similar': 148, 'according': 149, 'its': 150, 'intervention': 151, 'proclaimed': 152, 'sovereignty': 153, 'moral': 154, 'individual': 155, 'one': 156, 'six': 157, 'th': 158, 'century': 159, 'europe': 160, 'sometimes': 161, 'considered': 162, 'religious': 163, 'modern': 164, 'russell': 165, 'his': 166, 'western': 167, 'writes': 168, 'all': 169, 'since': 170, 'held': 171, 'good': 172, 'man': 173, 'will': 174, 'guided': 175, 'at': 176, 'every': 177, 'moment': 178, 'holy': 179, 'spirit': 180, 'communism': 181, 'true': 182, 'movement': 183, 'during': 184, 'time': 185, 'civil': 186, 'war': 187, 'some': 188, 'era': 189, 'mean': 190, 'something': 191, 'other': 192, 'than': 193, 'louis': 194, 'baron': 195, 'de': 196, 'l': 197, 'am': 198, 'seven': 199, 'zero': 200, 'three': 201, 'where': 202, 'he': 203, 'described': 204, 'indigenous': 205, 'american': 206, 'which': 207, 'no': 208, 'laws': 209, 'priests': 210, 'private': 211, 'property': 212, 'being': 213, 'leader': 214, 'indian': 215, 'repeatedly': 216, 'stated': 217, 'so': 218, 'ancestors': 219, 'nine': 220, 'thick': 221, 'published': 222, 'concerning': 223, 'justice': 224, 'did': 225, 'many': 226, 'later': 227, 'have': 228, 'book': 229, 'major': 230, 'text': 231, 'founder': 232, 'philosophical': 233, 'point': 234, 'yet': 235, 'existed': 236, 'known': 237, 'mainly': 238, 'more': 239, 'radical': 240, 'elements': 241, 'pierre': 242, 'joseph': 243, 'commonly': 244, 'wasn': 245, 't': 246, 'until': 247, 'eight': 248, 'four': 249, 'adopted': 250, 'description': 251, 'for': 252, 'reason': 253, 'claim': 254, 'theory': 255, 'answers': 256, 'famous': 257, 'opposed': 258, 'institution': 259, 'owners': 260, 'complete': 261, 'rights': 262, 'their': 263, 'wish': 264, 'such': 265, 'workers': 266, 'profit': 267, 'supported': 268, 'called': 269, 'possession': 270, 'can': 271, 'limited': 272, 'capital': 273, 'goods': 274, 'accordance': 275, 'equality': 276, 's': 277, 'vision': 278, 'involved': 279, 'exchange': 280, 'economy': 281, 'groups': 282, 'could': 283, 'trade': 284, 'products': 285, 'labor': 286, 'using': 287, 'notes': 288, 'represented': 289, 'amount': 290, 'production': 291, 'would': 292, 'ensure': 293, 'freely': 294, 'join': 295, 'together': 296, 'co': 297, 'interest': 298, 'bank': 299, 'set': 300, 'provide': 301, 'everyone': 302, 'influential': 303, 'within': 304, 'followers': 305, 'active': 306, 'france': 307, 'complex': 308, 'developed': 309, 'number': 310, 'works': 311, 'over': 312, 'lifetime': 313, 'detailed': 314, 'discussion': 315, 'see': 316, 'here': 317, 'max': 318, 'own': 319, 'argued': 320, 'accepted': 321, 'notion': 322, 'right': 323, 'natural': 324, 'general': 325, 'very': 326, 'mere': 327, 'mind': 328, 'saying': 329, 'reality': 330, 'advocated': 331, 'form': 332, 'associations': 333, 'only': 334, 'when': 335, 'do': 336, 'him': 337, 'simply': 338, 'comes': 339, 'through': 340, 'knows': 341, 'take': 342, 'defend': 343, 'thing': 344, 'belongs': 345, 'i': 346, 'my': 347, 'power': 348, 'long': 349, 'never': 350, 'himself': 351, 'nevertheless': 352, 'thought': 353, 'diverse': 354, 'benjamin': 355, 'two': 356, 'five': 357, 'participated': 358, 'experiment': 359, 'headed': 360, 'robert': 361, 'new': 362, 'harmony': 363, 'failed': 364, 'few': 365, 'years': 366, 'much': 367, 'internal': 368, 'conflict': 369, 'community': 370, 'failure': 371, 'lack': 372, 'communities': 373, 'times': 374, 'wrote': 375, 'noted': 376, 'ever': 377, 'says': 378, 'doctrine': 379, 'now': 380, 'liberty': 381, 'december': 382, 'became': 383, 'interested': 384, 'meeting': 385, 'b': 386, 'edited': 387, 'august': 388, 'april': 389, 'widely': 390, 'issued': 391, 'language': 392, 'conception': 393, 'incorporated': 394, 'variety': 395, 'banking': 396, 'cost': 397, 'limit': 398, 'price': 399, 'value': 400, 'market': 401, 'herbert': 402, 'freedom': 403, 'strongly': 404, 'product': 405, 'her': 406, 'believed': 407, 'trading': 408, 'system': 409, 'competition': 410, 'profits': 411, 'received': 412, 'full': 413, 'included': 414, 'stephen': 415, 'pearl': 416, 'victor': 417, 'international': 418, 'reaction': 419, 'followed': 420, 'twenty': 421, 'united': 422, 'european': 423, 'revolutionary': 424, 'due': 425, 'links': 426, 'start': 427, 'karl': 428, 'marx': 429, 'leading': 430, 'figure': 431, 'elected': 432, 'council': 433, 'came': 434, 'who': 435, 'shortly': 436, 'after': 437, 'joined': 438, 'into': 439, 'camps': 440, 'respective': 441, 'difference': 442, 'between': 443, 'strategy': 444, 'around': 445, 'words': 446, 'direct': 447, 'struggle': 448, 'capitalism': 449, 'parliamentary': 450, 'focused': 451, 'activity': 452, 'predicted': 453, 'if': 454, 'marxist': 455, 'party': 456, 'gained': 457, 'leaders': 458, 'end': 459, 'bad': 460, 'ruling': 461, 'fought': 462, 'final': 463, 'split': 464, 'congress': 465, 'often': 466, 'cited': 467, 'origin': 468, 'democratic': 469, 'socialism': 470, 'distinct': 471, 'organisations': 472, 'rival': 473, 'peter': 474, 'both': 475, 'moved': 476, 'away': 477, 'thinking': 478, 'communist': 479, 'concepts': 480, 'communists': 481, 'owned': 482, 'distributed': 483, 'need': 484, 'd': 485, 'person': 486, 'unlike': 487, 'needs': 488, 'whatever': 489, 'may': 490, 'nature': 491, 'announced': 492, 'us': 493, 'journal': 494, 'le': 495, 'seen': 496, 'important': 497, 'conquest': 498, 'bread': 499, 'fields': 500, 'felt': 501, 'operation': 502, 'illustrated': 503, 'factor': 504, 'evolution': 505, 'subsequent': 506, 'include': 507, 'alexander': 508, 'anarcho': 509, 'below': 510, 'saw': 511, 'objective': 512, 'isaac': 513, 'spanish': 514, 'post': 515, 'several': 516, 'maintained': 517, 'consistent': 518, 'example': 519, 'publishing': 520, 'propaganda': 521, 'johann': 522, 'violence': 523, 'portrayed': 524, 'dangerous': 525, 'high': 526, 'profile': 527, 'acts': 528, 'terrorism': 529, 'late': 530, 'encouraged': 531, 'heads': 532, 'further': 533, 'actions': 534, 'advocates': 535, 'said': 536, 'existing': 537, 'therefore': 538, 'enemies': 539, 'people': 540, 'must': 541, 'motion': 542, 'preferred': 543, 'method': 544, 'earned': 545, 'consensus': 546, 'utility': 547, 'necessary': 548, 'force': 549, 'settings': 550, 'same': 551, 'identified': 552, 'leo': 553, 'whose': 554, 'viewed': 555, 'christian': 556, 'notable': 557, 'resistance': 558, 'red': 559, 'black': 560, 'flag': 561, 'coming': 562, 'experience': 563, 'associated': 564, 'seeking': 565, 'institute': 566, 'controlled': 567, 'industrial': 568, 'strike': 569, 'primary': 570, 'though': 571, 'unions': 572, 'g': 573, 'n': 574, 'du': 575, 'confederation': 576, 'formed': 577, 'writing': 578, 'developing': 579, 'appeal': 580, 'style': 581, 'significant': 582, 'prior': 583, 'remained': 584, 'spain': 585, 'mid': 586, 'world': 587, 'founded': 588, 'sought': 589, 'members': 590, 'support': 591, 'explicitly': 592, 'rank': 593, 'file': 594, 'democracy': 595, 'inspired': 596, 'don': 597, 'let': 598, 'politicians': 599, 'rule': 600, 'our': 601, 'lives': 602, 'you': 603, 'vote': 604, 'decide': 605, 'allow': 606, 'unity': 607, 'action': 608, 'management': 609, 'union': 610, 'successful': 611, 'del': 612, 'national': 613, 'politics': 614, 'membership': 615, 'million': 616, 'played': 617, 'role': 618, 'like': 619, 'key': 620, 'figures': 621, 'mexican': 622, 'latin': 623, 'influenced': 624, 'extending': 625, 'rebellion': 626, 'factory': 627, 'occupation': 628, 'argentina': 629, 'berlin': 630, 'successor': 631, 'contemporary': 632, 'continues': 633, 'minor': 634, 'smaller': 635, 'largest': 636, 'today': 637, 'claims': 638, 'paid': 639, 'votes': 640, 'elections': 641, 'alliance': 642, 'uk': 643, 'federation': 644, 'exists': 645, 'claiming': 646, 'critics': 647, 'fail': 648, 'deal': 649, 'life': 650, 'outside': 651, 'bob': 652, 'russian': 653, 'event': 654, 'development': 655, 'alongside': 656, 'february': 657, 'october': 658, 'initially': 659, 'supporting': 660, 'coup': 661, 'soon': 662, 'turned': 663, 'left': 664, 'wing': 665, 'opposition': 666, 'central': 667, 'russia': 668, 'driven': 669, 'underground': 670, 'ukraine': 671, 'army': 672, 'led': 673, 'leaving': 674, 'amongst': 675, 'those': 676, 'response': 677, 'policy': 678, 'uprising': 679, 'classic': 680, 'accounts': 681, 'experiences': 682, 'control': 683, 'them': 684, 'consequences': 685, 'proved': 686, 'too': 687, 'victory': 688, 'resulting': 689, 'serious': 690, 'damage': 691, 'internationally': 692, 'success': 693, 'setting': 694, 'parties': 695, 'grew': 696, 'expense': 697, 'socialist': 698, 'began': 699, 'themselves': 700, 'towards': 701, 'paris': 702, 'group': 703, 'concluded': 704, 'needed': 705, 'develop': 706, 'forms': 707, 'platform': 708, 'theoretical': 709, 'collective': 710, 'responsibility': 711, 'ireland': 712, 'north': 713, 'eastern': 714, 'states': 715, 'canada': 716, 'fight': 717, 'fascism': 718, 'construct': 719, 'cars': 720, 'familiar': 721, 'dynamics': 722, 'transformed': 723, 'rise': 724, 'cases': 725, 'faced': 726, 'difficult': 727, 'popular': 728, 'democrats': 729, 'soviet': 730, 'common': 731, 'fascist': 732, 'enemy': 733, 'exile': 734, 'italian': 735, 'arguing': 736, 'different': 737, 'just': 738, 'another': 739, 'government': 740, 'uses': 741, 'represents': 742, 'practice': 743, 'principle': 744, 'authority': 745, 'close': 746, 'divided': 747, 'front': 748, 'refused': 749, 'electoral': 750, 'supporters': 751, 'election': 752, 'changed': 753, 'helped': 754, 'bring': 755, 'back': 756, 'months': 757, 'responded': 758, 'attempted': 759, 'armed': 760, 'took': 761, 'city': 762, 'barcelona': 763, 'large': 764, 'areas': 765, 'rural': 766, 'land': 767, 'even': 768, 'losing': 769, 'ground': 770, 'bitter': 771, 'leadership': 772, 'appeared': 773, 'confused': 774, 'entering': 775, 'troops': 776, 'fighting': 777, 'neo': 778, 'germany': 779, 'kingdom': 780, 'worked': 781, 'directly': 782, 'physical': 783, 'tendency': 784, 'culture': 785, 'tends': 786, 'secular': 787, 'combination': 788, 'historical': 789, 'classes': 790, 'traditions': 791, 'resulted': 792, 'higher': 793, 'god': 794, 'established': 795, 'churches': 796, 'jesus': 797, 'teachings': 798, 'clearly': 799, 'christianity': 800, 'declared': 801, 'official': 802, 'religion': 803, 'rome': 804, 'turn': 805, 'strict': 806, 'author': 807, 'tend': 808, 'experimental': 809, 'occasionally': 810, 'roots': 811, 'old': 812, 'birth': 813, 'church': 814, 'certain': 815, 'bible': 816, 'regarding': 817, 'structure': 818, 'capable': 819, 'rejected': 820, 'indeed': 821, 'non': 822, 'typically': 823, 'went': 824, 'models': 825, 'chinese': 826, 'buddhist': 827, 'well': 828, 'field': 829, 'focus': 830, 'environment': 831, 'along': 832, 'lead': 833, 'prominent': 834, 'extensively': 835, 'h': 836, 'adam': 837, 'kind': 838, 'fundamental': 839, 'problem': 840, 'hundred': 841, 'explicit': 842, 'dates': 843, 'second': 844, 'wave': 845, 'feminist': 846, 'views': 847, 'hierarchy': 848, 'thus': 849, 'occurred': 850, 'dominance': 851, 'male': 852, 'female': 853, 'then': 854, 'reject': 855, 'creation': 856, 'gender': 857, 'roles': 858, 'civilization': 859, 'consider': 860, 'school': 861, 'addresses': 862, 'concerns': 863, 'variant': 864, 'green': 865, 'authors': 866, 'mary': 867, 'proto': 868, 'opposing': 869, 'explains': 870, 'miss': 871, 'she': 872, 'make': 873, 'whereby': 874, 'proper': 875, 'believes': 876, 'entirely': 877, 'hold': 878, 'always': 879, 'exist': 880, 'highly': 881, 'women': 882, 'day': 883, 'growing': 884, 'reader': 885, 'spread': 886, 'various': 887, 'kinds': 888, 'books': 889, 'articles': 890, 'website': 891, 'murray': 892, 'predominantly': 893, 'tradition': 894, 'branches': 895, 'consequently': 896, 'synthesis': 897, 'classical': 898, 'liberalism': 899, 'austrian': 900, 'capitalist': 901, 'defines': 902, 'terms': 903, 'concept': 904, 'david': 905, 'jan': 906, 'rand': 907, 'historians': 908, 'opponents': 909, 'dispute': 910, 'these': 911, 'whether': 912, 'controversial': 913, 'debate': 914, 'countries': 915, 'taking': 916, 'deep': 917, 'ecology': 918, 'earth': 919, 'particular': 920, 'importance': 921, 'takes': 922, 'tree': 923, 'sitting': 924, 'component': 925, 'sees': 926, 'involves': 927, 'critique': 928, 'itself': 929, 'return': 930, 'pre': 931, 'usually': 932, 'agricultural': 933, 'technology': 934, 'themes': 935, 'present': 936, 'writings': 937, 'jean': 938, 'jacques': 939, 'context': 940, 'streets': 941, 'liberation': 942, 'john': 943, 'fall': 944, 'achieved': 945, 'primitive': 946, 'societies': 947, 'throughout': 948, 'examples': 949, 'schools': 950, 'numbers': 951, 'listed': 952, 'above': 953, 'distance': 954, 'traditional': 955, 'liberals': 956, 'etc': 957, 'escape': 958, 'ideology': 959, 'contrary': 960, 'single': 961, 'issue': 962, 'causes': 963, 'nuclear': 964, 'calls': 965, 'specifically': 966, 'focuses': 967, 'speaking': 968, 'broad': 969, 'favor': 970, 'absence': 971, 'magazine': 972, 'desire': 973, 'editor': 974, 'information': 975, 'org': 976, 'section': 977, 'receiving': 978, 'attention': 979, 'refer': 980, 'move': 981, 'wide': 982, 'range': 983, 'idea': 984, 'doctrines': 985, 'beliefs': 986, 'impossible': 987, 'degree': 988, 'under': 989, 'nonetheless': 990, 'f': 991, 'external': 992, 'reference': 993, 'critical': 994, 'formal': 995, 'informal': 996, 'small': 997, 'carrying': 998, 'out': 999, 'mass': 1000, 'organizations': 1001, 'base': 1002, 'proponents': 1003, 'm': 1004, 'tension': 1005, 'magazines': 1006, 'killing': 1007, 'contexts': 1008, 'dave': 1009, 'big': 1010, 'article': 1011, 'referred': 1012, 'applied': 1013, 'acting': 1014, 'position': 1015, 'shares': 1016, 'similarities': 1017, 'alternative': 1018, 'applying': 1019, 'manner': 1020, 'network': 1021, 'model': 1022, 'rejection': 1023, 'alone': 1024, 'business': 1025, 'begin': 1026, 'gun': 1027, 'issues': 1028, 'philosophers': 1029, 'destruction': 1030, 'caused': 1031, 'fair': 1032, 'relationships': 1033, 'ends': 1034, 'establishment': 1035, 'goals': 1036, 'cause': 1037, 'helps': 1038, 'create': 1039, 'advance': 1040, 'elite': 1041, 'interests': 1042, 'effort': 1043, 'dedicated': 1044, 'handle': 1045, 'cultural': 1046, 'existence': 1047, 'color': 1048, 'sam': 1049, 'created': 1050, 'forum': 1051, 'express': 1052, 'thoughts': 1053, 'racial': 1054, 'view': 1055, 'ethnic': 1056, 'preventing': 1057, 'races': 1058, 'living': 1059, 'separate': 1060, 'publicly': 1061, 'mexico': 1062, 'nearly': 1063, 'attempt': 1064, 'global': 1065, 'scale': 1066, 'carried': 1067, 'meanings': 1068, 'worldwide': 1069, 'expansion': 1070, 'governments': 1071, 'parallel': 1072, 'try': 1073, 'food': 1074, 'educational': 1075, 'systems': 1076, 'home': 1077, 'shell': 1078, 'recent': 1079, 'technological': 1080, 'developments': 1081, 'made': 1082, 'easier': 1083, 'internet': 1084, 'line': 1085, 'intellectual': 1086, 'gift': 1087, 'sharing': 1088, 'music': 1089, 'files': 1090, 'open': 1091, 'source': 1092, 'programming': 1093, 'software': 1094, 'gnu': 1095, 'linux': 1096, 'wiki': 1097, 'best': 1098, 'weapon': 1099, 'defeat': 1100, 'think': 1101, 'age': 1102, 'makes': 1103, 'gain': 1104, 'foreign': 1105, 'lands': 1106, 'health': 1107, 'lot': 1108, 'voting': 1109, 'because': 1110, 'amounts': 1111, 'your': 1112, 'garden': 1113, 'neither': 1114, 'nor': 1115, 'case': 1116, 'explained': 1117, 'ethics': 1118, 'george': 1119, 'smith': 1120, 'joe': 1121, 'fred': 1122, 'opinion': 1123, 'each': 1124, 'possible': 1125, 'modes': 1126, 'compete': 1127, 'interaction': 1128, 'opportunities': 1129, 'coalition': 1130, 'building': 1131, 'least': 1132, 'temporary': 1133, 'specific': 1134, 'purposes': 1135, 'criticisms': 1136, 'main': 1137, 'hand': 1138, 'frederick': 1139, 'enough': 1140, 'certainly': 1141, 'part': 1142, 'population': 1143, 'cannon': 1144, 'want': 1145, 'maintain': 1146, 'terror': 1147, 'arms': 1148, 'lasted': 1149, 'plain': 1150, 'agree': 1151, 'carl': 1152, 'holds': 1153, 'lesser': 1154, 'evil': 1155, 'ill': 1156, 'funded': 1157, 'sir': 1158, 'read': 1159, 'accept': 1160, 'character': 1161, 'expression': 1162, 'perhaps': 1163, 'e': 1164, 'middle': 1165, 'recently': 1166, 'relation': 1167, 'decades': 1168, 'behind': 1169, 'notably': 1170, 'personal': 1171, 'influence': 1172, 'continuing': 1173, 'impact': 1174, 'argues': 1175, 'treatment': 1176, 'suspected': 1177, 'making': 1178, 'ultimately': 1179, 'third': 1180, 'republican': 1181, 'references': 1182, 'stanley': 1183, 'franco': 1184, 'regime': 1185, 'entered': 1186, 'negotiations': 1187, 'phenomena': 1188, 'encountered': 1189, 'identify': 1190, 'following': 1191, 'mit': 1192, 'professor': 1193, 'linguistics': 1194, 'science': 1195, 'fiction': 1196, 'k': 1197, 'historian': 1198, 'howard': 1199, 'hans': 1200, 'artist': 1201, 'denmark': 1202, 'downtown': 1203, 'copenhagen': 1204, 'housing': 1205, 'employment': 1206, 'crisis': 1207, 'formation': 1208, 'nazi': 1209, 'places': 1210, 'italy': 1211, 'give': 1212, 'popularity': 1213, 'musical': 1214, 'styles': 1215, 'rose': 1216, 'punk': 1217, 'rock': 1218, 'hip': 1219, 'hop': 1220, 'folk': 1221, 'becoming': 1222, 'message': 1223, 'band': 1224, 'celebrated': 1225, 'dutch': 1226, 'ex': 1227, 'details': 1228, 'relevant': 1229, 'topic': 1230, 'brief': 1231, 'summary': 1232, 'extensive': 1233, 'list': 1234, 'nationalism': 1235, 'conflicts': 1236, 'past': 1237, 'events': 1238, 'sample': 1239, 'page': 1240, 'essays': 1241, 'region': 1242, 'african': 1243, 'corresponding': 1244, 're': 1245, 'boston': 1246, 'vii': 1247, 'january': 1248, 'diversity': 1249, 'relating': 1250, 'covered': 1251, 'archives': 1252, 'includes': 1253, 'publications': 1254, 'hundreds': 1255, 'short': 1256, 'pages': 1257, 'daily': 1258, 'encyclopedia': 1259, 'wikipedia': 1260, 'entry': 1261, 'points': 1262, 'theories': 1263, 'classified': 1264, 'disorder': 1265, 'communication': 1266, 'ability': 1267, 'patterns': 1268, 'behavior': 1269, 'unknown': 1270, 'researchers': 1271, 'results': 1272, 'environmental': 1273, 'magnitude': 1274, 'mechanisms': 1275, 'factors': 1276, 'genes': 1277, 'among': 1278, 'estimate': 1279, 'occurs': 1280, 'child': 1281, 'mental': 1282, 'gives': 1283, 'conservative': 1284, 'families': 1285, 'already': 1286, 'criteria': 1287, 'series': 1288, 'clinical': 1289, 'tests': 1290, 'obvious': 1291, 'condition': 1292, 'conditions': 1293, 'ways': 1294, 'definition': 1295, 'symbolic': 1296, 'play': 1297, 'statistical': 1298, 'manual': 1299, 'disorders': 1300, 'symptoms': 1301, 'increases': 1302, 'reported': 1303, 'reasons': 1304, 'heavily': 1305, 'psychology': 1306, 'scientific': 1307, 'children': 1308, 'improved': 1309, 'skills': 1310, 'fully': 1311, 'participate': 1312, 'mainstream': 1313, 'education': 1314, 'absolute': 1315, 'current': 1316, 'adults': 1317, 'able': 1318, 'communicate': 1319, 'attempts': 1320, 'dr': 1321, 'syndrome': 1322, 'swiss': 1323, 'eugene': 1324, 'classification': 1325, 'occur': 1326, 'twentieth': 1327, 'hospital': 1328, 'baltimore': 1329, 'patients': 1330, 'striking': 1331, 'introduced': 1332, 'suggested': 1333, 'meaning': 1334, 'fact': 1335, 'seemed': 1336, 'paper': 1337, 'subject': 1338, 'nervous': 1339, 'almost': 1340, 'characteristic': 1341, 'originally': 1342, 'typical': 1343, 'spectrum': 1344, 'scientist': 1345, 'widespread': 1346, 'recognition': 1347, 'ii': 1348, 'translated': 1349, 'majority': 1350, 'iv': 1351, 'fourth': 1352, 'edition': 1353, 'revision': 1354, 'characterized': 1355, 'varying': 1356, 'degrees': 1357, 'interactions': 1358, 'restricted': 1359, 'solely': 1360, 'determining': 1361, 'delay': 1362, 'instead': 1363, 'alternate': 1364, 'accurately': 1365, 'determine': 1366, 'terminology': 1367, 'referring': 1368, 'someone': 1369, 'generally': 1370, 'fairly': 1371, 'talk': 1372, 'characteristics': 1373, 'great': 1374, 'appropriate': 1375, 'quite': 1376, 'affect': 1377, 'differently': 1378, 'affected': 1379, 'varies': 1380, 'professionals': 1381, 'care': 1382, 'look': 1383, 'order': 1384, 'either': 1385, 'harm': 1386, 'beings': 1387, 'things': 1388, 'toward': 1389, 'voices': 1390, 'finger': 1391, 'contrast': 1392, 'prefer': 1393, 'objects': 1394, 'faces': 1395, 'seem': 1396, 'difficulty': 1397, 'learning': 1398, 'engage': 1399, 'everyday': 1400, 'avoid': 1401, 'eye': 1402, 'contact': 1403, 'appear': 1404, 'company': 1405, 'seek': 1406, 'respond': 1407, 'parents': 1408, 'displays': 1409, 'research': 1410, 'attached': 1411, 'unusual': 1412, 'looked': 1413, 'forward': 1414, 'teaching': 1415, 'playing': 1416, 'feel': 1417, 'expected': 1418, 'perspective': 1419, 'exclusive': 1420, 'possibly': 1421, 'adult': 1422, 'year': 1423, 'knowledge': 1424, 'expressions': 1425, 'seems': 1426, 'interpretation': 1427, 'leaves': 1428, 'unable': 1429, 'understand': 1430, 'intense': 1431, 'childhood': 1432, 'friends': 1433, 'having': 1434, 'friend': 1435, 'necessarily': 1436, 'sign': 1437, 'universal': 1438, 'proportion': 1439, 'situation': 1440, 'environments': 1441, 'changes': 1442, 'uncommon': 1443, 'exhibit': 1444, 'increased': 1445, 'levels': 1446, 'injury': 1447, 'withdrawal': 1448, 'situations': 1449, 'looking': 1450, 'integration': 1451, 'problems': 1452, 'normal': 1453, 'input': 1454, 'touch': 1455, 'sounds': 1456, 'poor': 1457, 'body': 1458, 'awareness': 1459, 'level': 1460, 'low': 1461, 'emotional': 1462, 'speech': 1463, 'motor': 1464, 'difficulties': 1465, 'academic': 1466, 'hearing': 1467, 'trouble': 1468, 'usual': 1469, 'filter': 1470, 'crowd': 1471, 'effect': 1472, 'apply': 1473, 'reportedly': 1474, 'passed': 1475, 'earliest': 1476, 'birthday': 1477, 'turns': 1478, 'name': 1479, 'offered': 1480, 'clear': 1481, 'answer': 1482, 'remain': 1483, 'images': 1484, 'far': 1485, 'show': 1486, 'signs': 1487, 'stop': 1488, 'afterwards': 1489, 'speak': 1490, 'once': 1491, 'given': 1492, 'hours': 1493, 'online': 1494, 'boards': 1495, 'websites': 1496, 'devices': 1497, 'features': 1498, 'earlier': 1499, 'stages': 1500, 'periods': 1501, 'phrase': 1502, 'hear': 1503, 'sing': 1504, 'song': 1505, 'strong': 1506, 'sense': 1507, 'spoken': 1508, 'hard': 1509, 'carry': 1510, 'favorite': 1511, 'giving': 1512, 'else': 1513, 'opportunity': 1514, 'comment': 1515, 'chance': 1516, 'understanding': 1517, 'languages': 1518, 'vocal': 1519, 'similarly': 1520, 'abilities': 1521, 'hidden': 1522, 'say': 1523, 'understood': 1524, 'match': 1525, 'tone': 1526, 'voice': 1527, 'cannot': 1528, 'flat': 1529, 'robot': 1530, 'relatively': 1531, 'little': 1532, 'know': 1533, 'waiting': 1534, 'learn': 1535, 'get': 1536, 'contribute': 1537, 'physically': 1538, 'muscle': 1539, 'apart': 1540, 'extreme': 1541, 'apparent': 1542, 'older': 1543, 'spend': 1544, 'suddenly': 1545, 'trains': 1546, 'moves': 1547, 'demand': 1548, 'change': 1549, 'going': 1550, 'route': 1551, 'extremely': 1552, 'vacuum': 1553, 'train': 1554, 'symbols': 1555, 'topics': 1556, 'extend': 1557, 'become': 1558, 'effects': 1559, 'student': 1560, 'teacher': 1561, 'variations': 1562, 'teachers': 1563, 'aware': 1564, 'help': 1565, 'taught': 1566, 'students': 1567, 'better': 1568, 'visual': 1569, 'aids': 1570, 'material': 1571, 'presented': 1572, 'allows': 1573, 'doing': 1574, 'next': 1575, 'schedule': 1576, 'reduce': 1577, 'stress': 1578, 'shown': 1579, 'pairs': 1580, 'conscious': 1581, 'allowing': 1582, 'arise': 1583, 'integrated': 1584, 'useful': 1585, 'elaborate': 1586, 'directions': 1587, 'explain': 1588, 'stay': 1589, 'rest': 1590, 'partially': 1591, 'extra': 1592, 'techniques': 1593, 'assist': 1594, 'explosive': 1595, 'teams': 1596, 'recognize': 1597, 'stories': 1598, 'lower': 1599, 'systematic': 1600, 'approaches': 1601, 'cognitive': 1602, 'strategies': 1603, 'increase': 1604, 'excessive': 1605, 'reactions': 1606, 'total': 1607, 'items': 1608, 'marked': 1609, 'multiple': 1610, 'peer': 1611, 'share': 1612, 'showing': 1613, 'bringing': 1614, 'pointing': 1615, 'accompanied': 1616, 'varied': 1617, 'activities': 1618, 'apparently': 1619, 'whole': 1620, 'parts': 1621, 'statement': 1622, 'completely': 1623, 'methods': 1624, 'types': 1625, 'presents': 1626, 'mild': 1627, 'public': 1628, 'therapy': 1629, 'iq': 1630, 'currently': 1631, 'literature': 1632, 'confusion': 1633, 'service': 1634, 'serve': 1635, 'severely': 1636, 'perform': 1637, 'tasks': 1638, 'potential': 1639, 'write': 1640, 'severe': 1641, 'consequence': 1642, 'persons': 1643, 'implies': 1644, 'rising': 1645, 'indicating': 1646, 'explanation': 1647, 'probably': 1648, 'former': 1649, 'observation': 1650, 'mention': 1651, 'produced': 1652, 'merely': 1653, 'medical': 1654, 'evolved': 1655, 'identification': 1656, 'depicted': 1657, 'rain': 1658, 'relatives': 1659, 'family': 1660, 'loved': 1661, 'ones': 1662, 'we': 1663, 'receive': 1664, 'senses': 1665, 'closely': 1666, 'begins': 1667, 'controversy': 1668, 'differences': 1669, 'matter': 1670, 'mother': 1671, 'crucial': 1672, 'dramatically': 1673, 'decade': 1674, 'statistics': 1675, 'graph': 1676, 'center': 1677, 'explosion': 1678, 'last': 1679, 'ten': 1680, 'largely': 1681, 'personality': 1682, 'sudden': 1683, 'partly': 1684, 'services': 1685, 'study': 1686, 'california': 1687, 'claimed': 1688, 'real': 1689, 'chris': 1690, 'johnson': 1691, 'university': 1692, 'texas': 1693, 'sciences': 1694, 'san': 1695, 'antonio': 1696, 'academy': 1697, 'expert': 1698, 'panel': 1699, 'seeing': 1700, 'question': 1701, 'sure': 1702, 'direction': 1703, 'funding': 1704, 'search': 1705, 'genetics': 1706, 'diet': 1707, 'genetic': 1708, 'constitution': 1709, 'connection': 1710, 'instance': 1711, 'entitled': 1712, 'media': 1713, 'application': 1714, 'disease': 1715, 'actually': 1716, 'athletic': 1717, 'surrounding': 1718, 'increasing': 1719, 'light': 1720, 'experienced': 1721, 'falls': 1722, 'category': 1723, 'strictly': 1724, 'patient': 1725, 'differential': 1726, 'complexity': 1727, 'connecting': 1728, 'addition': 1729, 'forming': 1730, 'off': 1731, 'essentially': 1732, 'dubbed': 1733, 'pro': 1734, 'caught': 1735, 'scientists': 1736, 'closer': 1737, 'sent': 1738, 'letter': 1739, 'nations': 1740, 'treated': 1741, 'minority': 1742, 'numerous': 1743, 'available': 1744, 'local': 1745, 'master': 1746, 'initiated': 1747, 'british': 1748, 'brain': 1749, 'injured': 1750, 'trust': 1751, 'london': 1752, 'prime': 1753, 'minister': 1754, 'tony': 1755, 'palace': 1756, 'westminster': 1757, 'begun': 1758, 'unique': 1759, 'marry': 1760, 'married': 1761, 'attracted': 1762, 'shared': 1763, 'simple': 1764, 'anyone': 1765, 'bit': 1766, 'subjects': 1767, 'technical': 1768, 'temple': 1769, 'lawrence': 1770, 'successfully': 1771, 'jobs': 1772, 'trained': 1773, 'job': 1774, 'training': 1775, 'continue': 1776, 'independent': 1777, 'require': 1778, 'providing': 1779, 'depending': 1780, 'challenge': 1781, 'finding': 1782, 'programs': 1783, 'facilities': 1784, 'achieve': 1785, 'phenomenon': 1786, 'area': 1787, 'film': 1788, 'fast': 1789, 'daniel': 1790, 'documentary': 1791, 'bright': 1792, 'otherwise': 1793, 'specified': 1794, 'rare': 1795, 'exclusively': 1796, 'females': 1797, 'period': 1798, 'girl': 1799, 'longer': 1800, 'talking': 1801, 'feet': 1802, 'hands': 1803, 'sponsored': 1804, 'discovered': 1805, 'sequence': 1806, 'gene': 1807, 'test': 1808, 'accuracy': 1809, 'rate': 1810, 'abbreviated': 1811, 'appearing': 1812, 'normally': 1813, 'previously': 1814, 'behaviour': 1815, 'testing': 1816, 'evidence': 1817, 'suggests': 1818, 'meet': 1819, 'none': 1820, 'note': 1821, 'mentioned': 1822, 'ethical': 1823, 'lists': 1824, 'fictional': 1825, 'characters': 1826, 'abstract': 1827, 'r': 1828, 'hypothesis': 1829, 'margaret': 1830, 'publication': 1831, 'u': 1832, 'department': 1833, 'pp': 1834, 'http': 1835, 'www': 1836, 'net': 1837, 'resource': 1838, 'com': 1839, 'colour': 1840, 'se': 1841, 'en': 1842, 'fox': 1843, 'eric': 1844, 'describes': 1845, 'discoveries': 1846, 'goal': 1847, 'news': 1848, 'adventures': 1849, 'professional': 1850, 'boy': 1851, 'getting': 1852, 'truth': 1853, 'lee': 1854, 'son': 1855, 'web': 1856, 'emphasis': 1857, 'approach': 1858, 'america': 1859, 'bernard': 1860, 'info': 1861, 'recovery': 1862, 'guide': 1863, 'offering': 1864, 'discuss': 1865, 'everything': 1866, 'selection': 1867, 'directory': 1868, 'measure': 1869, 'measures': 1870, 'traits': 1871, 'illness': 1872, 'surface': 1873, 'ratio': 1874, 'electromagnetic': 1875, 'radiation': 1876, 'reflected': 1877, 'incident': 1878, 'fraction': 1879, 'expressed': 1880, 'percentage': 1881, 'astronomy': 1882, 'depends': 1883, 'frequency': 1884, 'average': 1885, 'across': 1886, 'visible': 1887, 'angle': 1888, 'fresh': 1889, 'snow': 1890, 'ocean': 1891, 'whereas': 1892, 'moon': 1893, 'composition': 1894, 'ice': 1895, 'content': 1896, 'highest': 1897, 'solar': 1898, 'via': 1899, 'forest': 1900, 'farming': 1901, 'globe': 1902, 'tended': 1903, 'decrease': 1904, 'warming': 1905, 'temperature': 1906, 'feedback': 1907, 'absorbed': 1908, 'cooling': 1909, 'cycle': 1910, 'happens': 1911, 'size': 1912, 'potentially': 1913, 'alaska': 1914, 'data': 1915, 'composed': 1916, 'thousands': 1917, 'weather': 1918, 'stations': 1919, 'college': 1920, 'station': 1921, 'c': 1922, 'airport': 1923, 'concentration': 1924, 'trees': 1925, 'less': 1926, 'reflect': 1927, 'heat': 1928, 'space': 1929, 'winter': 1930, 'greater': 1931, 'regions': 1932, 'stronger': 1933, 'tropical': 1934, 'brazilian': 1935, 'cut': 1936, 'down': 1937, 'dark': 1938, 'replace': 1939, 'soil': 1940, 'grow': 1941, 'crops': 1942, 'appears': 1943, 'round': 1944, 'wear': 1945, 'put': 1946, 'risk': 1947, 'white': 1948, 'forests': 1949, 'cover': 1950, 'lowest': 1951, 'naturally': 1952, 'occurring': 1953, 'overall': 1954, 'dense': 1955, 'depend': 1956, 'desert': 1957, 'beach': 1958, 'sand': 1959, 'edward': 1960, 'plains': 1961, 'urban': 1962, 'values': 1963, 'built': 1964, 'reach': 1965, 'northern': 1966, 'cities': 1967, 'summer': 1968, 'zones': 1969, 'portions': 1970, 'buildings': 1971, 'materials': 1972, 'choose': 1973, 'lighter': 1974, 'colored': 1975, 'removing': 1976, 'thereby': 1977, 'cool': 1978, 'planet': 1979, 'nearby': 1980, 'readily': 1981, 'studies': 1982, 'centre': 1983, 'relative': 1984, 'carbon': 1985, 'neutral': 1986, 'ideal': 1987, 'landscape': 1988, 'antarctica': 1989, 'hence': 1990, 'basis': 1991, 'enhanced': 1992, 'polar': 1993, 'result': 1994, 'equation': 1995, 'ranging': 1996, 'minimum': 1997, 'near': 1998, 'maximum': 1999, 'climate': 2000, 'temperatures': 2001, 'drop': 2002, 'perfect': 2003, 'adding': 2004, 'artificial': 2005, 'heavy': 2006, 'commercial': 2007, 'traffic': 2008, 'september': 2009, 'attacks': 2010, 'airlines': 2011, 'days': 2012, 'showed': 2013, 'night': 2014, 'fine': 2015, 'particles': 2016, 'atmosphere': 2017, 'properties': 2018, 'forcing': 2019, 'bc': 2020, 'fossil': 2021, 'w': 2022, 'abu': 2023, 'satellite': 2024, 'image': 2025, 'march': 2026, 'hotel': 2027, 'side': 2028, 'arabic': 2029, 'ab': 2030, 'arab': 2031, 'country': 2032, 'lies': 2033, 'shaped': 2034, 'island': 2035, 'persian': 2036, 'gulf': 2037, 'coast': 2038, 'estimated': 2039, 'lived': 2040, 'located': 2041, 'al': 2042, 'census': 2043, 'inland': 2044, 'settled': 2045, 'rd': 2046, 'millennium': 2047, 'fishing': 2048, 'pattern': 2049, 'tribal': 2050, 'assumed': 2051, 'continued': 2052, 'vegetables': 2053, 'diving': 2054, 'occupied': 2055, 'constructed': 2056, 'growth': 2057, 'industry': 2058, 'half': 2059, 'residents': 2060, 'export': 2061, 'cash': 2062, 'bin': 2063, 'sultan': 2064, 'granted': 2065, 'petroleum': 2066, 'oil': 2067, 'money': 2068, 'paved': 2069, 'road': 2070, 'completed': 2071, 'uncertain': 2072, 'save': 2073, 'revenue': 2074, 'brother': 2075, 'transform': 2076, 'decided': 2077, 'assistance': 2078, 'story': 2079, 'chapter': 2080, 'isbn': 2081, 'britain': 2082, 'driving': 2083, 'independence': 2084, 'flow': 2085, 'rapidly': 2086, 'replaced': 2087, 'banks': 2088, 'hereditary': 2089, 'president': 2090, 'formerly': 2091, 'arabia': 2092, 'square': 2093, 'miles': 2094, 'town': 2095, 'arose': 2096, 'treaties': 2097, 'slavery': 2098, 'treaty': 2099, 'decision': 2100, 'july': 2101, 'mainland': 2102, 'producer': 2103, 'acquired': 2104, 'massive': 2105, 'financial': 2106, 'investment': 2107, 'construction': 2108, 'projects': 2109, 'finance': 2110, 'sector': 2111, 'commerce': 2112, 'secure': 2113, 'lasting': 2114, 'agencies': 2115, 'supplied': 2116, 'administered': 2117, 'agency': 2118, 'office': 2119, 'mail': 2120, 'come': 2121, 'opened': 2122, 'eleven': 2123, 'currency': 2124, 'np': 2125, 'despite': 2126, 'introduction': 2127, 'valid': 2128, 'ended': 2129, 'administration': 2130, 'replacement': 2131, 'released': 2132, 'jerusalem': 2133, 'blue': 2134, 'june': 2135, 'hot': 2136, 'rainfall': 2137, 'transport': 2138, 'serves': 2139, 'trivia': 2140, 'cartoon': 2141, 'cat': 2142, 'garfield': 2143, 'box': 2144, 'ship': 2145, 'go': 2146, 'cats': 2147, 'wild': 2148, 'live': 2149, 'suburbs': 2150, 'port': 2151, 'authorities': 2152, 'saudi': 2153, 'transportation': 2154, 'chamber': 2155, 'islands': 2156, 'archaeological': 2157, 'survey': 2158, 'career': 2159, 'site': 2160, 'asia': 2161, 'coastal': 2162, 'alphabet': 2163, 'plural': 2164, 'started': 2165, 'head': 2166, 'egyptian': 2167, 'semitic': 2168, 'linear': 2169, 'served': 2170, 'hebrew': 2171, 'greeks': 2172, 'denoted': 2173, 'vowel': 2174, 'alpha': 2175, 'dating': 2176, 'varieties': 2177, 'distinguished': 2178, 'leg': 2179, 'cross': 2180, 'romans': 2181, 'preserved': 2182, 'consists': 2183, 'circle': 2184, 'vertical': 2185, 'stroke': 2186, 'printed': 2187, 'consisting': 2188, 'loop': 2189, 'arc': 2190, 'horizontal': 2191, 'demonstrated': 2192, 'version': 2193, 'dropped': 2194, 'usage': 2195, 'denotes': 2196, 'father': 2197, 'concert': 2198, 'pronunciation': 2199, 'dialect': 2200, 'ace': 2201, 'shift': 2202, 'variants': 2203, 'denote': 2204, 'vowels': 2205, 'x': 2206, 'extended': 2207, 'codes': 2208, 'computing': 2209, 'unicode': 2210, 'represent': 2211, 'decimal': 2212, 'binary': 2213, 'ascii': 2214, 'code': 2215, 'html': 2216, 'upper': 2217, 'respectively': 2218, 'league': 2219, 'baseball': 2220, 'stands': 2221, 'discovery': 2222, 'designation': 2223, 'comet': 2224, 'asteroid': 2225, 'semi': 2226, 'axis': 2227, 'orbit': 2228, 'symbol': 2229, 'cup': 2230, 'element': 2231, 'windows': 2232, 'mac': 2233, 'os': 2234, 'command': 2235, 'document': 2236, 'string': 2237, 'conventional': 2238, 'address': 2239, 'floppy': 2240, 'disk': 2241, 'drive': 2242, 'operating': 2243, 'dos': 2244, 'security': 2245, 'protection': 2246, 'grade': 2247, 'score': 2248, 'plus': 2249, 'pronounced': 2250, 'star': 2251, 'electronics': 2252, 'standard': 2253, 'battery': 2254, 'tube': 2255, 'esperanto': 2256, 'ending': 2257, 'worn': 2258, 'novel': 2259, 'technologies': 2260, 'games': 2261, 'mark': 2262, 'deck': 2263, 'cards': 2264, 'prefix': 2265, 'borrowed': 2266, 'german': 2267, 'romance': 2268, 'india': 2269, 'movie': 2270, 'rating': 2271, 'intended': 2272, 'plate': 2273, 'austria': 2274, 'sizes': 2275, 'aspect': 2276, 'roughly': 2277, 'width': 2278, 'height': 2279, 'logic': 2280, 'y': 2281, 'letters': 2282, 'o': 2283, 'negative': 2284, 'verbs': 2285, 'trace': 2286, 'mathematics': 2287, 'digit': 2288, 'algebraic': 2289, 'integer': 2290, 'sequences': 2291, 'id': 2292, 'digits': 2293, 'medicine': 2294, 'blood': 2295, 'pitch': 2296, 'top': 2297, 'record': 2298, 'album': 2299, 'mode': 2300, 'user': 2301, 'sets': 2302, 'camera': 2303, 'speed': 2304, 'poetry': 2305, 'serial': 2306, 'dollars': 2307, 'federal': 2308, 'reserve': 2309, 'si': 2310, 'units': 2311, 'unit': 2312, 'electric': 2313, 'metres': 2314, 'military': 2315, 'aa': 2316, 'alabama': 2317, 'southern': 2318, 'memory': 2319, 'native': 2320, 'presence': 2321, 'creek': 2322, 'mobile': 2323, 'northeast': 2324, 'ohio': 2325, 'river': 2326, 'burial': 2327, 'evident': 2328, 'settlement': 2329, 'west': 2330, 'florida': 2331, 'georgia': 2332, 'mississippi': 2333, 'territory': 2334, 'thereafter': 2335, 'coastline': 2336, 'andrew': 2337, 'jackson': 2338, 'captured': 2339, 'nd': 2340, 'republic': 2341, 'confederate': 2342, 'battles': 2343, 'contributed': 2344, 'soldiers': 2345, 'officially': 2346, 'stage': 2347, 'solid': 2348, 'south': 2349, 'running': 2350, 'presidential': 2351, 'candidates': 2352, 'gave': 2353, 'harry': 2354, 'protest': 2355, 'win': 2356, 'candidate': 2357, 'barry': 2358, 'wallace': 2359, 'jimmy': 2360, 'carter': 2361, 'increasingly': 2362, 'dominant': 2363, 'offices': 2364, 'houses': 2365, 'legislature': 2366, 'registered': 2367, 'bush': 2368, 'won': 2369, 'counties': 2370, 'belt': 2371, 'americans': 2372, 'policies': 2373, 'alan': 2374, 'requires': 2375, 'sex': 2376, 'homosexuality': 2377, 'acceptable': 2378, 'homosexual': 2379, 'conduct': 2380, 'criminal': 2381, 'offense': 2382, 'unclear': 2383, 'requirements': 2384, 'supreme': 2385, 'court': 2386, 'v': 2387, 'bureau': 2388, 'geography': 2389, 'km': 2390, 'mi': 2391, 'water': 2392, 'mostly': 2393, 'tennessee': 2394, 'cutting': 2395, 'valley': 2396, 'creating': 2397, 'rivers': 2398, 'mountains': 2399, 'lakes': 2400, 'east': 2401, 'county': 2402, 'tower': 2403, 'pocket': 2404, 'park': 2405, 'bridge': 2406, 'longest': 2407, 'ranges': 2408, 'elevation': 2409, 'sea': 2410, 'bay': 2411, 'meters': 2412, 'mount': 2413, 'analysis': 2414, 'gross': 2415, 'billion': 2416, 'per': 2417, 'capita': 2418, 'income': 2419, 'eggs': 2420, 'cattle': 2421, 'plant': 2422, 'cotton': 2423, 'corn': 2424, 'milk': 2425, 'neighboring': 2426, 'produces': 2427, 'twice': 2428, 'annually': 2429, 'iron': 2430, 'steel': 2431, 'cast': 2432, 'wood': 2433, 'mining': 2434, 'coal': 2435, 'plastic': 2436, 'electronic': 2437, 'nasa': 2438, 'marshall': 2439, 'flight': 2440, 'missile': 2441, 'arsenal': 2442, 'demographics': 2443, 'density': 2444, 'map': 2445, 'race': 2446, 'ancestry': 2447, 'comparison': 2448, 'irish': 2449, 'religions': 2450, 'protestant': 2451, 'baptist': 2452, 'christ': 2453, 'catholic': 2454, 'colleges': 2455, 'universities': 2456, 'incomplete': 2457, 'air': 2458, 'television': 2459, 'tv': 2460, 'shakespeare': 2461, 'festival': 2462, 'sports': 2463, 'heart': 2464, 'required': 2465, 'vehicle': 2466, 'license': 2467, 'plates': 2468, 'reduced': 2469, 'stars': 2470, 'fell': 2471, 'achilles': 2472, 'disambiguation': 2473, 'mythology': 2474, 'roman': 2475, 'hero': 2476, 'greatest': 2477, 'homer': 2478, 'lines': 2479, 'p': 2480, 'ken': 2481, 'statue': 2482, 'latter': 2483, 'producing': 2484, 'names': 2485, 'tribe': 2486, 'nation': 2487, 'theme': 2488, 'raised': 2489, 'frequently': 2490, 'glory': 2491, 'gregory': 2492, 'corps': 2493, 'double': 2494, 'poem': 2495, 'men': 2496, 'southeast': 2497, 'zeus': 2498, 'fire': 2499, 'bear': 2500, 'gods': 2501, 'born': 2502, 'myth': 2503, 'tried': 2504, 'wet': 2505, 'spot': 2506, 'burn': 2507, 'abandoned': 2508, 'mentions': 2509, 'wounded': 2510, 'seriously': 2511, 'young': 2512, 'stopped': 2513, 'ruled': 2514, 'battle': 2515, 'shall': 2516, 'reports': 2517, 'lost': 2518, 'asked': 2519, 'pieces': 2520, 'onto': 2521, 'magic': 2522, 'account': 2523, 'whom': 2524, 'apollo': 2525, 'horses': 2526, 'lion': 2527, 'walls': 2528, 'love': 2529, 'beauty': 2530, 'gold': 2531, 'youth': 2532, 'advances': 2533, 'inside': 2534, 'legend': 2535, 'goes': 2536, 'death': 2537, 'arm': 2538, 'aside': 2539, 'sight': 2540, 'pain': 2541, 'scene': 2542, 'interpreted': 2543, 'welfare': 2544, 'sexual': 2545, 'towns': 2546, 'keep': 2547, 'meanwhile': 2548, 'woman': 2549, 'named': 2550, 'priest': 2551, 'buy': 2552, 'plague': 2553, 'armies': 2554, 'forced': 2555, 'loss': 2556, 'plot': 2557, 'becomes': 2558, 'warrior': 2559, 'pushed': 2560, 'ships': 2561, 'starting': 2562, 'visited': 2563, 'phoenix': 2564, 'wearing': 2565, 'armor': 2566, 'killed': 2567, 'floor': 2568, 'goddess': 2569, 'provides': 2570, 'entire': 2571, 'allies': 2572, 'sold': 2573, 'returned': 2574, 'eventually': 2575, 'honour': 2576, 'winner': 2577, 'arrangement': 2578, 'weight': 2579, 'tell': 2580, 'ran': 2581, 'stood': 2582, 'versions': 2583, 'tale': 2584, 'delivered': 2585, 'challenged': 2586, 'legendary': 2587, 'kills': 2588, 'funeral': 2589, 'decay': 2590, 'sided': 2591, 'barrier': 2592, 'kept': 2593, 'camp': 2594, 'finally': 2595, 'moving': 2596, 'scenes': 2597, 'receives': 2598, 'fighter': 2599, 'knowing': 2600, 'choice': 2601, 'provided': 2602, 'enjoy': 2603, 'happy': 2604, 'die': 2605, 'heroes': 2606, 'face': 2607, 'kill': 2608, 'thomas': 2609, 'victoria': 2610, 'albert': 2611, 'museum': 2612, 'defeated': 2613, 'ethiopia': 2614, 'affair': 2615, 'dying': 2616, 'subsequently': 2617, 'visiting': 2618, 'princess': 2619, 'sort': 2620, 'remains': 2621, 'enormous': 2622, 'bow': 2623, 'heracles': 2624, 'bones': 2625, 'mouth': 2626, 'danube': 2627, 'fate': 2628, 'object': 2629, 'cousin': 2630, 'sources': 2631, 'safe': 2632, 'daughters': 2633, 'daughter': 2634, 'learned': 2635, 'prophet': 2636, 'capture': 2637, 'selling': 2638, 'placed': 2639, 'shield': 2640, 'convinced': 2641, 'campaign': 2642, 'arranged': 2643, 'fled': 2644, 'prepared': 2645, 'identity': 2646, 'passage': 2647, 'slave': 2648, 'dead': 2649, 'kings': 2650, 'descended': 2651, 'descent': 2652, 'ancestor': 2653, 'tomb': 2654, 'passing': 2655, 'colonies': 2656, 'relationship': 2657, 'fifth': 2658, 'centuries': 2659, 'arguably': 2660, 'plato': 2661, 'amazon': 2662, 'deaths': 2663, 'promised': 2664, 'plays': 2665, 'egypt': 2666, 'survive': 2667, 'audio': 2668, 'atlantic': 2669, 'records': 2670, 'stand': 2671, 'special': 2672, 'dylan': 2673, 'colorado': 2674, 'metal': 2675, 'stones': 2676, 'girls': 2677, 'ghost': 2678, 'baker': 2679, 'helen': 2680, 'la': 2681, 'di': 2682, 'channel': 2683, 'steve': 2684, 'ne': 2685, 'royal': 2686, 'zealand': 2687, 'navy': 2688, 'xi': 2689, 'iii': 2690, 'divine': 2691, 'comedy': 2692, 'bibliography': 2693, 'il': 2694, 'anthony': 2695, 'byzantine': 2696, 'epic': 2697, 'oral': 2698, 'les': 2699, 'et': 2700, 'questions': 2701, 'etymology': 2702, 'illinois': 2703, 'ph': 2704, 'thesis': 2705, 'wayne': 2706, 'ed': 2707, 'deities': 2708, 'abraham': 2709, 'lincoln': 2710, 'rail': 2711, 'selected': 2712, 'approved': 2713, 'senior': 2714, 'civilian': 2715, 'officials': 2716, 'affairs': 2717, 'messages': 2718, 'charge': 2719, 'plans': 2720, 'reconstruction': 2721, 'efforts': 2722, 'expand': 2723, 'territories': 2724, 'boundaries': 2725, 'competing': 2726, 'moderate': 2727, 'attempting': 2728, 'personally': 2729, 'directed': 2730, 'cooperation': 2731, 'grant': 2732, 'forces': 2733, 'qualities': 2734, 'diplomatic': 2735, 'handling': 2736, 'border': 2737, 'beginning': 2738, 'cabinet': 2739, 'peace': 2740, 'criticized': 2741, 'executive': 2742, 'martial': 2743, 'arrest': 2744, 'newspaper': 2745, 'publishers': 2746, 'slow': 2747, 'conquered': 2748, 'amendment': 2749, 'slaves': 2750, 'powers': 2751, 'spent': 2752, 'matters': 2753, 'raise': 2754, 'encourage': 2755, 'imposed': 2756, 'tax': 2757, 'millions': 2758, 'bonds': 2759, 'immigration': 2760, 'railroad': 2761, 'agriculture': 2762, 'farm': 2763, 'ownership': 2764, 'effectively': 2765, 'dramatic': 2766, 'controls': 2767, 'virginia': 2768, 'admitted': 2769, 'ranked': 2770, 'presidents': 2771, 'assassination': 2772, 'room': 2773, 'log': 2774, 'spring': 2775, 'frontier': 2776, 'farmers': 2777, 'poverty': 2778, 'citizen': 2779, 'purchased': 2780, 'assumption': 2781, 'debt': 2782, 'larger': 2783, 'exposed': 2784, 'circuit': 2785, 'legal': 2786, 'rolling': 2787, 'member': 2788, 'courts': 2789, 'indiana': 2790, 'titles': 2791, 'episodes': 2792, 'died': 2793, 'thirty': 2794, 'compared': 2795, 'boys': 2796, 'donald': 2797, 'title': 2798, 'struck': 2799, 'village': 2800, 'hired': 2801, 'considerable': 2802, 'consisted': 2803, 'educated': 2804, 'studying': 2805, 'hunting': 2806, 'animals': 2807, 'tall': 2808, 'reading': 2809, 'assembly': 2810, 'improvements': 2811, 'populated': 2812, 'captain': 2813, 'drawn': 2814, 'combat': 2815, 'volume': 2816, 'england': 2817, 'bar': 2818, 'successive': 2819, 'house': 2820, 'representatives': 2821, 'representative': 2822, 'stating': 2823, 'bed': 2824, 'gay': 2825, 'activist': 2826, 'generated': 2827, 'fellow': 2828, 'collecting': 2829, 'knew': 2830, 'denied': 2831, 'allowed': 2832, 'surrounded': 2833, 'officers': 2834, 'greatly': 2835, 'send': 2836, 'harvard': 2837, 'marriage': 2838, 'november': 2839, 'couple': 2840, 'sons': 2841, 'manchester': 2842, 'washington': 2843, 'chicago': 2844, 'survived': 2845, 'grandson': 2846, 'henry': 2847, 'clay': 2848, 'powerful': 2849, 'attributed': 2850, 'taylor': 2851, 'remote': 2852, 'oregon': 2853, 'acceptance': 2854, 'declined': 2855, 'returning': 2856, 'travel': 2857, 'patent': 2858, 'vessels': 2859, 'trial': 2860, 'murder': 2861, 'james': 2862, 'judicial': 2863, 'notice': 2864, 'crime': 2865, 'date': 2866, 'anything': 2867, 'kansas': 2868, 'limits': 2869, 'missouri': 2870, 'drew': 2871, 'douglas': 2872, 'senate': 2873, 'proposed': 2874, 'solution': 2875, 'drawing': 2876, 'senator': 2877, 'broke': 2878, 'push': 2879, 'dissolved': 2880, 'danger': 2881, 'featured': 2882, 'threatened': 2883, 'legislative': 2884, 'seats': 2885, 'discussed': 2886, 'politically': 2887, 'citizenship': 2888, 'mr': 2889, 'defensive': 2890, 'mixed': 2891, 'actual': 2892, 'doubt': 2893, 'reliable': 2894, 'team': 2895, 'observed': 2896, 'me': 2897, 'process': 2898, 'chosen': 2899, 'newer': 2900, 'governmental': 2901, 'run': 2902, 'bell': 2903, 'constitutional': 2904, 'strength': 2905, 'fusion': 2906, 'combined': 2907, 'leave': 2908, 'carolina': 2909, 'delaware': 2910, 'maryland': 2911, 'arkansas': 2912, 'warning': 2913, 'invasion': 2914, 'threat': 2915, 'arrived': 2916, 'ready': 2917, 'protect': 2918, 'purpose': 2919, 'contract': 2920, 'agreement': 2921, 'prevent': 2922, 'protected': 2923, 'permitted': 2924, 'boundary': 2925, 'covenant': 2926, 'foot': 2927, 'putting': 2928, 'ahead': 2929, 'course': 2930, 'recommended': 2931, 'broken': 2932, 'fort': 2933, 'fired': 2934, 'surrender': 2935, 'governors': 2936, 'preserve': 2937, 'attack': 2938, 'loyal': 2939, 'met': 2940, 'draft': 2941, 'thousand': 2942, 'engaged': 2943, 'deemed': 2944, 'forever': 2945, 'again': 2946, 'shows': 2947, 'somewhat': 2948, 'implemented': 2949, 'declaration': 2950, 'complicated': 2951, 'presidency': 2952, 'abroad': 2953, 'weeks': 2954, 'signing': 2955, 'york': 2956, 'restored': 2957, 'unless': 2958, 'whenever': 2959, 'correct': 2960, 'errors': 2961, 'adopt': 2962, 'duty': 2963, 'modification': 2964, 'credited': 2965, 'escaped': 2966, 'advanced': 2967, 'exactly': 2968, 'signed': 2969, 'conservatives': 2970, 'africa': 2971, 'newly': 2972, 'domestic': 2973, 'grace': 2974, 'bills': 2975, 'purchase': 2976, 'pacific': 2977, 'railway': 2978, 'legislation': 2979, 'minnesota': 2980, 'execution': 2981, 'appointed': 2982, 'van': 2983, 'nominated': 2984, 'campaigns': 2985, 'bloody': 2986, 'likely': 2987, 'secretary': 2988, 'desired': 2989, 'lose': 2990, 'morning': 2991, 'operate': 2992, 'calling': 2993, 'determined': 2994, 'willing': 2995, 'convention': 2996, 'atlanta': 2997, 'costs': 2998, 'plan': 2999, 'surprise': 3000, 'winning': 3001, 'future': 3002, 'hope': 3003, 'pass': 3004, 'bond': 3005, 'fifty': 3006, 'sword': 3007, 'ago': 3008, 'lord': 3009, 'finish': 3010, 'constant': 3011, 'wake': 3012, 'bull': 3013, 'retirement': 3014, 'scott': 3015, 'planning': 3016, 'strategic': 3017, 'quickly': 3018, 'press': 3019, 'offensive': 3020, 'graduate': 3021, 'peninsula': 3022, 'boat': 3023, 'holding': 3024, 'ultimate': 3025, 'harrison': 3026, 'landing': 3027, 'advice': 3028, 'pope': 3029, 'release': 3030, 'theater': 3031, 'criticism': 3032, 'quoted': 3033, 'losses': 3034, 'cold': 3035, 'harbor': 3036, 'siege': 3037, 'philip': 3038, 'excess': 3039, 'crossed': 3040, 'sites': 3041, 'told': 3042, 'duck': 3043, 'shot': 3044, 'civilians': 3045, 'extraordinary': 3046, 'cemetery': 3047, 'speaker': 3048, 'spoke': 3049, 'remember': 3050, 'previous': 3051, 'suspended': 3052, 'accused': 3053, 'roger': 3054, 'facing': 3055, 'davis': 3056, 'bill': 3057, 'seat': 3058, 'easy': 3059, 'gen': 3060, 'queen': 3061, 'quote': 3062, 'harris': 3063, 'planned': 3064, 'regard': 3065, 'invited': 3066, 'evening': 3067, 'wife': 3068, 'actor': 3069, 'heard': 3070, 'ford': 3071, 'theatre': 3072, 'intention': 3073, 'assigned': 3074, 'vice': 3075, 'ward': 3076, 'hill': 3077, 'dream': 3078, 'attend': 3079, 'writer': 3080, 'tom': 3081, 'noise': 3082, 'aimed': 3083, 'firing': 3084, 'added': 3085, 'breaking': 3086, 'managed': 3087, 'horse': 3088, 'physician': 3089, 'charles': 3090, 'audience': 3091, 'street': 3092, 'lay': 3093, 'attended': 3094, 'fragments': 3095, 'ball': 3096, 'inches': 3097, 'consciousness': 3098, 'ages': 3099, 'lying': 3100, 'retained': 3101, 'collection': 3102, 'display': 3103, 'hair': 3104, 'grand': 3105, 'buried': 3106, 'bronze': 3107, 'repeated': 3108, 'concrete': 3109, 'positions': 3110, 'skill': 3111, 'reducing': 3112, 'samuel': 3113, 'miller': 3114, 'involvement': 3115, 'legacy': 3116, 'insurance': 3117, 'corporation': 3118, 'automobile': 3119, 'memorial': 3120, 'coin': 3121, 'opponent': 3122, 'removal': 3123, 'historic': 3124, 'nickname': 3125, 'idaho': 3126, 'wisconsin': 3127, 'holiday': 3128, 'library': 3129, 'friendly': 3130, 'standing': 3131, 'chains': 3132, 'augustus': 3133, 'st': 3134, 'grey': 3135, 'edinburgh': 3136, 'submarine': 3137, 'aircraft': 3138, 'carrier': 3139, 'honor': 3140, 'ss': 3141, 'placing': 3142, 'ronald': 3143, 'reagan': 3144, 'cm': 3145, 'darwin': 3146, 'surviving': 3147, 'witness': 3148, 'j': 3149, 've': 3150, 'got': 3151, 'secret': 3152, 'trying': 3153, 'pin': 3154, 'really': 3155, 'appearance': 3156, 'mirror': 3157, 'shoot': 3158, 'written': 3159, 'descriptions': 3160, 'observations': 3161, 'loose': 3162, 'suffered': 3163, 'depression': 3164, 'suicide': 3165, 'happened': 3166, 'device': 3167, 'kennedy': 3168, 'movies': 3169, 'scholars': 3170, 'biography': 3171, 'genius': 3172, 'report': 3173, 'allen': 3174, 'volumes': 3175, 'promise': 3176, 'prize': 3177, 'vol': 3178, 'scholar': 3179, 'richard': 3180, 'poet': 3181, 'bruce': 3182, 'tools': 3183, 'weapons': 3184, 'restoration': 3185, 'ch': 3186, 'harold': 3187, 'aspects': 3188, 'faith': 3189, 'call': 3190, 'remembered': 3191, 'liberal': 3192, 'statesman': 3193, 'wolf': 3194, 'gore': 3195, 'williams': 3196, 'transformation': 3197, 'wilson': 3198, 'art': 3199, 'jersey': 3200, 'introducing': 3201, 'paul': 3202, 'foundation': 3203, 'morris': 3204, 'libraries': 3205, 'heritage': 3206, 'ny': 3207, 'michigan': 3208, 'marks': 3209, 'monument': 3210, 'nineteenth': 3211, 'princeton': 3212, 'roy': 3213, 'collected': 3214, 'classics': 3215, 'papers': 3216, 'overview': 3217, 'virtual': 3218, 'quotes': 3219, 'tour': 3220, 'adventure': 3221, 'original': 3222, 'weekly': 3223, 'dc': 3224, 'award': 3225, 'archive': 3226, 'project': 3227, 'francis': 3228, 'births': 3229, 'victims': 3230, 'welsh': 3231, 'aristotle': 3232, 'philosopher': 3233, 'studied': 3234, 'physics': 3235, 'biology': 3236, 'foundations': 3237, 'treatise': 3238, 'texts': 3239, 'revised': 3240, 'soul': 3241, 'connected': 3242, 'substance': 3243, 'anatomy': 3244, 'geology': 3245, 'theology': 3246, 'dealt': 3247, 'customs': 3248, 'constitute': 3249, 'colony': 3250, 'instruction': 3251, 'uncle': 3252, 'athens': 3253, 'investigation': 3254, 'legends': 3255, 'facts': 3256, 'prove': 3257, 'besides': 3258, 'writers': 3259, 'awarded': 3260, 'murdered': 3261, 'briefly': 3262, 'conducted': 3263, 'biological': 3264, 'proof': 3265, 'prince': 3266, 'disputes': 3267, 'correspondence': 3268, 'unfortunately': 3269, 'burned': 3270, 'companion': 3271, 'throne': 3272, 'residence': 3273, 'regular': 3274, 'walking': 3275, 'thirteen': 3276, 'forth': 3277, 'succeeded': 3278, 'realm': 3279, 'orders': 3280, 'punishment': 3281, 'sin': 3282, 'except': 3283, 'hostile': 3284, 'sharp': 3285, 'revealed': 3286, 'devoted': 3287, 'ceased': 3288, 'speculation': 3289, 'fear': 3290, 'pagan': 3291, 'islamic': 3292, 'ibn': 3293, 'golden': 3294, 'islam': 3295, 'essence': 3296, 'concerned': 3297, 'finds': 3298, 'corresponds': 3299, 'empirical': 3300, 'reasoning': 3301, 'carries': 3302, 'practical': 3303, 'arts': 3304, 'divisions': 3305, 'nothing': 3306, 'syntax': 3307, 'emerged': 3308, 'ad': 3309, 'logical': 3310, 'implications': 3311, 'conclusion': 3312, 'obtained': 3313, 'reserved': 3314, 'compiled': 3315, 'categories': 3316, 'namely': 3317, 'creator': 3318, 'deals': 3319, 'discussions': 3320, 'males': 3321, 'teeth': 3322, 'false': 3323, 'universe': 3324, 'changing': 3325, 'leads': 3326, 'compare': 3327, 'step': 3328, 'founding': 3329, 'trail': 3330, 'galileo': 3331, 'planets': 3332, 'sun': 3333, 'vital': 3334, 'discipline': 3335, 'beyond': 3336, 'comprehensive': 3337, 'why': 3338, 'agent': 3339, 'reduces': 3340, 'compound': 3341, 'tells': 3342, 'efficient': 3343, 'starts': 3344, 'agents': 3345, 'representing': 3346, 'covers': 3347, 'definitions': 3348, 'done': 3349, 'instrumental': 3350, 'supposed': 3351, 'involving': 3352, 'psychological': 3353, 'rational': 3354, 'additionally': 3355, 'causing': 3356, 'function': 3357, 'circular': 3358, 'dependence': 3359, 'indicated': 3360, 'generic': 3361, 'suggest': 3362, 'describing': 3363, 'happen': 3364, 'intent': 3365, 'substantial': 3366, 'sum': 3367, 'sphere': 3368, 'involve': 3369, 'humans': 3370, 'dry': 3371, 'eternal': 3372, 'virtue': 3373, 'establish': 3374, 'pleasure': 3375, 'fame': 3376, 'plants': 3377, 'continent': 3378, 'intermediate': 3379, 'hate': 3380, 'wrong': 3381, 'regardless': 3382, 'circumstances': 3383, 'detail': 3384, 'grounds': 3385, 'arguments': 3386, 'rely': 3387, 'speeds': 3388, 'gravity': 3389, 'credit': 3390, 'assisted': 3391, 'greece': 3392, 'literary': 3393, 'humanity': 3394, 'manuscripts': 3395, 'descendants': 3396, 'passages': 3397, 'differ': 3398, 'colours': 3399, 'damascus': 3400, 'medieval': 3401, 'purely': 3402, 'disputed': 3403, 'generation': 3404, 'corruption': 3405, 'sleep': 3406, 'mechanical': 3407, 'winds': 3408, 'editions': 3409, 'oxford': 3410, 'translation': 3411, 'jonathan': 3412, 'scholarly': 3413, 'translations': 3414, 'arthur': 3415, 'slang': 3416, 'secondary': 3417, 'vast': 3418, 'print': 3419, 'mathematicians': 3420, 'starring': 3421, 'composer': 3422, 'energy': 3423, 'instruments': 3424, 'symphony': 3425, 'orchestra': 3426, 'rarely': 3427, 'hall': 3428, 'poems': 3429, 'awards': 3430, 'picture': 3431, 'actors': 3432, 'firm': 3433, 'sunday': 3434, 'oscar': 3435, 'kg': 3436, 'knight': 3437, 'root': 3438, 'table': 3439, 'looks': 3440, 'husband': 3441, 'domain': 3442, 'ceremony': 3443, 'calendar': 3444, 'fashion': 3445, 'abc': 3446, 'rules': 3447, 'los': 3448, 'angeles': 3449, 'feature': 3450, 'length': 3451, 'minutes': 3452, 'mm': 3453, 'progressive': 3454, 'digital': 3455, 'resolution': 3456, 'branch': 3457, 'winners': 3458, 'competitive': 3459, 'voted': 3460, 'board': 3461, 'releases': 3462, 'performances': 3463, 'comedian': 3464, 'contributions': 3465, 'cinema': 3466, 'actress': 3467, 'animated': 3468, 'interior': 3469, 'design': 3470, 'director': 3471, 'editing': 3472, 'sound': 3473, 'adapted': 3474, 'retired': 3475, 'assistant': 3476, 'dance': 3477, 'engineering': 3478, 'adaptation': 3479, 'artistic': 3480, 'quality': 3481, 'drama': 3482, 'films': 3483, 'gordon': 3484, 'directors': 3485, 'dog': 3486, 'inc': 3487, 'database': 3488, 'contains': 3489, 'animal': 3490, 'contain': 3491, 'atomic': 3492, 'accurate': 3493, 'stable': 3494, 'utc': 3495, 'conference': 3496, 'precision': 3497, 'periodic': 3498, 'applications': 3499, 'users': 3500, 'estimates': 3501, 'gps': 3502, 'differs': 3503, 'integral': 3504, 'seconds': 3505, 'initial': 3506, 'leap': 3507, 'rotation': 3508, 'continuous': 3509, 'exact': 3510, 'interval': 3511, 'precise': 3512, 'measurement': 3513, 'multi': 3514, 'transfer': 3515, 'clock': 3516, 'protocol': 3517, 'des': 3518, 'scales': 3519, 'cultures': 3520, 'judge': 3521, 'buddhism': 3522, 'helping': 3523, 'benefit': 3524, 'type': 3525, 'evolutionary': 3526, 'feeling': 3527, 'coined': 3528, 'load': 3529, 'formula': 3530, 'morality': 3531, 'serving': 3532, 'oldest': 3533, 'testament': 3534, 'follows': 3535, 'beat': 3536, 'bound': 3537, 'wine': 3538, 'host': 3539, 'likewise': 3540, 'luke': 3541, 'nietzsche': 3542, 'sacrifice': 3543, 'advent': 3544, 'counter': 3545, 'pool': 3546, 'game': 3547, 'simon': 3548, 'reputation': 3549, 'favour': 3550, 'mathematical': 3551, 'interesting': 3552, 'cellular': 3553, 'cells': 3554, 'promote': 3555, 'survival': 3556, 'organism': 3557, 'requirement': 3558, 'gaining': 3559, 'gains': 3560, 'identical': 3561, 'benefits': 3562, 'basic': 3563, 'alleged': 3564, 'designed': 3565, 'measured': 3566, 'proven': 3567, 'performing': 3568, 'derives': 3569, 'primarily': 3570, 'operators': 3571, 'sub': 3572, 'considering': 3573, 'commons': 3574, 'riding': 3575, 'elementary': 3576, 'organisms': 3577, 'generations': 3578, 'enter': 3579, 'canonical': 3580, 'sophisticated': 3581, 'operator': 3582, 'advertising': 3583, 'produce': 3584, 'hearts': 3585, 'blind': 3586, 'narrow': 3587, 'machines': 3588, 'establishing': 3589, 'partner': 3590, 'doesn': 3591, 'unsuccessful': 3592, 'pure': 3593, 'effective': 3594, 'duties': 3595, 'feed': 3596, 'weak': 3597, 'actively': 3598, 'teach': 3599, 'emergency': 3600, 'vehicles': 3601, 'arbitrary': 3602, 'legitimate': 3603, 'proprietary': 3604, 'compatible': 3605, 'judaism': 3606, 'hinduism': 3607, 'gospel': 3608, 'philadelphia': 3609, 'friedrich': 3610, 'chapters': 3611, 'wright': 3612, 'tiger': 3613, 'dragon': 3614, 'taiwan': 3615, 'hollywood': 3616, 'crew': 3617, 'comic': 3618, 'break': 3619, 'draw': 3620, 'mountain': 3621, 'dartmouth': 3622, 'venice': 3623, 'scored': 3624, 'scheduled': 3625, 'jane': 3626, 'huge': 3627, 'fan': 3628, 'hockey': 3629, 'bmw': 3630, 'ride': 3631, 'devil': 3632, 'storm': 3633, 'eat': 3634, 'drink': 3635, 'lake': 3636, 'runner': 3637, 'ma': 3638, 'saturday': 3639, 'novels': 3640, 'anthem': 3641, 'atlas': 3642, 'masses': 3643, 'saint': 3644, 'jewish': 3645, 'displayed': 3646, 'featuring': 3647, 'officer': 3648, 'walter': 3649, 'romantic': 3650, 'hugo': 3651, 'deeply': 3652, 'novelist': 3653, 'contained': 3654, 'retain': 3655, 'noble': 3656, 'herself': 3657, 'visit': 3658, 'resolved': 3659, 'finnish': 3660, 'odd': 3661, 'pay': 3662, 'frank': 3663, 'sale': 3664, 'studios': 3665, 'reviews': 3666, 'publisher': 3667, 'permission': 3668, 'pair': 3669, 'mussolini': 3670, 'realized': 3671, 'banned': 3672, 'twelve': 3673, 'thanks': 3674, 'architect': 3675, 'copy': 3676, 'architecture': 3677, 'maintains': 3678, 'launch': 3679, 'slowly': 3680, 'collapse': 3681, 'barbara': 3682, 'designated': 3683, 'launched': 3684, 'enjoyed': 3685, 'emerging': 3686, 'participation': 3687, 'chairman': 3688, 'separation': 3689, 'divorce': 3690, 'pressure': 3691, 'promoted': 3692, 'talks': 3693, 'll': 3694, 'worse': 3695, 'closest': 3696, 'decline': 3697, 'cancer': 3698, 'grave': 3699, 'influences': 3700, 'virtually': 3701, 'acknowledged': 3702, 'enlightenment': 3703, 'approval': 3704, 'brand': 3705, 'worst': 3706, 'kant': 3707, 'connections': 3708, 'von': 3709, 'essay': 3710, 'committee': 3711, 'un': 3712, 'creative': 3713, 'argument': 3714, 'comments': 3715, 'ussr': 3716, 'shape': 3717, 'dollar': 3718, 'heir': 3719, 'trademark': 3720, 'closed': 3721, 'australia': 3722, 'wider': 3723, 'exceptions': 3724, 'neil': 3725, 'canadian': 3726, 'instances': 3727, 'track': 3728, 'fly': 3729, 'atheism': 3730, 'continental': 3731, 'celebration': 3732, 'ignored': 3733, 'considers': 3734, 'documented': 3735, 'brian': 3736, 'cambridge': 3737, 'exception': 3738, 'assuming': 3739, 'hume': 3740, 'rich': 3741, 'inhabited': 3742, 'dimensional': 3743, 'intelligent': 3744, 'wealthy': 3745, 'frequent': 3746, 'lacking': 3747, 'dies': 3748, 'inner': 3749, 'valuable': 3750, 'moreover': 3751, 'na': 3752, 'worship': 3753, 'businesses': 3754, 'practices': 3755, 'discrimination': 3756, 'commentary': 3757, 'additional': 3758, 'michael': 3759, 'column': 3760, 'expanded': 3761, 'cd': 3762, 'rom': 3763, 'format': 3764, 'faq': 3765, 'promoting': 3766, 'watch': 3767, 'elvis': 3768, 'review': 3769, 'tribute': 3770, 'alive': 3771, 'scholarship': 3772, 'cult': 3773, 'piece': 3774, 'columns': 3775, 'fans': 3776, 'index': 3777, 'hosted': 3778, 'portrait': 3779, 'fallen': 3780, 'video': 3781, 'vietnam': 3782, 'natives': 3783, 'citizens': 3784, 'mathematician': 3785, 'connect': 3786, 'remarkable': 3787, 'particle': 3788, 'geometry': 3789, 'medal': 3790, 'functional': 3791, 'algebra': 3792, 'alumni': 3793, 'toronto': 3794, 'ontario': 3795, 'engineer': 3796, 'productions': 3797, 'requiring': 3798, 'warm': 3799, 'companies': 3800, 'robin': 3801, 'pictures': 3802, 'silent': 3803, 'mission': 3804, 'hills': 3805, 'walk': 3806, 'colonel': 3807, 'northwest': 3808, 'associate': 3809, 'silver': 3810, 'slightly': 3811, 'breed': 3812, 'catholics': 3813, 'producers': 3814, 'algeria': 3815, 'accounting': 3816, 'budget': 3817, 'revenues': 3818, 'gdp': 3819, 'reserves': 3820, 'gas': 3821, 'ranks': 3822, 'reform': 3823, 'economies': 3824, 'monetary': 3825, 'fund': 3826, 'facility': 3827, 'progress': 3828, 'club': 3829, 'inflation': 3830, 'approximately': 3831, 'grown': 3832, 'prices': 3833, 'fiscal': 3834, 'ongoing': 3835, 'unemployment': 3836, 'standards': 3837, 'reforms': 3838, 'significantly': 3839, 'dependent': 3840, 'sell': 3841, 'sales': 3842, 'industries': 3843, 'fertility': 3844, 'quarter': 3845, 'inhabitants': 3846, 'grain': 3847, 'substantially': 3848, 'wells': 3849, 'districts': 3850, 'principal': 3851, 'fruits': 3852, 'quantities': 3853, 'excellent': 3854, 'fruit': 3855, 'exports': 3856, 'grass': 3857, 'infinite': 3858, 'suitable': 3859, 'taste': 3860, 'attacked': 3861, 'seasons': 3862, 'insects': 3863, 'reached': 3864, 'imported': 3865, 'fish': 3866, 'minerals': 3867, 'copper': 3868, 'mercury': 3869, 'tons': 3870, 'beautiful': 3871, 'salt': 3872, 'imports': 3873, 'slower': 3874, 'sugar': 3875, 'sheep': 3876, 'chiefly': 3877, 'timber': 3878, 'import': 3879, 'coffee': 3880, 'machinery': 3881, 'clothing': 3882, 'consist': 3883, 'cia': 3884, 'factbook': 3885, 'southwest': 3886, 'morocco': 3887, 'kilometers': 3888, 'settlements': 3889, 'kingdoms': 3890, 'seized': 3891, 'wars': 3892, 'carthage': 3893, 'empire': 3894, 'emperor': 3895, 'arabs': 3896, 'arch': 3897, 'immediately': 3898, 'converted': 3899, 'ottoman': 3900, 'mediterranean': 3901, 'invaded': 3902, 'technically': 3903, 'constantine': 3904, 'status': 3905, 'settlers': 3906, 'jews': 3907, 'muslim': 3908, 'guerrilla': 3909, 'warfare': 3910, 'ben': 3911, 'defense': 3912, 'trend': 3913, 'sole': 3914, 'colonial': 3915, 'raising': 3916, 'int': 3917, 'autumn': 3918, 'salvation': 3919, 'responsible': 3920, 'observers': 3921, 'destroyed': 3922, 'advantage': 3923, 'program': 3924, 'significance': 3925, 'naming': 3926, 'ministers': 3927, 'parliament': 3928, 'refugees': 3929, 'hosts': 3930, 'borders': 3931, 'provinces': 3932, 'dust': 3933, 'wind': 3934, 'coins': 3935, 'imf': 3936, 'reduction': 3937, 'concentrated': 3938, 'percent': 3939, 'europeans': 3940, 'arrival': 3941, 'tribes': 3942, 'sensitive': 3943, 'distinction': 3944, 'linguistic': 3945, 'courses': 3946, 'augustine': 3947, 'genre': 3948, 'ra': 3949, 'pop': 3950, 'el': 3951, 'painting': 3952, 'gallery': 3953, 'jpg': 3954, 'miscellaneous': 3955, 'communications': 3956, 'sovereign': 3957, 'yellow': 3958, 'tourism': 3959, 'practiced': 3960, 'opening': 3961, 'referendum': 3962, 'dictionary': 3963, 'artists': 3964, 'copies': 3965, 'rio': 3966, 'intelligence': 3967, 'decisions': 3968, 'empty': 3969, 'deliberately': 3970, 'sections': 3971, 'runs': 3972, 'meets': 3973, 'brooks': 3974, 'store': 3975, 'jim': 3976, 'representation': 3977, 'claude': 3978, 'random': 3979, 'wesley': 3980, 'uniform': 3981, 'journey': 3982, 'francisco': 3983, 'dan': 3984, 'aged': 3985, 'victim': 3986, 'dick': 3987, 'finished': 3988, 'gets': 3989, 'possess': 3990, 'matches': 3991, 'revived': 3992, 'owner': 3993, 'patrick': 3994, 'stock': 3995, 'mine': 3996, 'reed': 3997, 'inventor': 3998, 'supports': 3999, 'mechanism': 4000, 'hugh': 4001, 'lady': 4002, 'sister': 4003, 'horror': 4004, 'mystery': 4005, 'powered': 4006, 'static': 4007, 'electricity': 4008, 'crash': 4009, 'joining': 4010, 'ltd': 4011, 'occasion': 4012, 'customer': 4013, 'capacity': 4014, 'indicates': 4015, 'obtain': 4016, 'thompson': 4017, 'distribution': 4018, 'scores': 4019, 'switch': 4020, 'signal': 4021, 'connecticut': 4022, 'build': 4023, 'terminal': 4024, 'mankind': 4025, 'manager': 4026, 'staff': 4027, 'returns': 4028, 'reaches': 4029, 'younger': 4030, 'requests': 4031, 'ties': 4032, 'norway': 4033, 'bishop': 4034, 'relief': 4035, 'waters': 4036, 'portugal': 4037, 'turkey': 4038, 'iceland': 4039, 'counts': 4040, 'disappeared': 4041, 'opera': 4042, 'performed': 4043, 'sky': 4044, 'instrument': 4045, 'chemicals': 4046, 'fluid': 4047, 'indicate': 4048, 'diesel': 4049, 'engines': 4050, 'signals': 4051, 'rays': 4052, 'ray': 4053, 'door': 4054, 'machine': 4055, 'inverse': 4056, 'opposite': 4057, 'lights': 4058, 'invention': 4059, 'invented': 4060, 'stick': 4061, 'neck': 4062, 'electrical': 4063, 'radio': 4064, 'contents': 4065, 'laboratory': 4066, 'structural': 4067, 'turning': 4068, 'operated': 4069, 'jones': 4070, 'denver': 4071, 'supplies': 4072, 'car': 4073, 'trip': 4074, 'tool': 4075, 'bought': 4076, 'experts': 4077, 'commitment': 4078, 'creates': 4079, 'straight': 4080, 'technique': 4081, 'traditionally': 4082, 'supply': 4083, 'suffer': 4084, 'supposedly': 4085, 'suppose': 4086, 'spiritual': 4087, 'furthermore': 4088, 'oriented': 4089, 'attitude': 4090, 'allegedly': 4091, 'thrown': 4092, 'anniversary': 4093, 'fun': 4094, 'diamond': 4095, 'hat': 4096, 'check': 4097, 'avenue': 4098, 'meant': 4099, 'guy': 4100, 'regulation': 4101, 'portable': 4102, 'raw': 4103, 'suffering': 4104, 'heaven': 4105, 'fortune': 4106, 'isles': 4107, 'cleveland': 4108, 'estate': 4109, 'roads': 4110, 'counted': 4111, 'completion': 4112, 'enterprise': 4113, 'discover': 4114, 'employees': 4115, 'headquarters': 4116, 'location': 4117, 'revelation': 4118, 'debut': 4119, 'conceived': 4120, 'consonants': 4121, 'scottish': 4122, 'persecution': 4123, 'norwegian': 4124, 'humor': 4125, 'abortion': 4126, 'lie': 4127, 'worth': 4128, 'opinions': 4129, 'background': 4130, 'usa': 4131, 'extent': 4132, 'interference': 4133, 'remove': 4134, 'dialogue': 4135, 'distant': 4136, 'interview': 4137, 'mixture': 4138, 'computers': 4139, 'jet': 4140, 'planes': 4141, 'assume': 4142, 'chile': 4143, 'falling': 4144, 'ask': 4145, 'trans': 4146, 'atmospheric': 4147, 'entertainment': 4148, 'updated': 4149, 'hamburg': 4150, 'japanese': 4151, 'polish': 4152, 'swedish': 4153, 'sk': 4154, 'turkish': 4155, 'sequel': 4156, 'rings': 4157, 'depth': 4158, 'link': 4159, 'shorter': 4160, 'comics': 4161, 'presley': 4162, 'sinatra': 4163, 'zappa': 4164, 'hour': 4165, 'anthropology': 4166, 'genus': 4167, 'dimensions': 4168, 'disciplines': 4169, 'relativity': 4170, 'examination': 4171, 'networks': 4172, 'consumption': 4173, 'variation': 4174, 'wilhelm': 4175, 'physiology': 4176, 'equivalent': 4177, 'lewis': 4178, 'morgan': 4179, 'historically': 4180, 'extension': 4181, 'dominated': 4182, 'comparative': 4183, 'fossils': 4184, 'traced': 4185, 'experiments': 4186, 'fit': 4187, 'species': 4188, 'variable': 4189, 'powell': 4190, 'hamilton': 4191, 'franz': 4192, 'boas': 4193, 'columbia': 4194, 'immigrants': 4195, 'targets': 4196, 'alfred': 4197, 'ruth': 4198, 'indo': 4199, 'chair': 4200, 'picked': 4201, 'brown': 4202, 'mile': 4203, 'balance': 4204, 'equilibrium': 4205, 'commonwealth': 4206, 'inspiration': 4207, 'folklore': 4208, 'vi': 4209, 'centers': 4210, 'lloyd': 4211, 'processes': 4212, 'julian': 4213, 'edmund': 4214, 'keeping': 4215, 'collaboration': 4216, 'peoples': 4217, 'kevin': 4218, 'dna': 4219, 'operations': 4220, 'iraq': 4221, 'bodies': 4222, 'statements': 4223, 'condemned': 4224, 'funds': 4225, 'preparation': 4226, 'agreed': 4227, 'populations': 4228, 'geographic': 4229, 'separated': 4230, 'migration': 4231, 'reflects': 4232, 'chemistry': 4233, 'components': 4234, 'combinations': 4235, 'gathering': 4236, 'arctic': 4237, 'strange': 4238, 'situated': 4239, 'properly': 4240, 'dual': 4241, 'homepage': 4242, 'bbc': 4243, 'portal': 4244, 'documentation': 4245, 'chronicle': 4246, 'universally': 4247, 'spelling': 4248, 'findings': 4249, 'craft': 4250, 'villages': 4251, 'equally': 4252, 'allied': 4253, 'wall': 4254, 'anywhere': 4255, 'clergy': 4256, 'contracts': 4257, 'unlikely': 4258, 'ark': 4259, 'solomon': 4260, 'phase': 4261, 'scope': 4262, 'geographical': 4263, 'concern': 4264, 'highways': 4265, 'consideration': 4266, 'maintenance': 4267, 'prohibited': 4268, 'entity': 4269, 'proposal': 4270, 'regional': 4271, 'accomplished': 4272, 'locations': 4273, 'peru': 4274, 'exercise': 4275, 'processing': 4276, 'expensive': 4277, 'maps': 4278, 'simplest': 4279, 'detect': 4280, 'bird': 4281, 'quick': 4282, 'mapping': 4283, 'stone': 4284, 'photographs': 4285, 'infrared': 4286, 'radar': 4287, 'beneath': 4288, 'minute': 4289, 'magnetic': 4290, 'cable': 4291, 'scheme': 4292, 'maritime': 4293, 'recovered': 4294, 'accessible': 4295, 'phases': 4296, 'succession': 4297, 'equipment': 4298, 'task': 4299, 'recording': 4300, 'filled': 4301, 'permanent': 4302, 'collections': 4303, 'dated': 4304, 'rescue': 4305, 'christopher': 4306, 'ian': 4307, 'safety': 4308, 'antiquity': 4309, 'homes': 4310, 'civilizations': 4311, 'arizona': 4312, 'pride': 4313, 'presentation': 4314, 'sacred': 4315, 'storage': 4316, 'gone': 4317, 'indians': 4318, 'addressed': 4319, 'australian': 4320, 'quebec': 4321, 'inter': 4322, 'chips': 4323, 'tense': 4324, 'biblical': 4325, 'asian': 4326, 'nitrogen': 4327, 'quantity': 4328, 'yield': 4329, 'cell': 4330, 'consumer': 4331, 'waste': 4332, 'linked': 4333, 'locally': 4334, 'dimension': 4335, 'chemical': 4336, 'tied': 4337, 'emergence': 4338, 'essential': 4339, 'computer': 4340, 'norman': 4341, 'luther': 4342, 'cow': 4343, 'modified': 4344, 'deity': 4345, 'substances': 4346, 'perception': 4347, 'fill': 4348, 'governed': 4349, 'limitations': 4350, 'procedure': 4351, 'outer': 4352, 'measurements': 4353, 'metals': 4354, 'diseases': 4355, 'glass': 4356, 'manufacture': 4357, 'entities': 4358, 'healthy': 4359, 'twin': 4360, 'layers': 4361, 'path': 4362, 'contribution': 4363, 'babylonian': 4364, 'newton': 4365, 'framework': 4366, 'chemist': 4367, 'convert': 4368, 'atoms': 4369, 'isotopes': 4370, 'renaissance': 4371, 'li': 4372, 'masters': 4373, 'gradually': 4374, 'cryptography': 4375, 'ce': 4376, 'speaks': 4377, 'treat': 4378, 'distinguish': 4379, 'centered': 4380, 'zone': 4381, 'documents': 4382, 'ordered': 4383, 'burning': 4384, 'revolt': 4385, 'alexandria': 4386, 'bears': 4387, 'calcium': 4388, 'forty': 4389, 'covering': 4390, 'oxygen': 4391, 'powder': 4392, 'japan': 4393, 'routes': 4394, 'drugs': 4395, 'compounds': 4396, 'geometric': 4397, 'unified': 4398, 'eve': 4399, 'gnostic': 4400, 'creatures': 4401, 'committed': 4402, 'fires': 4403, 'alcohol': 4404, 'acids': 4405, 'sodium': 4406, 'fuel': 4407, 'rendered': 4408, 'hindu': 4409, 'pioneer': 4410, 'wise': 4411, 'wait': 4412, 'obviously': 4413, 'jargon': 4414, 'versus': 4415, 'capability': 4416, 'removed': 4417, 'personnel': 4418, 'famine': 4419, 'nicholas': 4420, 'spirits': 4421, 'aim': 4422, 'frame': 4423, 'doctor': 4424, 'elizabeth': 4425, 'angels': 4426, 'crystal': 4427, 'astronomical': 4428, 'wisdom': 4429, 'gases': 4430, 'cf': 4431, 'funk': 4432, 'organic': 4433, 'preceding': 4434, 'nucleus': 4435, 'sufficiently': 4436, 'possibility': 4437, 'ai': 4438, 'samples': 4439, 'canon': 4440, 'ca': 4441, 'canterbury': 4442, 'monster': 4443, 'baroque': 4444, 'martin': 4445, 'manga': 4446, 'jack': 4447, 'pc': 4448, 'mike': 4449, 'nintendo': 4450, 'oh': 4451, 'anime': 4452, 'fantasy': 4453, 'tactics': 4454, 'elder': 4455, 'player': 4456, 'portion': 4457, 'castle': 4458, 'warner': 4459, 'obsolete': 4460, 'ammonia': 4461, 'nelson': 4462, 'automatic': 4463, 'broadcast': 4464, 'constantly': 4465, 'altitude': 4466, 'navigation': 4467, 'equipped': 4468, 'pilot': 4469, 'terrain': 4470, 'coverage': 4471, 'monitor': 4472, 'pilots': 4473, 'boeing': 4474, 'mhz': 4475, 'commission': 4476, 'sending': 4477, 'velocity': 4478, 'recognized': 4479, 'employed': 4480, 'controlling': 4481, 'channels': 4482, 'bearing': 4483, 'improve': 4484, 'implementation': 4485, 'layer': 4486, 'solutions': 4487, 'es': 4488, 'medium': 4489, 'performance': 4490, 'aviation': 4491, 'transmission': 4492, 'frequencies': 4493, 'perceived': 4494, 'trials': 4495, 'operational': 4496, 'installed': 4497, 'add': 4498, 'cargo': 4499, 'airline': 4500, 'carriers': 4501, 'airports': 4502, 'offers': 4503, 'capabilities': 4504, 'implement': 4505, 'infrastructure': 4506, 'implementations': 4507, 'minimal': 4508, 'programme': 4509, 'czech': 4510, 'hungary': 4511, 'switzerland': 4512, 'vienna': 4513, 'eu': 4514, 'hungarian': 4515, 'edge': 4516, 'celtic': 4517, 'reign': 4518, 'province': 4519, 'core': 4520, 'duke': 4521, 'bavaria': 4522, 'imperial': 4523, 'monarchy': 4524, 'chancellor': 4525, 'euro': 4526, 'confidence': 4527, 'thirds': 4528, 'administrative': 4529, 'ft': 4530, 'biggest': 4531, 'plateau': 4532, 'basin': 4533, 'remaining': 4534, 'comparable': 4535, 'rapid': 4536, 'elsewhere': 4537, 'sectors': 4538, 'fewer': 4539, 'tongue': 4540, 'unofficial': 4541, 'guest': 4542, 'dialects': 4543, 'belong': 4544, 'grammatical': 4545, 'croatian': 4546, 'territorial': 4547, 'governor': 4548, 'reformation': 4549, 'catholicism': 4550, 'romanian': 4551, 'bulgarian': 4552, 'orthodox': 4553, 'christians': 4554, 'muslims': 4555, 'germans': 4556, 'calculated': 4557, 'albania': 4558, 'legally': 4559, 'poland': 4560, 'musicians': 4561, 'composers': 4562, 'jr': 4563, 'arnold': 4564, 'poets': 4565, 'maria': 4566, 'otto': 4567, 'engineers': 4568, 'ferdinand': 4569, 'festivals': 4570, 'cuisine': 4571, 'holidays': 4572, 'amateur': 4573, 'tourist': 4574, 'engine': 4575, 'hemisphere': 4576, 'smallest': 4577, 'indonesia': 4578, 'guinea': 4579, 'wales': 4580, 'governing': 4581, 'crown': 4582, 'sydney': 4583, 'adelaide': 4584, 'voyage': 4585, 'pen': 4586, 'holland': 4587, 'matthew': 4588, 'bridges': 4589, 'lieutenant': 4590, 'cook': 4591, 'cape': 4592, 'expedition': 4593, 'formally': 4594, 'acute': 4595, 'genocide': 4596, 'recognised': 4597, 'nationalist': 4598, 'defence': 4599, 'shipping': 4600, 'transferred': 4601, 'defining': 4602, 'statute': 4603, 'shock': 4604, 'voters': 4605, 'replacing': 4606, 'police': 4607, 'naval': 4608, 'christmas': 4609, 'antarctic': 4610, 'meetings': 4611, 'agreements': 4612, 'disaster': 4613, 'houston': 4614, 'extends': 4615, 'peak': 4616, 'extinct': 4617, 'mammals': 4618, 'birds': 4619, 'shore': 4620, 'conservation': 4621, 'bacteria': 4622, 'bce': 4623, 'sixth': 4624, 'output': 4625, 'floating': 4626, 'partial': 4627, 'telecommunications': 4628, 'markets': 4629, 'korea': 4630, 'overseas': 4631, 'rates': 4632, 'endangered': 4633, 'anglican': 4634, 'anglo': 4635, 'distinctive': 4636, 'cave': 4637, 'paintings': 4638, 'transmitted': 4639, 'jazz': 4640, 'genres': 4641, 'nobel': 4642, 'grammar': 4643, 'phrases': 4644, 'newspapers': 4645, 'football': 4646, 'sport': 4647, 'regularly': 4648, 'cricket': 4649, 'rugby': 4650, 'olympic': 4651, 'olympics': 4652, 'players': 4653, 'annual': 4654, 'gaelic': 4655, 'tennis': 4656, 'corporate': 4657, 'competitions': 4658, 'revival': 4659, 'latest': 4660, 'google': 4661, 'align': 4662, 'png': 4663, 'facto': 4664, 'entrance': 4665, 'chain': 4666, 'archipelago': 4667, 'squadron': 4668, 'listing': 4669, 'auto': 4670, 'sa': 4671, 'district': 4672, 'wildlife': 4673, 'nfl': 4674, 'soccer': 4675, 'adjacent': 4676, 'guns': 4677, 'alien': 4678, 'package': 4679, 'formats': 4680, 'astronomer': 4681, 'babylon': 4682, 'titled': 4683, 'giant': 4684, 'marine': 4685, 'divide': 4686, 'separately': 4687, 'numbered': 4688, 'encoding': 4689, 'printing': 4690, 'bytes': 4691, 'eighth': 4692, 'error': 4693, 'functions': 4694, 'define': 4695, 'ratified': 4696, 'manufacturers': 4697, 'iso': 4698, 'rfc': 4699, 'ibm': 4700, 'embedded': 4701, 'corner': 4702, 'bits': 4703, 'tape': 4704, 'holes': 4705, 'gap': 4706, 'recipient': 4707, 'conversion': 4708, 'protocols': 4709, 'graphical': 4710, 'editors': 4711, 'sentence': 4712, 'keyboard': 4713, 'hardware': 4714, 'accent': 4715, 'corporations': 4716, 'extensions': 4717, 'byte': 4718, 'graphic': 4719, 'enabled': 4720, 'array': 4721, 'subset': 4722, 'chart': 4723, 'accessed': 4724, 'algorithms': 4725, 'americas': 4726, 'netherlands': 4727, 'isle': 4728, 'rica': 4729, 'singer': 4730, 'jos': 4731, 'roll': 4732, 'racing': 4733, 'passenger': 4734, 'commanded': 4735, 'uss': 4736, 'singular': 4737, 'canal': 4738, 'angles': 4739, 'bone': 4740, 'notation': 4741, 'ghana': 4742, 'portuguese': 4743, 'congo': 4744, 'sides': 4745, 'belgium': 4746, 'isolated': 4747, 'crossing': 4748, 'merged': 4749, 'belgian': 4750, 'skin': 4751, 'angola': 4752, 'virus': 4753, 'hiv': 4754, 'immune': 4755, 'te': 4756, 'diamonds': 4757, 'speakers': 4758, 'equatorial': 4759, 'cameroon': 4760, 'destination': 4761, 'malay': 4762, 'chad': 4763, 'architectural': 4764, 'eiffel': 4765, 'marvel': 4766, 'dynamic': 4767, 'blues': 4768, 'rap': 4769, 'singing': 4770, 'beta': 4771, 'israel': 4772, 'ninth': 4773, 'orthodoxy': 4774, 'bishops': 4775, 'denominations': 4776, 'orange': 4777, 'horn': 4778, 'eritrea': 4779, 'da': 4780, 'remainder': 4781, 'las': 4782, 'santa': 4783, 'guardian': 4784, 'stanford': 4785, 'pennsylvania': 4786, 'photos': 4787, 'austin': 4788, 'utah': 4789, 'heights': 4790, 'musician': 4791, 'animation': 4792, 'consecutive': 4793, 'painted': 4794, 'graphics': 4795, 'flash': 4796, 'lit': 4797, 'copyright': 4798, 'surfaces': 4799, 'rendering': 4800, 'automatically': 4801, 'wire': 4802, 'blow': 4803, 'disney': 4804, 'script': 4805, 'screen': 4806, 'leto': 4807, 'hunt': 4808, 'attributes': 4809, 'mice': 4810, 'eagle': 4811, 'reverse': 4812, 'brothers': 4813, 'sung': 4814, 'verb': 4815, 'literally': 4816, 'darkness': 4817, 'conventions': 4818, 'executed': 4819, 'mouse': 4820, 'bottom': 4821, 'yards': 4822, 'amber': 4823, 'month': 4824, 'demanded': 4825, 'simultaneously': 4826, 'wanted': 4827, 'chose': 4828, 'clean': 4829, 'temples': 4830, 'baby': 4831, 'infant': 4832, 'tracks': 4833, 'pan': 4834, 'strings': 4835, 'judgment': 4836, 'contest': 4837, 'champions': 4838, 'lunar': 4839, 'der': 4840, 'und': 4841, 'singles': 4842, 'armenian': 4843, 'iran': 4844, 'boxing': 4845, 'balls': 4846, 'hit': 4847, 'ring': 4848, 'champion': 4849, 'dress': 4850, 'surgery': 4851, 'cincinnati': 4852, 'miami': 4853, 'season': 4854, 'handed': 4855, 'jump': 4856, 'reaching': 4857, 'rod': 4858, 'tournament': 4859, 'coach': 4860, 'championship': 4861, 'wins': 4862, 'championships': 4863, 'legs': 4864, 'shots': 4865, 'suit': 4866, 'eating': 4867, 'dismissed': 4868, 'witnesses': 4869, 'iranian': 4870, 'gear': 4871, 'eyes': 4872, 'genesis': 4873, 'phone': 4874, 'finalist': 4875, 'row': 4876, 'timeline': 4877, 'vs': 4878, 'tim': 4879, 'juan': 4880, 'costa': 4881, 'cambodia': 4882, 'bangladesh': 4883, 'malaysia': 4884, 'fleming': 4885, 'belonging': 4886, 'suggesting': 4887, 'vocabulary': 4888, 'dam': 4889, 'judah': 4890, 'aramaic': 4891, 'containing': 4892, 'confirmed': 4893, 'berkeley': 4894, 'pdf': 4895, 'catalan': 4896, 'coordinates': 4897, 'est': 4898, 'episcopal': 4899, 'franc': 4900, 'charlemagne': 4901, 'charter': 4902, 'count': 4903, 'arrested': 4904, 'emperors': 4905, 'cap': 4906, 'stream': 4907, 'tiny': 4908, 'availability': 4909, 'manufacturing': 4910, 'manufactured': 4911, 'mineral': 4912, 'nationality': 4913, 'tales': 4914, 'arithmetic': 4915, 'median': 4916, 'probability': 4917, 'mathrm': 4918, 'gates': 4919, 'superior': 4920, 'harmonic': 4921, 'frac': 4922, 'calculations': 4923, 'afc': 4924, 'afl': 4925, 'browns': 4926, 'pittsburgh': 4927, 'nfc': 4928, 'logo': 4929, 'operates': 4930, 'super': 4931, 'bowl': 4932, 'politician': 4933, 'clinton': 4934, 'apple': 4935, 'basketball': 4936, 'soldier': 4937, 'journalist': 4938, 'request': 4939, 'options': 4940, 'infantry': 4941, 'select': 4942, 'didn': 4943, 'commander': 4944, 'elephant': 4945, 'doors': 4946, 'hawaii': 4947, 'volunteers': 4948, 'regulations': 4949, 'restaurants': 4950, 'rogers': 4951, 'accident': 4952, 'joint': 4953, 'ross': 4954, 'larry': 4955, 'pointed': 4956, 'sized': 4957, 'highway': 4958, 'missions': 4959, 'bombing': 4960, 'palestinian': 4961, 'tie': 4962, 'spending': 4963, 'outcome': 4964, 'thin': 4965, 'ban': 4966, 'procedures': 4967, 'massachusetts': 4968, 'iowa': 4969, 'prevented': 4970, 'counting': 4971, 'necessity': 4972, 'episode': 4973, 'metropolitan': 4974, 'stored': 4975, 'qaeda': 4976, 'afghanistan': 4977, 'starred': 4978, 'session': 4979, 'option': 4980, 'aftermath': 4981, 'sweden': 4982, 'charges': 4983, 'card': 4984, 'target': 4985, 'hampshire': 4986, 'pollution': 4987, 'rice': 4988, 'deputy': 4989, 'iraqi': 4990, 'prisoners': 4991, 'resigned': 4992, 'prison': 4993, 'pick': 4994, 'charged': 4995, 'illegal': 4996, 'telephone': 4997, 'initiative': 4998, 'crimes': 4999, 'mp': 5000, 'stalin': 5001, 'critic': 5002, 'moscow': 5003, 'napoleon': 5004, 'renamed': 5005, 'seventh': 5006, 'dogs': 5007, 'instant': 5008, 'occasions': 5009, 'loaded': 5010, 'drives': 5011, 'worlds': 5012, 'moses': 5013, 'dealing': 5014, 'hitler': 5015, 'altered': 5016, 'carefully': 5017, 'adolf': 5018, 'churchill': 5019, 'landed': 5020, 'censorship': 5021, 'commissioned': 5022, 'songs': 5023, 'johnny': 5024, 'presumably': 5025, 'tail': 5026, 'dawn': 5027, 'cuba': 5028, 'reproduction': 5029, 'organs': 5030, 'extinction': 5031, 'ipa': 5032, 'inuit': 5033, 'gregorian': 5034, 'eisenhower': 5035, 'earthquake': 5036, 'circa': 5037, 'rough': 5038, 'ted': 5039, 'municipality': 5040, 'bases': 5041, 'famously': 5042, 'tip': 5043, 'ha': 5044, 'parks': 5045, 'borough': 5046, 'stores': 5047, 'bulk': 5048, 'clubs': 5049, 'watson': 5050, 'anderson': 5051, 'tunnel': 5052, 'lane': 5053, 'pole': 5054, 'ports': 5055, 'flights': 5056, 'commercially': 5057, 'flying': 5058, 'delivery': 5059, 'plane': 5060, 'passengers': 5061, 'korean': 5062, 'fran': 5063, 'mayor': 5064, 'damaged': 5065, 'geological': 5066, 'fiber': 5067, 'tea': 5068, 'java': 5069, 'flowers': 5070, 'ethanol': 5071, 'cocaine': 5072, 'specialized': 5073, 'breeding': 5074, 'seed': 5075, 'faster': 5076, 'leaf': 5077, 'marketing': 5078, 'meat': 5079, 'efficiency': 5080, 'processors': 5081, 'licensed': 5082, 'guilty': 5083, 'nile': 5084, 'syria': 5085, 'definite': 5086, 'cyprus': 5087, 'transition': 5088, 'foods': 5089, 'independently': 5090, 'virgin': 5091, 'metric': 5092, 'improvement': 5093, 'ease': 5094, 'pounds': 5095, 'lb': 5096, 'exposure': 5097, 'honey': 5098, 'stability': 5099, 'till': 5100, 'protein': 5101, 'gm': 5102, 'demon': 5103, 'pakistan': 5104, 'circles': 5105, 'apostles': 5106, 'provisions': 5107, 'ministry': 5108, 'inherited': 5109, 'drug': 5110, 'hell': 5111, 'termed': 5112, 'fuller': 5113, 'alice': 5114, 'jacob': 5115, 'wheel': 5116, 'monsters': 5117, 'ada': 5118, 'serbia': 5119, 'artillery': 5120, 'ac': 5121, 'aberdeen': 5122, 'scotland': 5123, 'nova': 5124, 'scotia': 5125, 'harbour': 5126, 'hong': 5127, 'kong': 5128, 'organ': 5129, 'membrane': 5130, 'tissue': 5131, 'tanks': 5132, 'hydrogen': 5133, 'enzyme': 5134, 'tank': 5135, 'fat': 5136, 'acid': 5137, 'fixed': 5138, 'applies': 5139, 'underlying': 5140, 'duncan': 5141, 'cycles': 5142, 'molecule': 5143, 'atom': 5144, 'sp': 5145, 'configuration': 5146, 'numerical': 5147, 'algorithm': 5148, 'occurrence': 5149, 'jupiter': 5150, 'detected': 5151, 'liquid': 5152, 'deposits': 5153, 'rocks': 5154, 'reformed': 5155, 'heating': 5156, 'cooking': 5157, 'compression': 5158, 'combustion': 5159, 'correctly': 5160, 'molecular': 5161, 'electron': 5162, 'electrons': 5163, 'orbital': 5164, 'correspond': 5165, 'sufficient': 5166, 'rear': 5167, 'thermal': 5168, 'molecules': 5169, 'entropy': 5170, 'absorption': 5171, 'ion': 5172, 'flame': 5173, 'steps': 5174, 'ions': 5175, 'steam': 5176, 'dioxide': 5177, 'soft': 5178, 'distances': 5179, 'binding': 5180, 'jurisdictions': 5181, 'jurisdiction': 5182, 'proceedings': 5183, 'acted': 5184, 'jury': 5185, 'reasonable': 5186, 'judges': 5187, 'please': 5188, 'default': 5189, 'parameters': 5190, 'behalf': 5191, 'springs': 5192, 'verse': 5193, 'lyrics': 5194, 'waves': 5195, 'columbus': 5196, 'caribbean': 5197, 'bet': 5198, 'collins': 5199, 'coat': 5200, 'strip': 5201, 'commands': 5202, 'advantages': 5203, 'expanding': 5204, 'trigger': 5205, 'interface': 5206, 'keys': 5207, 'microsoft': 5208, 'readers': 5209, 'ieee': 5210, 'transactions': 5211, 'calculation': 5212, 'wooden': 5213, 'adoption': 5214, 'q': 5215, 'measuring': 5216, 'numerals': 5217, 'computation': 5218, 'spin': 5219, 'multiplication': 5220, 'eliminated': 5221, 'danish': 5222, 'rubber': 5223, 'solve': 5224, 'gilbert': 5225, 'burns': 5226, 'immediate': 5227, 'mbox': 5228, 'cheese': 5229, 'tested': 5230, 'driver': 5231, 'ms': 5232, 'colors': 5233, 'laid': 5234, 'stadium': 5235, 'broadcasting': 5236, 'boom': 5237, 'flood': 5238, 'arena': 5239, 'municipal': 5240, 'window': 5241, 'week': 5242, 'households': 5243, 'household': 5244, 'passes': 5245, 'exploration': 5246, 'resident': 5247, 'sessions': 5248, 'fm': 5249, 'visitors': 5250, 'bus': 5251, 'strips': 5252, 'sheet': 5253, 'retrieved': 5254, 'theorem': 5255, 'cardinal': 5256, 'module': 5257, 'mounted': 5258, 'photo': 5259, 'maintaining': 5260, 'shadow': 5261, 'gray': 5262, 'pound': 5263, 'nm': 5264, 'spacecraft': 5265, 'backed': 5266, 'circuits': 5267, 'communion': 5268, 'recordings': 5269, 'item': 5270, 'conspiracy': 5271, 'mars': 5272, 'segment': 5273, 'rocket': 5274, 'disc': 5275, 'diagram': 5276, 'stayed': 5277, 'restrictions': 5278, 'au': 5279, 'horizon': 5280, 'bubble': 5281, 'helium': 5282, 'gravitational': 5283, 'celestial': 5284, 'orientation': 5285, 'mechanics': 5286, 'prayer': 5287, 'joke': 5288, 'fifteen': 5289, 'sit': 5290, 'plasma': 5291, 'saved': 5292, 'autobiography': 5293, 'travels': 5294, 'wings': 5295, 'predecessor': 5296, 'dynasty': 5297, 'jerry': 5298, 'franklin': 5299, 'dennis': 5300, 'generate': 5301, 'prose': 5302, 'narrative': 5303, 'cs': 5304, 'fr': 5305, 'variables': 5306, 'synthetic': 5307, 'syllable': 5308, 'hindi': 5309, 'consonant': 5310, 'sanskrit': 5311, 'dot': 5312, 'brazil': 5313, 'germanic': 5314, 'entries': 5315, 'coding': 5316, 'z': 5317, 'proportional': 5318, 'occasional': 5319, 'studio': 5320, 'shooting': 5321, 'painter': 5322, 'icons': 5323, 'cookies': 5324, 'cream': 5325, 'taxes': 5326, 'noun': 5327, 'ordinary': 5328, 'delta': 5329, 'dvd': 5330, 'agave': 5331, 'smooth': 5332, 'puerto': 5333, 'er': 5334, 'persia': 5335, 'sri': 5336, 'brunei': 5337, 'philippines': 5338, 'singapore': 5339, 'indonesian': 5340, 'jordan': 5341, 'lebanon': 5342, 'tokyo': 5343, 'bah': 5344, 'palestine': 5345, 'monarch': 5346, 'mortality': 5347, 'adjective': 5348, 'councils': 5349, 'expenditures': 5350, 'determination': 5351, 'participants': 5352, 'adams': 5353, 'trinity': 5354, 'hms': 5355, 'britannica': 5356, 'radioactive': 5357, 'hughes': 5358, 'quantum': 5359, 'semitism': 5360, 'albums': 5361, 'infinity': 5362, 'drake': 5363, 'greenland': 5364, 'baltic': 5365, 'volcanic': 5366, 'toxic': 5367, 'solo': 5368, 'triangle': 5369, 'lions': 5370, 'gibraltar': 5371, 'amsterdam': 5372, 'dublin': 5373, 'honduras': 5374, 'salvador': 5375, 'prussia': 5376, 'hegel': 5377, 'manuscript': 5378, 'prussian': 5379, 'cuban': 5380, 'ba': 5381, 'buffalo': 5382, 'provincial': 5383, 'observer': 5384, 'block': 5385, 'blocks': 5386, 'microwave': 5387, 'railways': 5388, 'gauge': 5389, 'restore': 5390, 'merchant': 5391, 'fighters': 5392, 'rifle': 5393, 'cavalry': 5394, 'mormon': 5395, 'yes': 5396, 'flows': 5397, 'hole': 5398, 'eds': 5399, 'interactive': 5400, 'trek': 5401, 'creature': 5402, 'blade': 5403, 'resurrection': 5404, 'cylinder': 5405, 'asimov': 5406, 'precisely': 5407, 'vector': 5408, 'alberta': 5409, 'calgary': 5410, 'premier': 5411, 'campbell': 5412, 'dinosaurs': 5413, 'metro': 5414, 'junior': 5415, 'parent': 5416, 'autonomy': 5417, 'transit': 5418, 'evangelical': 5419, 'explorer': 5420, 'finland': 5421, 'gr': 5422, 'assault': 5423, 'ammunition': 5424, 'cartridge': 5425, 'firearms': 5426, 'rounds': 5427, 'developers': 5428, 'barrel': 5429, 'inch': 5430, 'nato': 5431, 'designs': 5432, 'momentum': 5433, 'matrix': 5434, 'afghan': 5435, 'bass': 5436, 'bat': 5437, 'whale': 5438, 'seal': 5439, 'raymond': 5440, 'moore': 5441, 'clark': 5442, 'einstein': 5443, 'physicist': 5444, 'faculty': 5445, 'euclidean': 5446, 'calculus': 5447, 'milan': 5448, 'marie': 5449, 'drinking': 5450, 'custom': 5451, 'equations': 5452, 'axioms': 5453, 'hilbert': 5454, 'discrete': 5455, 'throw': 5456, 'dice': 5457, 'cornell': 5458, 'nazis': 5459, 'roosevelt': 5460, 'bomb': 5461, 'israeli': 5462, 'missing': 5463, 'crusade': 5464, 'fbi': 5465, 'icon': 5466, 'frankfurt': 5467, 'patriarch': 5468, 'muhammad': 5469, 'turks': 5470, 'buddha': 5471, 'khan': 5472, 'shah': 5473, 'monarchs': 5474, 'terrorist': 5475, 'mix': 5476, 'enforcement': 5477, 'accordingly': 5478, 'drivers': 5479, 'partners': 5480, 'yale': 5481, 'ali': 5482, 'nobility': 5483, 'angel': 5484, 'albanian': 5485, 'paradox': 5486, 'romania': 5487, 'flags': 5488, 'saxon': 5489, 'qur': 5490, 'prophets': 5491, 'sh': 5492, 'forbidden': 5493, 'yahweh': 5494, 'saints': 5495, 'robinson': 5496, 'regulated': 5497, 'diego': 5498, 'admiral': 5499, 'optical': 5500, 'penalty': 5501, 'cosmic': 5502, 'viruses': 5503, 'argentine': 5504, 'bulgaria': 5505, 'cathedral': 5506, 'croatia': 5507, 'nowadays': 5508, 'voiced': 5509, 'coordinate': 5510, 'instructions': 5511, 'charts': 5512, 'clusters': 5513, 'cluster': 5514, 'compact': 5515, 'quest': 5516, 'receiver': 5517, 'derivative': 5518, 'mood': 5519, 'florence': 5520, 'billy': 5521, 'hamlet': 5522, 'broadway': 5523, 'fed': 5524, 'induced': 5525, 'infection': 5526, 'doctors': 5527, 'duration': 5528, 'circumcision': 5529, 'victorian': 5530, 'steven': 5531, 'norm': 5532, 'consent': 5533, 'graham': 5534, 'atari': 5535, 'clown': 5536, 'sweet': 5537, 'ritual': 5538, 'leagues': 5539, 'scoring': 5540, 'hash': 5541, 'kick': 5542, 'hits': 5543, 'catch': 5544, 'spaces': 5545, 'chess': 5546, 'haiti': 5547, 'hoped': 5548, 'massacre': 5549, 'detroit': 5550, 'tables': 5551, 'fleet': 5552, 'anne': 5553, 'voltage': 5554, 'stack': 5555, 'guard': 5556, 'triple': 5557, 'finite': 5558, 'turing': 5559, 'computational': 5560, 'processor': 5561, 'polynomial': 5562, 'integers': 5563, 'topology': 5564, 'enzymes': 5565, 'ram': 5566, 'introduce': 5567, 'vessel': 5568, 'julius': 5569, 'caesar': 5570, 'holocaust': 5571, 'continuity': 5572, 'kent': 5573, 'packet': 5574, 'button': 5575, 'cpu': 5576, 'kb': 5577, 'macintosh': 5578, 'diameter': 5579, 'sicily': 5580, 'aka': 5581, 'gamma': 5582, 'clarke': 5583, 'signature': 5584, 'galaxies': 5585, 'constellation': 5586, 'eta': 5587, 'pi': 5588, 'console': 5589, 'ann': 5590, 'nouns': 5591, 'drum': 5592, 'op': 5593, 'gate': 5594, 'constantinople': 5595, 'beer': 5596, 'cypriot': 5597, 'fa': 5598, 'irc': 5599, 'charlie': 5600, 'gary': 5601, 'designer': 5602, 'hitchcock': 5603, 'gothic': 5604, 'appearances': 5605, 'detective': 5606, 'conan': 5607, 'bang': 5608, 'knights': 5609, 'colombia': 5610, 'feast': 5611, 'easter': 5612, 'rhythm': 5613, 'axiom': 5614, 'totally': 5615, 'topological': 5616, 'norse': 5617, 'demands': 5618, 'monks': 5619, 'saga': 5620, 'register': 5621, 'rhine': 5622, 'manufacturer': 5623, 'customers': 5624, 'hp': 5625, 'acceleration': 5626, 'beijing': 5627, 'aluminium': 5628, 'golf': 5629, 'friction': 5630, 'cornwall': 5631, 'dj': 5632, 'piano': 5633, 'lords': 5634, 'curve': 5635, 'cornish': 5636, 'breton': 5637, 'db': 5638, 'egg': 5639, 'fathers': 5640, 'unix': 5641, 'desktop': 5642, 'consumers': 5643, 'intel': 5644, 'chip': 5645, 'server': 5646, 'node': 5647, 'wireless': 5648, 'browser': 5649, 'disks': 5650, 'vocals': 5651, 'guitars': 5652, 'client': 5653, 'ambassador': 5654, 'bohemia': 5655, 'chocolate': 5656, 'carnegie': 5657, 'coca': 5658, 'cola': 5659, 'dracula': 5660, 'bowie': 5661, 'batman': 5662, 'addiction': 5663, 'guitar': 5664, 'analog': 5665, 'guam': 5666, 'footballer': 5667, 'pitcher': 5668, 'guitarist': 5669, 'insulin': 5670, 'nodes': 5671, 'grid': 5672, 'bj': 5673, 'singers': 5674, 'calvin': 5675, 'doom': 5676, 'lisp': 5677, 'programmers': 5678, 'ethernet': 5679, 'bluetooth': 5680, 'galaxy': 5681, 'ip': 5682, 'ipv': 5683, 'creed': 5684, 'theological': 5685, 'clause': 5686, 'pascal': 5687, 'dallas': 5688, 'gram': 5689, 'duplicate': 5690, 'bicycle': 5691, 'viii': 5692, 'archbishop': 5693, 'baptism': 5694, 'fiji': 5695, 'alcoholic': 5696, 'phi': 5697, 'psi': 5698, 'specification': 5699, 'omega': 5700, 'catherine': 5701, 'lovecraft': 5702, 'earl': 5703, 'scots': 5704, 'laureate': 5705, 'enigma': 5706, 'abbey': 5707, 'mathbf': 5708, 'hoover': 5709, 'brussels': 5710, 'aaron': 5711, 'scripture': 5712, 'chronicles': 5713, 'torah': 5714, 'sharon': 5715, 'yugoslavia': 5716, 'missiles': 5717, 'terry': 5718, 'claudius': 5719, 'cologne': 5720, 'satan': 5721, 'geneva': 5722, 'ira': 5723, 'estonia': 5724, 'hannibal': 5725, 'flemish': 5726, 'specifications': 5727, 'edgar': 5728, 'monastery': 5729, 'assets': 5730, 'armour': 5731, 'demons': 5732, 'glucose': 5733, 'dishes': 5734, 'belarus': 5735, 'poles': 5736, 'alfonso': 5737, 'compiler': 5738, 'campus': 5739, 'yankees': 5740, 'basque': 5741, 'harmonica': 5742, 'harp': 5743, 'ithaca': 5744, 'brass': 5745, 'cdot': 5746, 'dominican': 5747, 'franchise': 5748, 'amino': 5749, 'proteins': 5750, 'bosnia': 5751, 'herzegovina': 5752, 'bengal': 5753, 'genome': 5754, 'encryption': 5755, 'cache': 5756, 'gpl': 5757, 'lynch': 5758, 'servers': 5759, 'epistle': 5760, 'isaiah': 5761, 'poe': 5762, 'derivatives': 5763, 'dune': 5764, 'amd': 5765, 'ecuador': 5766, 'dec': 5767, 'commodore': 5768, 'rite': 5769, 'leibniz': 5770, 'peirce': 5771, 'slavic': 5772, 'cantor': 5773, 'schwarzenegger': 5774, 'sox': 5775, 'amiga': 5776, 'bnp': 5777, 'hamas': 5778, 'godzilla': 5779, 'bipolar': 5780, 'crick': 5781, 'dns': 5782, 'guatemala': 5783, 'hemingway': 5784, 'insubstantial': 5785, 'daleks': 5786}\n"
     ]
    }
   ],
   "source": [
    "print(vocab)"
   ]
  },
  {
   "cell_type": "markdown",
   "metadata": {},
   "source": [
    "3. Scan the text corpus with sliding window of size $5$ and step $1$ (which corresponds to $L$=2) and construct co-occurrence word-context matrix $D$ with elements $D_{wc}=\\#(w,c)$. Please, ignore words which occur less than $r=200$ times, but include them into the sliding window. Please, see the graphical illustration of the procedure described."
   ]
  },
  {
   "cell_type": "markdown",
   "metadata": {},
   "source": [
    "![Sliding window](sliding_window.png)"
   ]
  },
  {
   "cell_type": "code",
   "execution_count": 64,
   "metadata": {},
   "outputs": [],
   "source": [
    "def create_corpus_matrix(sentences, vocabulary, L=2):\n",
    "    # Your code is here\n",
    "    corpus_matrix = np.zeros((len(vocabulary), len(vocabulary)))\n",
    "    \n",
    "    for words in sentences:\n",
    "        for i, word in enumerate(words):\n",
    "            if word in vocabulary:\n",
    "                left_border = max(0, i - L) # We don't want to be out of borders of current sentence\n",
    "                right_border = min(i + L, len(words))\n",
    "                #for j in range(i - L, i + L): \n",
    "                for j in range(left_border, right_border): \n",
    "                    if (i != j) & (words[j] in vocabulary): # we don't want i = j \n",
    "                        a = vocabulary[words[i]]\n",
    "                        b = vocabulary[words[j]]\n",
    "                        corpus_matrix[a, b] += 1\n",
    "                       # corpus_matrix[b, a] += 1 # we should not do it, because our matrix will be symmetric nethertheless\n",
    "    return corpus_matrix\n",
    "\n",
    "\n",
    "# Useful sources\n",
    "# https://stackoverflow.com/questions/8408117/generate-a-list-of-strings-with-a-sliding-window-using-itertools-yield-and-ite\n"
   ]
  },
  {
   "cell_type": "code",
   "execution_count": 65,
   "metadata": {},
   "outputs": [],
   "source": [
    "D = create_corpus_matrix(sentences, vocab)"
   ]
  },
  {
   "cell_type": "markdown",
   "metadata": {},
   "source": [
    "4. To find good word embeddings, [Levy and Goldberg, 2015](http://papers.nips.cc/paper/5477-neural-word-embedding-as-implicit-matrix-factorization.pdf) proposed to find rank-$d$ SVD of Shifted Positive Pointwise Mutual Information (SPPMI) matrix\n",
    "\n",
    "$$ U \\Sigma V^\\top \\approx \\text{SPPMI}, $$\n",
    "\n",
    "where $\\text{SPPMI}(w, c) = \\max\\left(\\text{SPMI}(w, c), 0 \\right)$ and $\\text{SPMI}(w, c)$ is the element of the matrix $\\text{SPPMI}$ at position $(w, c)$.\n",
    "Then use $W=U\\sqrt{\\Sigma}$ as word embedding matrix. Your task is to reproduce their results. Write function constructs $\\text{SPPMI}$ matrix, computes its SVD and produces word-vectors matrix $W$. Pay attention that $\\text{SPPMI}$ matrix is **sparse**!  "
   ]
  },
  {
   "cell_type": "code",
   "execution_count": 67,
   "metadata": {},
   "outputs": [],
   "source": [
    "from scipy.sparse import csc_matrix\n",
    "from scipy.sparse.linalg import svds\n",
    "#from math import log\n",
    "from numpy import log\n",
    "\n",
    "def compute_embeddings(D, k, d=200):\n",
    "    # Your code is here\n",
    "    SPMI = np.zeros(D.shape)    \n",
    "    PMI = D * D.sum() / (D.sum(axis=0)[:, np.newaxis]*D.sum(axis=1)[np.newaxis, :])\n",
    "    SPMI[PMI > 0] = log(PMI[PMI > 0]*1/k) # We should create some restrictions for logarithm\n",
    "    SPPMI = csc_matrix(np.maximum(SPMI,0)) # Straight from description of this task (in case of ~(-inf) we will choose 0)\n",
    "    u, s, _ = svds(SPPMI, d) # SVD for sparse matrix\n",
    "    embedding_matrix = u @ np.diag(np.sqrt(s)) # from w = u*sqrt(sigma)\n",
    "    return  embedding_matrix \n",
    "\n",
    "# Sourse: https://medium.com/@ian.dzindo01/what-is-numpy-newaxis-and-when-to-use-it-8cb61c7ed6ae"
   ]
  },
  {
   "cell_type": "code",
   "execution_count": 68,
   "metadata": {},
   "outputs": [],
   "source": [
    "k = 5 # negative sampling parameter\n",
    "W = compute_embeddings(D, k)"
   ]
  },
  {
   "cell_type": "markdown",
   "metadata": {},
   "source": [
    "5. Write class **WordVectors** using provided template."
   ]
  },
  {
   "cell_type": "code",
   "execution_count": 69,
   "metadata": {},
   "outputs": [],
   "source": [
    "def WV_norm(A, flag):\n",
    "    if flag : \n",
    "        N = np.linalg.norm(A, axis = 1) \n",
    "        #N = A / np.linalg.norm(A, axis = 1) # matrix\n",
    "    else: \n",
    "        N = A / np.linalg.norm(A) # vector\n",
    "    return N"
   ]
  },
  {
   "cell_type": "code",
   "execution_count": 70,
   "metadata": {},
   "outputs": [],
   "source": [
    "class WordVectors:\n",
    "    \n",
    "    def __init__(self, vocabulary, embedding_matrix):\n",
    "        self.vocab = vocabulary\n",
    "        self.W = embedding_matrix\n",
    "        self.inv_vocab = {v: k for k, v in self.vocab.items()}\n",
    "        \n",
    "    def word_vector(self, word):\n",
    "        \"\"\" \n",
    "        Takes word and returns its word vector.\n",
    "        \"\"\"\n",
    "#         Your code is here\n",
    "        word_vector = self.W[self.vocab[word]]\n",
    "        return word_vector\n",
    "    \n",
    "    def nearest_words(self, word, top_n=10):\n",
    "        \"\"\" \n",
    "        Takes word from the vocabulary and returns its top_n\n",
    "        nearest neighbors in terms of cosine similarity.\n",
    "        \"\"\"\n",
    "#         Your code is here\n",
    "        neighbors = []\n",
    "        w = self.word_vector(word)\n",
    "        word_vec = WV_norm(w, 0) # about normalization and it's connection to cosine similarity - *\n",
    "        sim = self.W @ word_vec / WV_norm(self.W, flag = 1)\n",
    "        #for i, sim_i in enumerate(sim):\n",
    "        #    sim_word = [i, sim_i]\n",
    "        n_nearest=  sorted([[i, sim_i] for i, sim_i in enumerate(sim)], key = lambda f: f[1], reverse = True)\n",
    "        for i in range(1, top_n+1):  # The first will be\n",
    "            neighbor = self.inv_vocab[n_nearest[i][0]], n_nearest[i][1]\n",
    "            neighbors.append(neighbor)\n",
    "        return neighbors\n",
    "    \n",
    "# * https://stats.stackexchange.com/questions/177905/should-i-normalize-word2vecs-word-vectors-before-using-them"
   ]
  },
  {
   "cell_type": "code",
   "execution_count": 71,
   "metadata": {},
   "outputs": [],
   "source": [
    "model = WordVectors(vocab, W)"
   ]
  },
  {
   "cell_type": "code",
   "execution_count": 72,
   "metadata": {},
   "outputs": [
    {
     "data": {
      "text/plain": [
       "[('anarcho', 0.7262963155517268),\n",
       " ('capitalism', 0.7235979213970761),\n",
       " ('liberalism', 0.6981015412278302),\n",
       " ('communism', 0.6911652452870322),\n",
       " ('socialism', 0.6392179490156857),\n",
       " ('fascism', 0.5830752664263653),\n",
       " ('capitalist', 0.5730399121493187),\n",
       " ('marxist', 0.5177625763226051),\n",
       " ('ideology', 0.44116325289720965),\n",
       " ('nationalism', 0.4394500672533128)]"
      ]
     },
     "execution_count": 72,
     "metadata": {},
     "output_type": "execute_result"
    }
   ],
   "source": [
    "model.nearest_words(\"anarchism\")"
   ]
  },
  {
   "cell_type": "code",
   "execution_count": 73,
   "metadata": {},
   "outputs": [
    {
     "data": {
      "text/plain": [
       "[('ukraine', 0.6601489746294592),\n",
       " ('russia', 0.6256586110603902),\n",
       " ('yugoslavia', 0.5965805863773727),\n",
       " ('romania', 0.5701082525811679),\n",
       " ('serbia', 0.5444898063828606),\n",
       " ('turkey', 0.5412421105862777),\n",
       " ('poland', 0.5400155931975408),\n",
       " ('austria', 0.5198348921344461),\n",
       " ('hungary', 0.5087516629385715),\n",
       " ('belarus', 0.47495185678975727)]"
      ]
     },
     "execution_count": 73,
     "metadata": {},
     "output_type": "execute_result"
    }
   ],
   "source": [
    "model.nearest_words(\"ussr\")"
   ]
  },
  {
   "cell_type": "code",
   "execution_count": 74,
   "metadata": {},
   "outputs": [
    {
     "data": {
      "text/plain": [
       "[('hop', 0.7979713911027794),\n",
       " ('funk', 0.7792176370877568),\n",
       " ('rock', 0.7592052111525963),\n",
       " ('pop', 0.7514597592165575),\n",
       " ('hip', 0.7495684743567297),\n",
       " ('music', 0.7333254926760583),\n",
       " ('punk', 0.6979288429685874),\n",
       " ('band', 0.682351502519592),\n",
       " ('scene', 0.6724110392531734),\n",
       " ('jazz', 0.6434548582673373)]"
      ]
     },
     "execution_count": 74,
     "metadata": {},
     "output_type": "execute_result"
    }
   ],
   "source": [
    "model.nearest_words(\"rap\")"
   ]
  },
  {
   "cell_type": "markdown",
   "metadata": {},
   "source": [
    "6. Calculate top 10 nearest neighbours with the corresponding cosine similarities for the words {matrix, multiplication, algorithm} and print them below"
   ]
  },
  {
   "cell_type": "code",
   "execution_count": 75,
   "metadata": {},
   "outputs": [
    {
     "data": {
      "text/plain": [
       "[('multiplication', 0.45040805583381976),\n",
       " ('graph', 0.4489016335183852),\n",
       " ('linear', 0.42270174154691015),\n",
       " ('algebraic', 0.4175173227273983),\n",
       " ('polynomial', 0.39781257772707357),\n",
       " ('structure', 0.39467995255978433),\n",
       " ('functions', 0.3924608639701475),\n",
       " ('euclidean', 0.3920729916265928),\n",
       " ('algebra', 0.3905552077673326),\n",
       " ('structures', 0.3882081078507156)]"
      ]
     },
     "execution_count": 75,
     "metadata": {},
     "output_type": "execute_result"
    }
   ],
   "source": [
    "# Your solution is here\n",
    "model.nearest_words(\"matrix\")"
   ]
  },
  {
   "cell_type": "code",
   "execution_count": 76,
   "metadata": {},
   "outputs": [
    {
     "data": {
      "text/plain": [
       "[('linear', 0.6766227625581988),\n",
       " ('polynomial', 0.6522547419926934),\n",
       " ('algebra', 0.587474868880336),\n",
       " ('equations', 0.5630646099148219),\n",
       " ('graph', 0.5562348972365773),\n",
       " ('inverse', 0.5378054467390717),\n",
       " ('functions', 0.5367389312234896),\n",
       " ('equation', 0.5360660939322683),\n",
       " ('differential', 0.5285000175233511),\n",
       " ('algebraic', 0.512849282412943)]"
      ]
     },
     "execution_count": 76,
     "metadata": {},
     "output_type": "execute_result"
    }
   ],
   "source": [
    "model.nearest_words(\"multiplication\")"
   ]
  },
  {
   "cell_type": "code",
   "execution_count": 77,
   "metadata": {},
   "outputs": [
    {
     "data": {
      "text/plain": [
       "[('algorithms', 0.7608978515929188),\n",
       " ('scheme', 0.5085633223866177),\n",
       " ('method', 0.5064875643535647),\n",
       " ('coding', 0.4914203275117082),\n",
       " ('functions', 0.4847452388332127),\n",
       " ('encryption', 0.48335621990413297),\n",
       " ('multiplication', 0.47625685331368744),\n",
       " ('methods', 0.4724764110546735),\n",
       " ('graph', 0.46138985055914444),\n",
       " ('sort', 0.46026828504632383)]"
      ]
     },
     "execution_count": 77,
     "metadata": {},
     "output_type": "execute_result"
    }
   ],
   "source": [
    "model.nearest_words(\"algorithm\")"
   ]
  },
  {
   "cell_type": "markdown",
   "metadata": {},
   "source": [
    "Overall usefull sources:\n",
    "- https://neurohive.io/ru/osnovy-data-science/word2vec-vektornye-predstavlenija-slov-dlja-mashinnogo-obuchenija/ \n",
    "- https://habr.com/ru/post/446530/\n",
    "- http://www.machinelearning.ru/wiki/images/b/b3/Word2Vec.pdf\n",
    "- https://github.com/RaRe-Technologies/movie-plots-by-genre/blob/master/ipynb_with_output/Document%20classification%20with%20word%20embeddings%20tutorial%20-%20with%20output.ipynb"
   ]
  },
  {
   "cell_type": "markdown",
   "metadata": {},
   "source": [
    "# Problem 4 (eigenvalues)  45 pts\n",
    "\n",
    "### 1. Theoretical tasks (10 pts)\n",
    "\n",
    "* (5 pts) Prove that normal matrix is Hermitian iff its eigenvalues are real. Prove that normal matrix is unitary iff its eigenvalues satisfy $|\\lambda| = 1$. \n",
    "\n",
    "* (5 pts) The following problem illustrates instability of the Jordan form. Find theoretically the eigenvalues of the perturbed Jordan block:\n",
    "\n",
    "$$\n",
    "    J(\\varepsilon) = \n",
    "    \\begin{bmatrix} \n",
    "     \\lambda & 1 & & & 0 \\\\ \n",
    "     & \\lambda & 1 & & \\\\ \n",
    "     &  & \\ddots & \\ddots & \\\\ \n",
    "     & & & \\lambda & 1 \\\\ \n",
    "     \\varepsilon & & & & \\lambda  \\\\ \n",
    "    \\end{bmatrix}_{n\\times n}\n",
    "$$\n",
    "\n",
    "Comment how eigenvalues of $J(0)$ are perturbed for large $n$."
   ]
  },
  {
   "cell_type": "markdown",
   "metadata": {},
   "source": [
    "### Solution\n",
    "\n",
    "1.\n",
    "\n",
    "a) Prove that normal matrix is Hermitian iff its eigenvalues are real.\n",
    "<br>\n",
    "$\n",
    "\\Rightarrow : \\\\\n",
    "$\n",
    "<br>\n",
    "On lecture 6 we discussed theorem for normal matrices: $A$ is a normal matrix, iff $A = U \\Lambda U^*$, where $U$ is unitary and $\\Lambda$ is diagonal wich elements are eigenvalues of $A$. So let's use such representation of our hermitian matrix: $A = U \\Lambda U^* = A^* = (U \\Lambda U^*)^* = U \\Lambda^* U^* \\rightarrow \\Lambda = \\Lambda^* \\rightarrow$ all eigenvalues of $A$ are real.\n",
    "\n",
    "$\n",
    "\\Leftarrow :\n",
    "$\n",
    "<br>\n",
    "Again I will use theorem for normal matrices: since we are working with normal matrix $A$, we can represent it in form $U \\Lambda U^*$, where $\\Lambda = \\Lambda^*$, since all eigenvalues of $A$ are real. Let's compute $A^*$:\n",
    "$\n",
    "A^* = (U \\Lambda U^*)^* = U \\Lambda^* U^* = U \\Lambda U^* = A \\rightarrow A$ - Hermitian.\n",
    "\n",
    "\n",
    "b) Prove that normal matrix is unitary iff its eigenvalues satisfy  $|\\lambda| = 1$.\n",
    "<br>\n",
    "$\n",
    "\\Rightarrow : \\\\\n",
    "U - \\text{unitary, and} (\\lambda, x) - \\text{eigenpair of it: } Ux = \\lambda x \\rightarrow (Ux, Ux) = (U^*Ux, x) = (x, x),\\ (Ux, Ux) = (\\lambda x, \\lambda x) = |\\lambda|^2 (x, x) \\rightarrow (x, x) = |\\lambda|^2 (x, x)\\rightarrow |\\lambda| = 1 \\\\\n",
    "\\Leftarrow : \\\\\n",
    "|\\lambda| = 1 ,(\\lambda, x) - \\text{eigenpair of U: } \\rightarrow (x, x) = |\\lambda|^2 (x, x) = (\\lambda x, \\lambda x) =  (Ux, Ux) = (U^*Ux, x) \\rightarrow U^*U = I\n",
    "$\n",
    "\n",
    "2. \n",
    "<br>\n",
    "$\n",
    "\\det (J(\\varepsilon) - \\hat{\\lambda}I) =  \n",
    "\\begin{vmatrix} \n",
    "\\lambda - \\hat{\\lambda} & 1 & & & 0 \\\\ \n",
    "& \\lambda - \\hat{\\lambda} & 1 & & \\\\ \n",
    "&  & \\ddots & \\ddots & \\\\ \n",
    "& & & \\lambda - \\hat{\\lambda} & 1 \\\\ \n",
    "\\varepsilon & & & & \\lambda -  \\hat{\\lambda} \\\\ \n",
    "\\end{vmatrix}_{n\\times n} = \\\\\n",
    "(\\lambda - \\hat{\\lambda})\n",
    "\\begin{vmatrix} \n",
    "\\lambda - \\hat{\\lambda} & 1 & & & 0 \\\\ \n",
    "& \\lambda - \\hat{\\lambda} & 1 & & \\\\ \n",
    "&  & \\ddots & \\ddots & \\\\ \n",
    "& & & \\lambda - \\hat{\\lambda} & 1 \\\\ \n",
    "0 & & & & \\lambda -  \\hat{\\lambda} \\\\ \n",
    "\\end{vmatrix}_{(n-1)\\times (n-1)} +\n",
    "(-1)^{n+1}\\varepsilon\n",
    "\\begin{vmatrix} \n",
    "1 & & & 0 \\\\ \n",
    "\\lambda - \\hat{\\lambda} & 1 & & \\\\ \n",
    "& \\ddots & \\ddots & \\\\ \n",
    "& & \\lambda - \\hat{\\lambda} & 1 \\\\ \n",
    "\\end{vmatrix}_{(n-1)\\times (n-1)} = \\\\\n",
    "\\big\\\\ \\text{first matrix is upper-diagonal, second - lower-diagonal, thus determinants of both of them are products of diagonal elements} \\big\\\\ = \\\\\n",
    "(\\lambda - \\hat{\\lambda})^n + (-1)^{n+1}\\varepsilon = 0 \\Rightarrow\n",
    "(-1)^{n}(\\hat{\\lambda}- \\lambda)^n + (-1)^{n}(-\\varepsilon) = 0 \\Rightarrow\n",
    "(\\hat{\\lambda}- \\lambda)^n = \\varepsilon \\Rightarrow\n",
    "\\hat{\\lambda} = \\lambda + \\sqrt[n]{\\varepsilon} \n",
    "$\n",
    "\n",
    "For large $n$ and real  $\\varepsilon > 0$ : $\\hat{\\lambda} \\rightarrow \\lambda + 1$, so the perturbation affects eigenvalues of Jordan block more, assuming $\\varepsilon < 1$ (since it is perturbation). \n",
    "\n",
    "Also I assume we are talking not only for real eigenvalues, because the solution of $(\\hat{\\lambda}- \\lambda)^n = \\varepsilon$ is a bit more complicated in terms of complex space (via De Moivre's formula):  $\\hat{\\lambda} = \\lambda + \\sqrt[n]{\\varepsilon}(\\cos(\\frac{2k\\pi}{n})+i\\sin(\\frac{2k\\pi}{n})),\\ k = 0, 1, \\ldots, n-1$. For $k = 0$ we will get real solutions, but for other $k$ we will see that our eigenvalue will kind of oscilate (we had 1 eigenvalue, now n solutions with perturbation which is obviously bad)."
   ]
  },
  {
   "cell_type": "markdown",
   "metadata": {},
   "source": [
    "### 2. PageRank\n",
    "\n",
    "\n",
    "#### Damping factor importance\n",
    "\n",
    "* (5 pts) Write the function ```pagerank_matrix(G)``` that takes an adjacency matrix $G$ (in both sparse and dense formats) as an input and outputs the corresponding PageRank matrix $A$."
   ]
  },
  {
   "cell_type": "code",
   "execution_count": 13,
   "metadata": {},
   "outputs": [],
   "source": [
    "from scipy.sparse import issparse, lil_matrix, csr_matrix\n",
    "# INPUT:  G - np.ndarray or sparse matrix\n",
    "# OUTPUT: A - np.ndarray (of size G.shape) or sparse matrix\n",
    "def pagerank_matrix(G):\n",
    "    # enter your code here\n",
    "    L = G.sum(axis = 1)\n",
    "    if not issparse(G):\n",
    "       # if L == 0 : L[L == 0] = 1\n",
    "        L[L == 0] = 1 # in order not to get division vy zero\n",
    "        A = G.T*1/L\n",
    "    else:\n",
    "       # if L == 0 : L[L == 0] = 1\n",
    "        #A = csr_matrix(G.T).multiply(lil_matrix((L.shape[0],L.shape[0])).setdiag(1/L))\n",
    "        L[L == 0] = 1\n",
    "        L_hat = lil_matrix((L.shape[0],L.shape[0]))  # creating sparse diagonal matrix containing 1/L\n",
    "        L_hat.setdiag(1/L) \n",
    "        A = G.T*L_hat # Exactly division by L\n",
    "    return A"
   ]
  },
  {
   "cell_type": "markdown",
   "metadata": {},
   "source": [
    "* (3 pts) Find PageRank matrix $A$ that corresponds to the following graph: <img src=\"graph.png\" width='250'>\n",
    "What is its largest eigenvalue? What multiplicity does it have?\n",
    "\n",
    "\n",
    "* (5 pts) Implement the power method for a given matrix $A$, an initial guess $x_0$ and a number of iterations ```num_iter```. It should be organized as a function ```power_method(A, x0, num_iter)``` that outputs approximation to eigenvector $x$, eigenvalue $\\lambda$ and history of residuals $\\{\\|Ax_k - \\lambda_k x_k\\|_2\\}$. Make sure that the method converges to the correct solution on a matrix $\\begin{bmatrix} 2 & -1 \\\\ -1 & 2 \\end{bmatrix}$ which is known to have the largest eigenvalue equal to $3$."
   ]
  },
  {
   "cell_type": "code",
   "execution_count": 14,
   "metadata": {},
   "outputs": [
    {
     "name": "stdout",
     "output_type": "stream",
     "text": [
      "Largest eigenvalue of pagerank matrix A = 1.0000000000000004\n"
     ]
    }
   ],
   "source": [
    "G = np.array([ [0,1,0,0,0], [0,0,1,0,0], [1,1,0,0,0], [0,0,0,0,1],[0,0,0,1,0] ]) # Adjacency matrix\n",
    "A = pagerank_matrix(G)\n",
    "lambdas, _ = np.linalg.eig(A)\n",
    "print('Largest eigenvalue of pagerank matrix A =', np.abs(max(lambdas)))\n",
    "#print(G, '\\n', A)"
   ]
  },
  {
   "cell_type": "markdown",
   "metadata": {},
   "source": [
    "Largest eigenvalue of $A$ is $1$ (as it was expected - pagerank matrix is left-stochastic $\\Rightarrow$ max eigenvalue should be 1 indeed)"
   ]
  },
  {
   "cell_type": "code",
   "execution_count": 17,
   "metadata": {},
   "outputs": [],
   "source": [
    "# INPUT:  A - np.ndarray (2D), x0 - np.ndarray (1D), num_iter - integer (positive) \n",
    "# OUTPUT: x - np.ndarray (of size x0), l - float, res - np.ndarray (of size num_iter + 1 [include initial guess])\n",
    "def power_method(A, x0, num_iter): # 5 pts\n",
    "    # enter your code here\n",
    "    x = np.zeros(x0.shape[0])\n",
    "    l = 0\n",
    "    res = np.zeros(num_iter + 1)\n",
    "    x_pred = x0/np.linalg.norm(x0, ord = 2) # initial step\n",
    "    for i in range(num_iter + 1): # Algorithm straightforward from the lecture:\n",
    "        x_ = A.dot(x_pred) # x_ in my case - x_{n+1}, x_pred - x_{n}: x_{n+1} = Ax_{n}\n",
    "        l = x_.dot(x_pred) # \\lambda_{n+1} = (Ax_{n+1},x_{n+1})\n",
    "       # x_pred = x_/np.linalg.norm(x_, ord = 2) # normalize     \n",
    "    \n",
    "        res[i] = np.linalg.norm(x_ - l*x_pred, ord = 2) # computing residual\n",
    "        x_pred = x_/np.linalg.norm(x_, ord = 2) # normalize \n",
    "    return x_pred, l, res"
   ]
  },
  {
   "cell_type": "code",
   "execution_count": 18,
   "metadata": {},
   "outputs": [
    {
     "name": "stdout",
     "output_type": "stream",
     "text": [
      "Largest eigenvalue for test matrix 2.9999999999999996\n"
     ]
    }
   ],
   "source": [
    "# Let's check with\n",
    "A = np.array([[2,-1], [-1,2]])\n",
    "#x0 = np.random.rand(A.shape[0]) # For random initial condition\n",
    "x0 = np.array([1, 0])\n",
    "x, l, res = power_method(A, x0, 100)\n",
    "print('Largest eigenvalue for test matrix', l)"
   ]
  },
  {
   "cell_type": "markdown",
   "metadata": {},
   "source": [
    "* (2 pts) Run the power method for the graph presented above and plot residuals $\\|Ax_k - \\lambda_k x_k\\|_2$ as a function of $k$ for ```num_iter=100``` and random initial guess ```x0```.  Explain the absence of convergence. \n",
    "\n",
    "\n",
    "* (2 pts)  Consider the same graph, but with additional self loop at node 4 (self loop is an edge that connects a vertex with itself). Plot residuals as in the previous task and discuss the convergence. Now, run the power method with ```num_iter=100``` for 10 different initial guesses and print/plot the resulting approximated eigenvectors. Why do they depend on the initial guess?"
   ]
  },
  {
   "cell_type": "code",
   "execution_count": 204,
   "metadata": {},
   "outputs": [
    {
     "name": "stdout",
     "output_type": "stream",
     "text": [
      "Largest eigenvalues for random initial condition is  0.05265659386384314\n"
     ]
    }
   ],
   "source": [
    "import matplotlib.pyplot as plt\n",
    "%matplotlib inline\n",
    "\n",
    "np.random.seed(11)\n",
    "num_iter = 100\n",
    "G = np.array([ [0,1,0,0,0], [0,0,1,0,0], [1,1,0,0,0], [0,0,0,0,1],[0,0,0,1,0] ]) # Adjacency matrix\n",
    "A = pagerank_matrix(G)\n",
    "x0 = np.random.randn(A.shape[0])# For random initial condition\n",
    "#x0 = np.array([1, 0])\n",
    "x, l, res = power_method(A, x0, num_iter)\n",
    "print('Largest eigenvalues for random initial condition is ', l)\n"
   ]
  },
  {
   "cell_type": "code",
   "execution_count": 205,
   "metadata": {},
   "outputs": [
    {
     "data": {
      "image/png": "[encoded data removed]",
      "text/plain": [
       "<Figure size 1008x504 with 1 Axes>"
      ]
     },
     "metadata": {
      "needs_background": "light"
     },
     "output_type": "display_data"
    }
   ],
   "source": [
    "plt.figure(figsize=(14, 7))\n",
    "plt.rcParams.update({'font.size': 18})\n",
    "plt.plot(res)\n",
    "plt.title('Convergence of power method applied for pagerank matrix')\n",
    "plt.ylabel('Residuals')\n",
    "plt.xlabel('N, iterations')\n",
    "plt.yscale('log')\n",
    "\n",
    "plt.show()"
   ]
  },
  {
   "cell_type": "code",
   "execution_count": 21,
   "metadata": {},
   "outputs": [
    {
     "name": "stdout",
     "output_type": "stream",
     "text": [
      "Eigenvalues of A (array([-0.5+0.5j, -0.5-0.5j,  1. +0.j ,  1. +0.j , -1. +0.j ]), array([[ 0.35355339+0.35355339j,  0.35355339-0.35355339j,\n",
      "         0.33333333+0.j        ,  0.        +0.j        ,\n",
      "         0.        +0.j        ],\n",
      "       [ 0.35355339-0.35355339j,  0.35355339+0.35355339j,\n",
      "         0.66666667+0.j        ,  0.        +0.j        ,\n",
      "         0.        +0.j        ],\n",
      "       [-0.70710678+0.j        , -0.70710678-0.j        ,\n",
      "         0.66666667+0.j        ,  0.        +0.j        ,\n",
      "         0.        +0.j        ],\n",
      "       [ 0.        +0.j        ,  0.        -0.j        ,\n",
      "         0.        +0.j        ,  0.70710678+0.j        ,\n",
      "        -0.70710678+0.j        ],\n",
      "       [ 0.        +0.j        ,  0.        -0.j        ,\n",
      "         0.        +0.j        ,  0.70710678+0.j        ,\n",
      "         0.70710678+0.j        ]]))\n"
     ]
    }
   ],
   "source": [
    "print('Eigenvalues of A', np.linalg.eig(A))"
   ]
  },
  {
   "cell_type": "markdown",
   "metadata": {},
   "source": [
    "As we discussed on lectures, convergence rate will be $q = \\cfrac{|\\lambda_2|}{|\\lambda_1|}$, which in our case will be exactly 1, since we have eigenvalues equal to $-1$ also. So here we clearly observe absence of convergence"
   ]
  },
  {
   "cell_type": "code",
   "execution_count": 22,
   "metadata": {},
   "outputs": [],
   "source": [
    "# For changed adjacency matrix\n",
    "#x0 = np.array([1, 0])\n",
    "G = np.array([ [0,1,0,0,0], [0,0,1,0,0], [1,1,0,0,0], [0,0,0,0,1],[0,0,0,1,1] ]) # New adjacency matrix\n",
    "A = pagerank_matrix(G)\n",
    "x0 = np.random.randn(A.shape[0])\n",
    "x, l, res = power_method(A, x0, num_iter)"
   ]
  },
  {
   "cell_type": "code",
   "execution_count": 23,
   "metadata": {},
   "outputs": [
    {
     "data": {
      "image/png": "[encoded data removed]",
      "text/plain": [
       "<Figure size 1008x504 with 1 Axes>"
      ]
     },
     "metadata": {
      "needs_background": "light"
     },
     "output_type": "display_data"
    }
   ],
   "source": [
    "plt.figure(figsize=(14, 7))\n",
    "plt.rcParams.update({'font.size': 18})\n",
    "plt.plot(res)\n",
    "plt.title('Convergence of power method applied for new pagerank matrix')\n",
    "plt.ylabel('Residuals')\n",
    "plt.xlabel('N, iterations')\n",
    "plt.yscale('log')\n",
    "\n",
    "plt.show()"
   ]
  },
  {
   "cell_type": "code",
   "execution_count": 24,
   "metadata": {},
   "outputs": [
    {
     "name": "stdout",
     "output_type": "stream",
     "text": [
      "Eigenvalues of A (array([-0.5+0.5j, -0.5-0.5j,  1. +0.j , -0.5+0.j ,  1. +0.j ]), array([[ 0.35355339+0.35355339j,  0.35355339-0.35355339j,\n",
      "         0.33333333+0.j        ,  0.        +0.j        ,\n",
      "         0.        +0.j        ],\n",
      "       [ 0.35355339-0.35355339j,  0.35355339+0.35355339j,\n",
      "         0.66666667+0.j        ,  0.        +0.j        ,\n",
      "         0.        +0.j        ],\n",
      "       [-0.70710678+0.j        , -0.70710678-0.j        ,\n",
      "         0.66666667+0.j        ,  0.        +0.j        ,\n",
      "         0.        +0.j        ],\n",
      "       [ 0.        +0.j        ,  0.        -0.j        ,\n",
      "         0.        +0.j        , -0.70710678+0.j        ,\n",
      "        -0.4472136 +0.j        ],\n",
      "       [ 0.        +0.j        ,  0.        -0.j        ,\n",
      "         0.        +0.j        ,  0.70710678+0.j        ,\n",
      "        -0.89442719+0.j        ]]))\n"
     ]
    }
   ],
   "source": [
    "print('Eigenvalues of A', np.linalg.eig(A))"
   ]
  },
  {
   "cell_type": "markdown",
   "metadata": {},
   "source": [
    "With new matrix convergence is signifcantly better since in new matrix we will have different set of eigenvalues (to be specific - without $-1$) and the second largest eigenvalue is not close to first."
   ]
  },
  {
   "cell_type": "code",
   "execution_count": 25,
   "metadata": {},
   "outputs": [
    {
     "name": "stdout",
     "output_type": "stream",
     "text": [
      "For eigenvalue l = 1.0000, eigenvector: [-0.3325 -0.6649 -0.6649 -0.0325 -0.0651] , iteration = 0 \n",
      "\n",
      "For eigenvalue l = 1.0000, eigenvector: [-0.1813 -0.3627 -0.3627 -0.3753 -0.7505] , iteration = 1 \n",
      "\n",
      "For eigenvalue l = 1.0000, eigenvector: [ 0.3234  0.6469  0.6469 -0.1082 -0.2163] , iteration = 2 \n",
      "\n",
      "For eigenvalue l = 1.0000, eigenvector: [ 0.1735  0.3471  0.3471 -0.3818 -0.7636] , iteration = 3 \n",
      "\n",
      "For eigenvalue l = 1.0000, eigenvector: [-0.1422 -0.2844 -0.2844 -0.4045 -0.8089] , iteration = 4 \n",
      "\n",
      "For eigenvalue l = 1.0000, eigenvector: [-0.2418 -0.4836 -0.4836 -0.3078 -0.6157] , iteration = 5 \n",
      "\n",
      "For eigenvalue l = 1.0000, eigenvector: [-0.2062 -0.4123 -0.4123  0.3514  0.7028] , iteration = 6 \n",
      "\n",
      "For eigenvalue l = 1.0000, eigenvector: [0.2779 0.5558 0.5558 0.2469 0.4939] , iteration = 7 \n",
      "\n",
      "For eigenvalue l = 1.0000, eigenvector: [-0.1115 -0.223  -0.223   0.4214  0.8429] , iteration = 8 \n",
      "\n",
      "For eigenvalue l = 1.0000, eigenvector: [ 0.1105  0.221   0.221  -0.4219 -0.8438] , iteration = 9 \n",
      "\n"
     ]
    },
    {
     "data": {
      "image/png": "[encoded data removed]",
      "text/plain": [
       "<Figure size 1008x504 with 1 Axes>"
      ]
     },
     "metadata": {
      "needs_background": "light"
     },
     "output_type": "display_data"
    }
   ],
   "source": [
    "plt.figure(figsize=(14, 7))\n",
    "G = np.array([ [0,1,0,0,0], [0,0,1,0,0], [1,1,0,0,0], [0,0,0,0,1],[0,0,0,1,1] ]) # New adjacency matrix\n",
    "A = pagerank_matrix(G)\n",
    "num_iter = 100\n",
    "np.random.seed(2)\n",
    "for i in range(10):\n",
    "    x0 = np.random.randn(A.shape[0])\n",
    "    x, l, res = power_method(A, x0, num_iter)\n",
    "    plt.plot(x, label = 'i= %d' % i)\n",
    "    print('For eigenvalue l = %0.4f, eigenvector:' % l, np.around(x,4), ', iteration = %d' % i, '\\n')\n",
    "plt.plot(range(5), [0]*5, color='black') # y = 0 line to show symmetry   \n",
    "plt.title('Eigenvectors for different initial conditions')\n",
    "plt.legend(loc='lower left')\n",
    "plt.show()"
   ]
  },
  {
   "cell_type": "markdown",
   "metadata": {},
   "source": [
    "As we can see from picture and data, our eigenvectors are nearly symmetrucaly distributed along x axis (the signum of coordinates only changes - picture inverts). I suggest it happens because we have $2$ equal by modulus eigenvalues (so the multiplicity is 2), so sequence of eigenvectors in our algorithm can can converge to eigenvector corresponding either to one or another eigenvalue (because eigenvector we obtain lies in linear shell, or span / $<...>$, of 2 eigenvectors corresponding our eigenvalues)."
   ]
  },
  {
   "cell_type": "markdown",
   "metadata": {},
   "source": [
    "\n",
    "In order to avoid this problem Larry Page and Sergey Brin [proposed](http://ilpubs.stanford.edu:8090/422/1/1999-66.pdf) to use the following regularization technique:\n",
    "\n",
    "$$\n",
    "A_d = dA + \\frac{1-d}{N} \\begin{pmatrix} 1 & \\dots & 1 \\\\ \\vdots & & \\vdots \\\\ 1 & \\dots & 1 \\end{pmatrix},\n",
    "$$\n",
    "\n",
    "where $d$ is a small parameter in $[0,1]$ (typically $d=0.85$), which is called **damping factor**, $A$ is of size $N\\times N$. Now $A_d$ is the matrix with multiplicity of the largest eigenvalue equal to 1. \n",
    "Recall that computing the eigenvector of the PageRank matrix, which corresponds to the largest eigenvalue, has the following interpretation. Consider a person who stays in a random node of a graph (i.e. opens a random web page); at each step s/he follows one of the outcoming edges uniformly at random (i.e. opens one of the links). So the person randomly walks through the graph and the eigenvector we are looking for is exactly his/her stationary distribution â€” for each node it tells you the probability of visiting this particular node. Therefore, if the person has started from a part of the graph which is not connected with the other part, he will never get there.  In the regularized model, the person at each step follows one of the outcoming links with probability $d$ OR teleports to a random node from the whole graph with probability $(1-d)$.\n",
    "\n",
    "* (2 pts) Now, run the power method with $A_d$ and plot residuals $\\|A_d x_k - \\lambda_k x_k\\|_2$ as a function of $k$ for $d=0.97$, ```num_iter=100``` and a random initial guess ```x0```.\n",
    "\n",
    "* (5 pts) Find the second largest in the absolute value eigenvalue of the obtained matrix $A_d$. How and why is it connected to the damping factor $d$? What is the convergence rate of the PageRank algorithm when using damping factor?\n",
    "\n",
    "Usually, graphs that arise in various areas are sparse (social, web, road networks, etc.) and, thus, computation of a matrix-vector product for corresponding PageRank matrix $A$ is much cheaper than $\\mathcal{O}(N^2)$. However, if $A_d$ is calculated directly, it becomes dense and, therefore, $\\mathcal{O}(N^2)$ cost grows prohibitively large for  big $N$.\n",
    "\n",
    "\n",
    "* (2 pts) Implement fast matrix-vector product for $A_d$ as a function ```pagerank_matvec(A, d, x)```, which takes a PageRank matrix $A$ (in sparse format, e.g., ```csr_matrix```), damping factor $d$ and a vector $x$ as an input and returns $A_dx$ as an output. \n",
    "\n",
    "* (1 pts) Generate a random adjacency matrix of size $10000 \\times 10000$ with only 100 non-zero elements and compare ```pagerank_matvec``` performance with direct evaluation of $A_dx$."
   ]
  },
  {
   "cell_type": "code",
   "execution_count": 26,
   "metadata": {},
   "outputs": [
    {
     "name": "stdout",
     "output_type": "stream",
     "text": [
      "Largest eigenvalues for random initial condition is  0.9999812435950195\n"
     ]
    }
   ],
   "source": [
    "# Manually constructing Ad matrix:\n",
    "G = np.array([ [0,1,0,0,0], [0,0,1,0,0], [1,1,0,0,0], [0,0,0,0,1],[0,0,0,1,1] ]) # New adjacency matrix\n",
    "A = pagerank_matrix(G)\n",
    "\n",
    "d = 0.97\n",
    "A_d = A*d + (1 - d)/A.shape[0]*np.ones((A.shape[0],A.shape[0]))\n",
    "\n",
    "x0 = np.random.randn(A_d.shape[0])# For random initial condition\n",
    "#x0 = np.array([1, 0])\n",
    "x, l, res = power_method(A_d, x0, num_iter)\n",
    "print('Largest eigenvalues for random initial condition is ', l)"
   ]
  },
  {
   "cell_type": "code",
   "execution_count": 27,
   "metadata": {},
   "outputs": [
    {
     "data": {
      "image/png": "[encoded data removed]",
      "text/plain": [
       "<Figure size 1008x504 with 1 Axes>"
      ]
     },
     "metadata": {
      "needs_background": "light"
     },
     "output_type": "display_data"
    }
   ],
   "source": [
    "plt.figure(figsize=(14, 7))\n",
    "plt.rcParams.update({'font.size': 18})\n",
    "plt.plot(res)\n",
    "plt.title('Convergence of power method applied for pagerank matrix')\n",
    "plt.ylabel('Residuals')\n",
    "plt.xlabel('N, iterations')\n",
    "plt.yscale('log')\n",
    "\n",
    "plt.show()"
   ]
  },
  {
   "cell_type": "code",
   "execution_count": 28,
   "metadata": {},
   "outputs": [
    {
     "name": "stdout",
     "output_type": "stream",
     "text": [
      "Largest eigenvalue = 1.00\n",
      "Second largest eigenvalue = 0.97\n"
     ]
    }
   ],
   "source": [
    "# Eig implementation, bit in Piazza we were told not to use buit-in methods, but our own power method with modifications\n",
    "# So here you can see already outdated solution, in next block I will make proper solution and check it with this one.\n",
    "lambdas_d, _ = np.linalg.eig(A_d)\n",
    "print('Largest eigenvalue = %0.2f' % abs(max(lambdas_d)))\n",
    "list_d = [abs(list(lambdas_d)[i]) for i in range(lambdas_d.shape[0])] # We can just print eigenvalues, but I want it this way\n",
    "list_d.remove(max(list_d)) # Removing max from newborn list and next max - second in initial array\n",
    "print('Second largest eigenvalue = %0.2f' % abs(max(list_d)))"
   ]
  },
  {
   "cell_type": "code",
   "execution_count": 29,
   "metadata": {},
   "outputs": [
    {
     "name": "stdout",
     "output_type": "stream",
     "text": [
      "Largest eigenvalues for random initial condition is  0.9976165259808281\n",
      "Second largest eigenvalues for random initial condition is  0.9723207548883941\n"
     ]
    }
   ],
   "source": [
    "# Let's recall another representation of A: sum[l_i*outer(x_i,x_i)] => our power method is ok for finding 2nd largest eigenvalue:\n",
    "# now we will find largest eigenvalue for new matrix: A - l_1*outer(x0,x_1), \n",
    "# where (l1,x1) - eigenpair of A -> exactly l_2nd_large\n",
    "\n",
    "#np.random.seed(4)\n",
    "G = np.array([ [0,1,0,0,0], [0,0,1,0,0], [1,1,0,0,0], [0,0,0,0,1],[0,0,0,1,1] ]) # New adjacency matrix\n",
    "A = pagerank_matrix(G)\n",
    "d = 0.97\n",
    "A_d = A*d + (1 - d)/A.shape[0]*np.ones((A.shape[0],A.shape[0]))\n",
    "x0 = np.random.randn(A_d.shape[0])# For random initial condition\n",
    "num_iter = 100\n",
    "\n",
    "x, l, res = power_method(A_d, x0, num_iter)\n",
    "print('Largest eigenvalues for random initial condition is ', l)\n",
    "\n",
    "x2, l2, res2 = power_method(A_d-l*np.outer(x,x), x0, num_iter)\n",
    "print('Second largest eigenvalues for random initial condition is ', l2)\n",
    "# Source: https://people.eecs.berkeley.edu/~luca/cs359g/lecture07.pdf - example"
   ]
  },
  {
   "cell_type": "markdown",
   "metadata": {},
   "source": [
    "As we can see, second largest eigenvalue is our parameter d $\\Rightarrow$ convergence rate will be $q = \\cfrac{|\\lambda_2|}{|\\lambda_1|} = \\cfrac{0.97}{1} = 0.97 < 1$, so the convergence rate comparing to the first experimenе is better. Here also we can see the answer on question about connection of parameter d and convergence rate. Why it is so? There are 2 corresponding theorems that state that: http://www-cs-students.stanford.edu/~taherh/papers/secondeigenvalue.pdf. I suppose it is okay not to retype all of this here."
   ]
  },
  {
   "cell_type": "code",
   "execution_count": 30,
   "metadata": {},
   "outputs": [],
   "source": [
    "from scipy.sparse import csr_matrix, random as sp_rnd\n",
    "# INPUT:  A - np.ndarray (2D), d - float (from 0.0 to 1.0), x - np.ndarray (1D, size of A.shape[0/1])\n",
    "# OUTPUT: y - np.ndarray (1D, size of x)\n",
    "def pagerank_matvec(A, d, x): # 2 pts\n",
    "    # enter your code here\n",
    "    A_csr = csr_matrix(d*A) # creating Compressed Sparse Row matrix from initial A for more efficient storing\n",
    "    #x_csr = csr_matrix(x)     \n",
    "    x_csr = csr_matrix(x.reshape((x.shape[0], 1)))  \n",
    "    #print(A_csr.shape, x_csr.shape)\n",
    "    '''\n",
    "    [[1...1],   [x_1     [sum(x_i)\n",
    "      ...,    *  ...  =   ...\n",
    "     [1...1]]    x_n]     sum(x_i)], i = 1..n\n",
    "    \n",
    "    '''\n",
    "    x_sum = sum(x)\n",
    "    #print(np.dot(A_csr, x_csr).shape)\n",
    "    y =  np.dot(A_csr, x_csr) + (1 - d)/A_csr.shape[0]*x_sum*(np.ones(A.shape[0])).reshape(A.shape[0], 1)\n",
    "    return np.array(y.T)\n",
    "\n",
    "#Simple matvec for time profiling\n",
    "def simple_matvec(A, d, x): # 2 pts\n",
    "    y =  np.dot(A*d + (1 - d)/A.shape[0]*np.ones((A.shape[0],A.shape[0])), x)\n",
    "    return np.array(y)"
   ]
  },
  {
   "cell_type": "code",
   "execution_count": 31,
   "metadata": {},
   "outputs": [
    {
     "name": "stdout",
     "output_type": "stream",
     "text": [
      "[[0.00033842 0.00033842 0.00033842 ... 0.00033842 0.00033842 0.00033842]]\n",
      "[[0.00033842 0.00033842 0.00033842 ... 0.00033842 0.00033842 0.00033842]]\n"
     ]
    }
   ],
   "source": [
    "# Creating sparse matrix (density = 10^(-6), because total number of elements 10^8) and self-check using simple_matvec\n",
    "dim = 10000\n",
    "d = 0.97\n",
    "A_sp = sp_rnd(dim, dim, density=1e-6, format='csr',data_rvs=np.ones)\n",
    "x = np.random.randn(A_sp.shape[0])\n",
    "\n",
    "#A_sp = csr_matrix(d*A)\n",
    "#print(A.shape)\n",
    "#print(A_csr.get_shape()[0])\n",
    "\n",
    "print(pagerank_matvec(A_sp, d, x))\n",
    "print(simple_matvec(A_sp, d, x))\n",
    "# Our programm is correct"
   ]
  },
  {
   "cell_type": "code",
   "execution_count": 32,
   "metadata": {},
   "outputs": [
    {
     "name": "stdout",
     "output_type": "stream",
     "text": [
      "Time for pagerank_matvec for 10 iterations =  0.059487799999999424 s\n",
      "Time for simple matvec for 10 iterations =  15.100573800000006 s\n"
     ]
    }
   ],
   "source": [
    "# Profiling\n",
    "print(\"Time for pagerank_matvec for 10 iterations = \", timeit.timeit(\"pagerank_matvec(A_sp, d, x)\", setup=\"from __main__ import pagerank_matvec, A_sp, d, x\", number=10), \"s\")\n",
    "print(\"Time for simple matvec for 10 iterations = \", timeit.timeit(\"simple_matvec(A_sp, d, x)\", setup=\"from __main__ import simple_matvec, A_sp, d, x\", number=10), \"s\")"
   ]
  },
  {
   "cell_type": "markdown",
   "metadata": {},
   "source": [
    "Again, as it was expected, computations with sparse matrices are significantly faster.\n",
    "\n",
    "Useful sources: \n",
    "- https://cmdlinetips.com/2019/02/how-to-create-random-sparse-matrix-of-specific-density/\n",
    "- https://docs.scipy.org/doc/scipy/reference/sparse.html"
   ]
  },
  {
   "cell_type": "markdown",
   "metadata": {},
   "source": [
    "#### DBLP: computer science bibliography\n",
    "\n",
    "Download the dataset from [here](https://goo.gl/oZVxEa), unzip it and put `dblp_authors.npz`  and `dblp_graph.npz` in the same folder with this notebook. Each value (author name) from `dblp_authors.npz` corresponds to the row/column of the matrix from `dblp_graph.npz`. Value at row `i` and column `j` of the matrix from `dblp_graph.npz` corresponds to the number of times author `i` cited papers of the author `j`. Let us now find the most significant scientists according to PageRank model over DBLP data.\n",
    "\n",
    "* (4 pts) Load the weighted adjacency matrix and the authors list into Python using ```load_dblp(...)``` function. Print its density (fraction of nonzero elements). Find top-10 most cited authors from the weighted adjacency matrix. Now, make all the weights of the adjacency matrix equal to 1 for simplicity (consider only existence of connection between authors, not its weight). Obtain the PageRank matrix $A$ from the adjacency matrix and verify that it is stochastic.\n",
    " \n",
    " \n",
    "* (1 pts) In order to provide ```pagerank_matvec``` to your ```power_method``` (without rewriting it) for fast calculation of $A_dx$, you can create a ```LinearOperator```: \n",
    "```python\n",
    "L = scipy.sparse.linalg.LinearOperator(A.shape, matvec=lambda x, A=A, d=d: pagerank_matvec(A, d, x))\n",
    "```\n",
    "Calling ```L@x``` or ```L.dot(x)``` will result in calculation of ```pagerank_matvec(A, d, x)``` and, thus, you can plug $L$ instead of the matrix $A$ in the ```power_method``` directly. **Note:** though in the previous subtask graph was very small (so you could disparage fast matvec implementation), here it is very large (but sparse), so that direct evaluation of $A_dx$ will require $\\sim 10^{12}$ matrix elements to store - good luck with that (^_<).\n",
    "\n",
    "\n",
    "* (2 pts) Run the power method starting from the vector of all ones and plot residuals $\\|A_dx_k - \\lambda_k x_k\\|_2$  as a function of $k$ for $d=0.85$.\n",
    "\n",
    "\n",
    "* (1 pts) Print names of the top-10 authors according to PageRank over DBLP when $d=0.85$. Comment on your findings."
   ]
  },
  {
   "cell_type": "code",
   "execution_count": 237,
   "metadata": {},
   "outputs": [],
   "source": [
    "from scipy.sparse import load_npz\n",
    "import numpy as np\n",
    "def load_dblp(path_auth, path_graph):\n",
    "    G = load_npz(path_graph).astype(float)\n",
    "    with np.load(path_auth) as data: authors = data['authors']\n",
    "    return G, authors\n",
    "G, authors = load_dblp('dblp_authors.npz', 'dblp_graph.npz')"
   ]
  },
  {
   "cell_type": "code",
   "execution_count": 238,
   "metadata": {},
   "outputs": [
    {
     "name": "stdout",
     "output_type": "stream",
     "text": [
      "Density of given weighted adjacency matrix is 4.5e-05 \n",
      "\n",
      "Top-10 authors: \n",
      " [['Scott Shenker']\n",
      " ['Andrew Zisserman']\n",
      " ['Hari Balakrishnan']\n",
      " ['Jiawei Han']\n",
      " ['Anil K. Jain']\n",
      " ['Cordelia Schmid']\n",
      " ['Jitendra Malik']\n",
      " ['Ion Stoica']\n",
      " ['David E. Culler']\n",
      " ['David G. Lowe']]\n"
     ]
    }
   ],
   "source": [
    "# Your code is here\n",
    "density = G.getnnz()/G.shape[0]/G.shape[0] # Density - number of non-zero elements divided by total number of elements\n",
    "print(\"Density of given weighted adjacency matrix is %.1e\" % density, '\\n')\n",
    "# Here I found indices of top 10 authors via sorting of dblp_authors.npz (axis=0) and slicing 10 most relevant\n",
    "print('Top-10 authors: \\n',authors[np.argsort(-G.sum(axis=0)[0, :])[0, :10][0, range(10)]].T)\n",
    "# before G there is minus because we don't want to get least cited authors"
   ]
  },
  {
   "cell_type": "code",
   "execution_count": 239,
   "metadata": {},
   "outputs": [],
   "source": [
    "G[G != 0] = 1 # Simple replacing non-zero entries (weights) of G with 1"
   ]
  },
  {
   "cell_type": "code",
   "execution_count": 240,
   "metadata": {},
   "outputs": [],
   "source": [
    "Page = pagerank_matrix(G) # Creating pagerank matrix Page"
   ]
  },
  {
   "cell_type": "code",
   "execution_count": 241,
   "metadata": {},
   "outputs": [
    {
     "name": "stdout",
     "output_type": "stream",
     "text": [
      "[[0. 1. 1. ... 1. 0. 0.]]\n"
     ]
    }
   ],
   "source": [
    "# Page_rank matrix is expected to be left-stochastic, so sum of all column elements should be 1 (axis=0)\n",
    "# But it is not (and in this particular case not even should be), so lets fill 0 columns with 1\n",
    "print(Page.sum(axis = 0))"
   ]
  },
  {
   "cell_type": "markdown",
   "metadata": {},
   "source": [
    "Here we can see that some columns are indeed can be summed in $1$, but there are purely 0 columns, that shoulbe also summed to $1$. The standard algorithm suggest to replace zero values with $\\frac{1}{N}$, so the sum will be equal $1$ indeed (it is obviously better than creating new edge corresponding to non-existing relation by replacing one of elements of null-column by $1$).\n",
    "\n",
    "But our matrix is sparse with a lot of zero elements to be changed in order to get left-stochastic matrix. So storing all this $\\frac{1}{N}$ elements is not efficient (both in terms of memory and computation) at all to store this numbers in sparse matrix.\n",
    "\n",
    "In telegram chat there were a suggestion (so yes, the source of this idea - our telegram chat) to store only the indices of such columns and then create an additional term in sum in pagerank_matvec. But instructors in Piazza specifically advised just replace zeros. So we will do:"
   ]
  },
  {
   "cell_type": "code",
   "execution_count": 231,
   "metadata": {},
   "outputs": [],
   "source": [
    "L=Page.sum(axis=1) # Takes time\n",
    "for i in range(Page.get_shape()[0]):\n",
    "    for j in Page.getrow(i).indices:\n",
    "        Page[i,j] = 1/L[i,0]"
   ]
  },
  {
   "cell_type": "code",
   "execution_count": 242,
   "metadata": {},
   "outputs": [],
   "source": [
    "from scipy.sparse.linalg import LinearOperator # Suggested linear operator function\n",
    "L = LinearOperator(Page.shape, matvec=lambda x, A=Page, d=d: pagerank_matvec(A, d, x))"
   ]
  },
  {
   "cell_type": "code",
   "execution_count": 243,
   "metadata": {
    "scrolled": true
   },
   "outputs": [],
   "source": [
    "d = 0.85\n",
    "num_iter = 100\n",
    "x = np.ones(Page.shape[0])\n",
    "x_e, l, res_e = power_method(L, x, num_iter)"
   ]
  },
  {
   "cell_type": "code",
   "execution_count": 258,
   "metadata": {},
   "outputs": [
    {
     "data": {
      "image/png": "[encoded data removed]",
      "text/plain": [
       "<Figure size 1008x504 with 1 Axes>"
      ]
     },
     "metadata": {
      "needs_background": "light"
     },
     "output_type": "display_data"
    }
   ],
   "source": [
    "plt.figure(figsize=(14, 7))\n",
    "plt.rcParams.update({'font.size': 18})\n",
    "plt.plot(res_e)\n",
    "plt.title('Convergence of power method applied to DBLP problem for %f' % d)\n",
    "plt.ylabel('Residuals')\n",
    "plt.xlabel('N, iterations')\n",
    "plt.yscale('log')\n",
    "\n",
    "plt.show()\n",
    "# Nice descent!"
   ]
  },
  {
   "cell_type": "code",
   "execution_count": 259,
   "metadata": {},
   "outputs": [
    {
     "name": "stdout",
     "output_type": "stream",
     "text": [
      "Top-10 authors: \n",
      " ['David E. Goldberg' 'Richard M. Karp' 'John E. Hopcroft'\n",
      " 'Azriel Rosenfeld' 'Ronald L. Rivest' 'Anil K. Jain' 'Takeo Kanade'\n",
      " 'Alfred V. Aho' 'Robert Endre Tarjan' 'Gerard Salton']\n"
     ]
    }
   ],
   "source": [
    "print('Top-10 authors: \\n',authors[np.argsort(x_e)[::-1][:10]])  # The information we need is in eigenvectors\n",
    "# The list completely changed. Possible factors thst affect it - elimination of weights (so this new binary system \n",
    "# contains actually less information than old weighted one) and creation of new connections in \"zero\" columns."
   ]
  },
  {
   "cell_type": "markdown",
   "metadata": {},
   "source": [
    "Useful sources: \n",
    "- http://home.ie.cuhk.edu.hk/~wkshum/papers/pagerank.pdf\n",
    "- https://courses.helsinki.fi/sites/default/files/course-material/4545800/stochastic.pdf\n",
    "- https://en.wikipedia.org/wiki/Google_matrix (and actually half of links in reference list)"
   ]
  }
 ],
 "metadata": {
  "kernelspec": {
   "display_name": "Python 3",
   "language": "python",
   "name": "python3"
  },
  "language_info": {
   "codemirror_mode": {
    "name": "ipython",
    "version": 3
   },
   "file_extension": ".py",
   "mimetype": "text/x-python",
   "name": "python",
   "nbconvert_exporter": "python",
   "pygments_lexer": "ipython3",
   "version": "3.7.4"
  },
  "toc": {
   "base_numbering": 1,
   "nav_menu": {},
   "number_sections": true,
   "sideBar": true,
   "skip_h1_title": false,
   "title_cell": "Table of Contents",
   "title_sidebar": "Contents",
   "toc_cell": false,
   "toc_position": {},
   "toc_section_display": true,
   "toc_window_display": false
  }
 },
 "nbformat": 4,
 "nbformat_minor": 2
}
